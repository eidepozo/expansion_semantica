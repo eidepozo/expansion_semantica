{
 "cells": [
  {
   "cell_type": "code",
   "execution_count": null,
   "metadata": {},
   "outputs": [],
   "source": [
    "# major fix\n",
    "for i in range(len(file_names)):\n",
    "    modelA_q[i]['sum_cos_fixed'] = modelA_q[i]['sum_cos'].apply(fix_sum_cos)\n",
    "    modelB_q[i]['sum_cos_fixed'] = modelB_q[i]['sum_cos'].apply(fix_sum_cos)\n",
    "    modelC_q[i]['sum_cos_fixed'] = modelC_q[i]['sum_cos'].apply(fix_sum_cos)"
   ]
  }
 ],
 "metadata": {
  "kernelspec": {
   "display_name": "Python 3",
   "language": "python",
   "name": "python3"
  },
  "language_info": {
   "codemirror_mode": {
    "name": "ipython",
    "version": 3
   },
   "file_extension": ".py",
   "mimetype": "text/x-python",
   "name": "python",
   "nbconvert_exporter": "python",
   "pygments_lexer": "ipython3",
   "version": "3.8.5"
  }
 },
 "nbformat": 4,
 "nbformat_minor": 4
}
