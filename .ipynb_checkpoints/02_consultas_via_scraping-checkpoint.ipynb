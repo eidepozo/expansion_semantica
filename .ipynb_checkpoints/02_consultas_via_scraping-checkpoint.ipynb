{
 "cells": [
  {
   "cell_type": "markdown",
   "metadata": {},
   "source": [
    "@eidepozo"
   ]
  },
  {
   "cell_type": "markdown",
   "metadata": {},
   "source": [
    "### Emisión de consultas\n",
    "\n",
    "Fuentes:\n",
    "\n",
    "https://www.rubydevices.com.au/blog/how-to-scrape-bing\n",
    "\n",
    "https://stackoverflow.com/questions/36730372/extract-the-text-from-p-within-div-with-beautifulsoup\n",
    "\n",
    "\n",
    "La busqueda mediante BS4 puede hacer que Bing bloquee temporalmente la busqueda, por lo que se implemento una busqueda alternativa con Selenium.\n",
    "\n",
    "https://stackoverflow.com/questions/21350605/python-selenium-click-on-button\n",
    "\n",
    "https://www.toptal.com/python/web-scraping-with-python"
   ]
  },
  {
   "cell_type": "code",
   "execution_count": 1,
   "metadata": {},
   "outputs": [],
   "source": [
    "from bing_search import bing_search"
   ]
  },
  {
   "cell_type": "code",
   "execution_count": 2,
   "metadata": {},
   "outputs": [
    {
     "data": {
      "text/plain": [
       "['03-06-2018\\xa0· Surprisingly, recommendation of news or videos for media, product recommendation or personalization in travel and retail can be handled by similar machine learning algorithms.',\n",
       " '01-03-2016\\xa0· “Best” is a very strong word. That said, here are some of my favorite algorithms. All of them can be used to implement efficient recommender systems in some contexts: * SVD++ * Alternating Least Squares (ALS) * Bayesian Personalized Ranking (BPR) ...',\n",
       " 'Due to the low occurrence frequency of long-tail queries, existing query recommendation solutions are ineffective on them. We have tested two well-known query recommendation algorithms [6, 8] on long-tail queries (see Section9) and found that they are far from accurate, reflecting that there is room for improvement in the recommendation process.']"
      ]
     },
     "execution_count": 2,
     "metadata": {},
     "output_type": "execute_result"
    }
   ],
   "source": [
    "bing_search(\"Query recommendation algorithms\")"
   ]
  },
  {
   "cell_type": "code",
   "execution_count": 1,
   "metadata": {},
   "outputs": [],
   "source": [
    "from bing_search import bing_search_alt"
   ]
  },
  {
   "cell_type": "code",
   "execution_count": 2,
   "metadata": {},
   "outputs": [
    {
     "data": {
      "text/plain": [
       "['Recommendation delivers several query algorithms. SAP Marketing Cloud delivers query algorithms that return a ranking of items in the order of their frequency of occurrence in a given data source. The algorithms normalize the raw frequencies and stretch them over the full int32 non-negative integer range, according to the following equation:',\n",
       " 'query recommendation models must be periodically re-built or updated. We propose two novel incremental algorithms, based on previously proposed, state-of-the-art query recommendation solutions, that update their model con-tinuously on the basis of each new query processed. …',\n",
       " \"hace 2 días  Instagram's algorithms recommend anti-vaxx and QAnon content, according to a report published Tuesday by the Center for Countering Digital Hate (CCDH). The NGO found that automated features on the platform highlighted posts containing misinformation about COVID-19 and the vaccines for it, as well as posts promoting the QAnon conspiracy theory.\"]"
      ]
     },
     "execution_count": 2,
     "metadata": {},
     "output_type": "execute_result"
    }
   ],
   "source": [
    "bing_search_alt(\"Query recommendation algorithms\")"
   ]
  },
  {
   "cell_type": "code",
   "execution_count": null,
   "metadata": {},
   "outputs": [],
   "source": []
  }
 ],
 "metadata": {
  "kernelspec": {
   "display_name": "Python 3",
   "language": "python",
   "name": "python3"
  },
  "language_info": {
   "codemirror_mode": {
    "name": "ipython",
    "version": 3
   },
   "file_extension": ".py",
   "mimetype": "text/x-python",
   "name": "python",
   "nbconvert_exporter": "python",
   "pygments_lexer": "ipython3",
   "version": "3.8.5"
  }
 },
 "nbformat": 4,
 "nbformat_minor": 4
}
