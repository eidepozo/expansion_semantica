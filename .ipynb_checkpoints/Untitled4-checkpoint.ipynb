{
 "cells": [
  {
   "cell_type": "code",
   "execution_count": null,
   "metadata": {},
   "outputs": [],
   "source": [
    "# major fix\n",
    "for i in range(len(file_names)):\n",
    "    modelA_q[i]['sum_cos_fixed'] = modelA_q[i]['sum_cos'].apply(fix_sum_cos)\n",
    "    modelB_q[i]['sum_cos_fixed'] = modelB_q[i]['sum_cos'].apply(fix_sum_cos)\n",
    "    modelC_q[i]['sum_cos_fixed'] = modelC_q[i]['sum_cos'].apply(fix_sum_cos)"
   ]
  }
 ],
 "metadata": {
  "kernelspec": {
   "display_name": "Python 3",
   "language": "python",
   "name": "python3"
  }
 },
 "nbformat": 4,
 "nbformat_minor": 4
}
