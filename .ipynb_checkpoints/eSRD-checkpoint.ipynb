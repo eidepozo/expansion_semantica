{
 "cells": [
  {
   "cell_type": "markdown",
   "metadata": {},
   "source": [
    "Elliot Ide Pozo"
   ]
  },
  {
   "cell_type": "markdown",
   "metadata": {},
   "source": [
    "- <del>Crear script en python que permita extraer la data desde el server de base de datos (activismo.inf.uach.cl)</del>\n",
    "- <del>Crear script en python que permita crear un json (dataset) de desafío, usuario, consulta, resultado (diccionario).</del>\n",
    "- <del>Crear un script para obtener la representación tf-idf (NLTK,,,).</del>\n",
    "- <del>Crear un script que calcule al menos una métrica de las establecidas por cada conjunto.</del>\n"
   ]
  },
  {
   "cell_type": "code",
   "execution_count": 1,
   "metadata": {},
   "outputs": [],
   "source": [
    "from sshtunnel import SSHTunnelForwarder\n",
    "import pymysql\n",
    "import pandas as pd"
   ]
  },
  {
   "cell_type": "code",
   "execution_count": 2,
   "metadata": {},
   "outputs": [],
   "source": [
    "# https://stackoverflow.com/questions/21903411/enable-python-to-connect-to-mysql-via-ssh-tunnelling\n",
    "# https://stackoverflow.com/questions/42726681/conecting-to-mysql-in-a-remote-server-from-python\n",
    "\n",
    "with SSHTunnelForwarder(\n",
    "            'activismo.inf.uach.cl',\n",
    "            ssh_username='vps238',\n",
    "            ssh_password='vps238.2018',\n",
    "            remote_bind_address=('127.0.0.1', 3306)) as tunnel:\n",
    "        conn = pymysql.connect(host='127.0.0.1', user='learning',\n",
    "                               passwd='analytic$',db='gonsa2',\n",
    "                               port=tunnel.local_bind_port)\n",
    "        query = \"SELECT date_executed, FK_challenge_id_number, FK_student_nick,id_number,query,snippet \\\n",
    "        FROM Students_query\\\n",
    "        INNER JOIN Students_queries_results ON FK_student_query_id_number = id_number\\\n",
    "        WHERE FK_challenge_id_number = 1 AND FK_student_nick != 'test_student'\\\n",
    "        LIMIT 20\";\n",
    "        data = pd.read_sql(query, conn)\n",
    "        conn.close()"
   ]
  },
  {
   "cell_type": "code",
   "execution_count": 3,
   "metadata": {},
   "outputs": [],
   "source": [
    "from bs4 import BeautifulSoup"
   ]
  },
  {
   "cell_type": "code",
   "execution_count": 4,
   "metadata": {},
   "outputs": [],
   "source": [
    "#https://www.crummy.com/software/BeautifulSoup/bs4/doc/\n",
    "#https://stackoverflow.com/questions/19798153/difference-between-map-applymap-and-apply-methods-in-pandas\n",
    "    \n",
    "# transformar en un objeto BeautifulSoup, para luego retornar el texto sin tags\n",
    "data['snippet'] = data['snippet'].map(lambda text: BeautifulSoup(text, 'html.parser').get_text())"
   ]
  },
  {
   "cell_type": "code",
   "execution_count": 5,
   "metadata": {},
   "outputs": [
    {
     "data": {
      "text/html": [
       "<div>\n",
       "<style scoped>\n",
       "    .dataframe tbody tr th:only-of-type {\n",
       "        vertical-align: middle;\n",
       "    }\n",
       "\n",
       "    .dataframe tbody tr th {\n",
       "        vertical-align: top;\n",
       "    }\n",
       "\n",
       "    .dataframe thead th {\n",
       "        text-align: right;\n",
       "    }\n",
       "</style>\n",
       "<table border=\"1\" class=\"dataframe\">\n",
       "  <thead>\n",
       "    <tr style=\"text-align: right;\">\n",
       "      <th></th>\n",
       "      <th>date_executed</th>\n",
       "      <th>FK_challenge_id_number</th>\n",
       "      <th>FK_student_nick</th>\n",
       "      <th>id_number</th>\n",
       "      <th>query</th>\n",
       "      <th>snippet</th>\n",
       "    </tr>\n",
       "  </thead>\n",
       "  <tbody>\n",
       "    <tr>\n",
       "      <th>0</th>\n",
       "      <td>2019-04-29 14:39:53</td>\n",
       "      <td>1</td>\n",
       "      <td>eespinoza</td>\n",
       "      <td>11</td>\n",
       "      <td>vih en chile</td>\n",
       "      <td>vih en chile. Es urgente aumentar el diagnósti...</td>\n",
       "    </tr>\n",
       "    <tr>\n",
       "      <th>1</th>\n",
       "      <td>2019-04-29 14:39:53</td>\n",
       "      <td>1</td>\n",
       "      <td>eespinoza</td>\n",
       "      <td>11</td>\n",
       "      <td>vih en chile</td>\n",
       "      <td>En Chile, la Ley 19.779 resguarda los derechos...</td>\n",
       "    </tr>\n",
       "    <tr>\n",
       "      <th>2</th>\n",
       "      <td>2019-04-29 14:39:53</td>\n",
       "      <td>1</td>\n",
       "      <td>eespinoza</td>\n",
       "      <td>11</td>\n",
       "      <td>vih en chile</td>\n",
       "      <td>¿Cuánto tarda una persona con VIH en llegar a ...</td>\n",
       "    </tr>\n",
       "    <tr>\n",
       "      <th>3</th>\n",
       "      <td>2019-04-29 14:39:53</td>\n",
       "      <td>1</td>\n",
       "      <td>eespinoza</td>\n",
       "      <td>11</td>\n",
       "      <td>vih en chile</td>\n",
       "      <td>VIH Sida en Chile: Cifras del Minsal indican q...</td>\n",
       "    </tr>\n",
       "    <tr>\n",
       "      <th>4</th>\n",
       "      <td>2019-04-29 14:39:53</td>\n",
       "      <td>1</td>\n",
       "      <td>eespinoza</td>\n",
       "      <td>11</td>\n",
       "      <td>vih en chile</td>\n",
       "      <td>En los últimos diez años los contagios de VIH ...</td>\n",
       "    </tr>\n",
       "    <tr>\n",
       "      <th>5</th>\n",
       "      <td>2019-04-29 14:39:53</td>\n",
       "      <td>1</td>\n",
       "      <td>eespinoza</td>\n",
       "      <td>11</td>\n",
       "      <td>vih en chile</td>\n",
       "      <td>Advierten que el VIH sida está descontrolado e...</td>\n",
       "    </tr>\n",
       "    <tr>\n",
       "      <th>6</th>\n",
       "      <td>2019-04-29 14:39:53</td>\n",
       "      <td>1</td>\n",
       "      <td>eespinoza</td>\n",
       "      <td>11</td>\n",
       "      <td>vih en chile</td>\n",
       "      <td>SIDA en Chile: la epidemia que crece silencios...</td>\n",
       "    </tr>\n",
       "    <tr>\n",
       "      <th>7</th>\n",
       "      <td>2019-04-29 14:39:53</td>\n",
       "      <td>1</td>\n",
       "      <td>eespinoza</td>\n",
       "      <td>11</td>\n",
       "      <td>vih en chile</td>\n",
       "      <td>del tratamiento anti-vih para ayudar y protege...</td>\n",
       "    </tr>\n",
       "    <tr>\n",
       "      <th>8</th>\n",
       "      <td>2019-04-29 14:39:53</td>\n",
       "      <td>1</td>\n",
       "      <td>eespinoza</td>\n",
       "      <td>11</td>\n",
       "      <td>vih en chile</td>\n",
       "      <td>Para el presidente de la Corporación Sida Chil...</td>\n",
       "    </tr>\n",
       "    <tr>\n",
       "      <th>9</th>\n",
       "      <td>2019-04-29 14:39:53</td>\n",
       "      <td>1</td>\n",
       "      <td>eespinoza</td>\n",
       "      <td>11</td>\n",
       "      <td>vih en chile</td>\n",
       "      <td>Informe revela que Chile es el país donde más ...</td>\n",
       "    </tr>\n",
       "    <tr>\n",
       "      <th>10</th>\n",
       "      <td>2019-04-29 14:39:53</td>\n",
       "      <td>1</td>\n",
       "      <td>eespinoza</td>\n",
       "      <td>11</td>\n",
       "      <td>vih en chile</td>\n",
       "      <td>La Campaña, se enfoca en la estrategia de la P...</td>\n",
       "    </tr>\n",
       "    <tr>\n",
       "      <th>11</th>\n",
       "      <td>2019-04-29 14:39:53</td>\n",
       "      <td>1</td>\n",
       "      <td>eespinoza</td>\n",
       "      <td>11</td>\n",
       "      <td>vih en chile</td>\n",
       "      <td>Casos de VIH en Chile aumentan un 45% entre 20...</td>\n",
       "    </tr>\n",
       "    <tr>\n",
       "      <th>12</th>\n",
       "      <td>2019-04-29 14:39:53</td>\n",
       "      <td>1</td>\n",
       "      <td>eespinoza</td>\n",
       "      <td>11</td>\n",
       "      <td>vih en chile</td>\n",
       "      <td>Chile está dentro de los países que registran ...</td>\n",
       "    </tr>\n",
       "    <tr>\n",
       "      <th>13</th>\n",
       "      <td>2019-04-29 14:39:53</td>\n",
       "      <td>1</td>\n",
       "      <td>eespinoza</td>\n",
       "      <td>11</td>\n",
       "      <td>vih en chile</td>\n",
       "      <td>Corporación Sida Chile asegura que contagios d...</td>\n",
       "    </tr>\n",
       "    <tr>\n",
       "      <th>14</th>\n",
       "      <td>2019-04-29 14:39:53</td>\n",
       "      <td>1</td>\n",
       "      <td>eespinoza</td>\n",
       "      <td>11</td>\n",
       "      <td>vih en chile</td>\n",
       "      <td>VIH Sida en Chile: Las 8 medidas del Minsal pa...</td>\n",
       "    </tr>\n",
       "    <tr>\n",
       "      <th>15</th>\n",
       "      <td>2019-04-29 14:39:53</td>\n",
       "      <td>1</td>\n",
       "      <td>eespinoza</td>\n",
       "      <td>11</td>\n",
       "      <td>vih en chile</td>\n",
       "      <td>Extracto inédito de “Sida en Chile. Historias ...</td>\n",
       "    </tr>\n",
       "    <tr>\n",
       "      <th>16</th>\n",
       "      <td>2019-04-29 14:39:53</td>\n",
       "      <td>1</td>\n",
       "      <td>eespinoza</td>\n",
       "      <td>11</td>\n",
       "      <td>vih en chile</td>\n",
       "      <td>como VIH. Desde el inicio de la epidemia en Ch...</td>\n",
       "    </tr>\n",
       "    <tr>\n",
       "      <th>17</th>\n",
       "      <td>2019-04-29 14:39:53</td>\n",
       "      <td>1</td>\n",
       "      <td>eespinoza</td>\n",
       "      <td>11</td>\n",
       "      <td>vih en chile</td>\n",
       "      <td>A fines de 2017, el Hospital Clínico de la U. ...</td>\n",
       "    </tr>\n",
       "    <tr>\n",
       "      <th>18</th>\n",
       "      <td>2019-04-29 14:39:53</td>\n",
       "      <td>1</td>\n",
       "      <td>eespinoza</td>\n",
       "      <td>11</td>\n",
       "      <td>vih en chile</td>\n",
       "      <td>La iglesia católica de Chile, específicamente ...</td>\n",
       "    </tr>\n",
       "    <tr>\n",
       "      <th>19</th>\n",
       "      <td>2019-04-29 14:39:53</td>\n",
       "      <td>1</td>\n",
       "      <td>eespinoza</td>\n",
       "      <td>11</td>\n",
       "      <td>vih en chile</td>\n",
       "      <td>La mayor parte se concentra en jóvenes de 15 a...</td>\n",
       "    </tr>\n",
       "  </tbody>\n",
       "</table>\n",
       "</div>"
      ],
      "text/plain": [
       "         date_executed  FK_challenge_id_number FK_student_nick  id_number  \\\n",
       "0  2019-04-29 14:39:53                       1       eespinoza         11   \n",
       "1  2019-04-29 14:39:53                       1       eespinoza         11   \n",
       "2  2019-04-29 14:39:53                       1       eespinoza         11   \n",
       "3  2019-04-29 14:39:53                       1       eespinoza         11   \n",
       "4  2019-04-29 14:39:53                       1       eespinoza         11   \n",
       "5  2019-04-29 14:39:53                       1       eespinoza         11   \n",
       "6  2019-04-29 14:39:53                       1       eespinoza         11   \n",
       "7  2019-04-29 14:39:53                       1       eespinoza         11   \n",
       "8  2019-04-29 14:39:53                       1       eespinoza         11   \n",
       "9  2019-04-29 14:39:53                       1       eespinoza         11   \n",
       "10 2019-04-29 14:39:53                       1       eespinoza         11   \n",
       "11 2019-04-29 14:39:53                       1       eespinoza         11   \n",
       "12 2019-04-29 14:39:53                       1       eespinoza         11   \n",
       "13 2019-04-29 14:39:53                       1       eespinoza         11   \n",
       "14 2019-04-29 14:39:53                       1       eespinoza         11   \n",
       "15 2019-04-29 14:39:53                       1       eespinoza         11   \n",
       "16 2019-04-29 14:39:53                       1       eespinoza         11   \n",
       "17 2019-04-29 14:39:53                       1       eespinoza         11   \n",
       "18 2019-04-29 14:39:53                       1       eespinoza         11   \n",
       "19 2019-04-29 14:39:53                       1       eespinoza         11   \n",
       "\n",
       "           query                                            snippet  \n",
       "0   vih en chile  vih en chile. Es urgente aumentar el diagnósti...  \n",
       "1   vih en chile  En Chile, la Ley 19.779 resguarda los derechos...  \n",
       "2   vih en chile  ¿Cuánto tarda una persona con VIH en llegar a ...  \n",
       "3   vih en chile  VIH Sida en Chile: Cifras del Minsal indican q...  \n",
       "4   vih en chile  En los últimos diez años los contagios de VIH ...  \n",
       "5   vih en chile  Advierten que el VIH sida está descontrolado e...  \n",
       "6   vih en chile  SIDA en Chile: la epidemia que crece silencios...  \n",
       "7   vih en chile  del tratamiento anti-vih para ayudar y protege...  \n",
       "8   vih en chile  Para el presidente de la Corporación Sida Chil...  \n",
       "9   vih en chile  Informe revela que Chile es el país donde más ...  \n",
       "10  vih en chile  La Campaña, se enfoca en la estrategia de la P...  \n",
       "11  vih en chile  Casos de VIH en Chile aumentan un 45% entre 20...  \n",
       "12  vih en chile  Chile está dentro de los países que registran ...  \n",
       "13  vih en chile  Corporación Sida Chile asegura que contagios d...  \n",
       "14  vih en chile  VIH Sida en Chile: Las 8 medidas del Minsal pa...  \n",
       "15  vih en chile  Extracto inédito de “Sida en Chile. Historias ...  \n",
       "16  vih en chile  como VIH. Desde el inicio de la epidemia en Ch...  \n",
       "17  vih en chile  A fines de 2017, el Hospital Clínico de la U. ...  \n",
       "18  vih en chile  La iglesia católica de Chile, específicamente ...  \n",
       "19  vih en chile  La mayor parte se concentra en jóvenes de 15 a...  "
      ]
     },
     "execution_count": 5,
     "metadata": {},
     "output_type": "execute_result"
    }
   ],
   "source": [
    "data"
   ]
  },
  {
   "cell_type": "markdown",
   "metadata": {},
   "source": [
    "### Estimación TF-IDF "
   ]
  },
  {
   "cell_type": "markdown",
   "metadata": {},
   "source": [
    "Fuente: \n",
    "\n",
    "https://www.youtube.com/watch?v=hc3DCn8viWs\n",
    "    \n",
    "**Drawbacks**\n",
    "- Only based on terms\n",
    "- Weak on capturing document topic\n",
    "- Weak handling synonyms\n",
    "\n",
    "**How to overcome drawbacks**\n",
    "- LSA (Latent Semantic Analysis)\n",
    "- Word Embedding (Word2Vec, Glove)\n",
    "- ConceptNet"
   ]
  },
  {
   "cell_type": "code",
   "execution_count": 6,
   "metadata": {},
   "outputs": [],
   "source": [
    "q = pd.Series(data['query'][0])"
   ]
  },
  {
   "cell_type": "code",
   "execution_count": 7,
   "metadata": {
    "scrolled": true
   },
   "outputs": [
    {
     "data": {
      "text/plain": [
       "0                                         vih en chile\n",
       "1    vih en chile. Es urgente aumentar el diagnósti...\n",
       "2    En Chile, la Ley 19.779 resguarda los derechos...\n",
       "3    ¿Cuánto tarda una persona con VIH en llegar a ...\n",
       "4    VIH Sida en Chile: Cifras del Minsal indican q...\n",
       "5    En los últimos diez años los contagios de VIH ...\n",
       "6    Advierten que el VIH sida está descontrolado e...\n",
       "dtype: object"
      ]
     },
     "execution_count": 7,
     "metadata": {},
     "output_type": "execute_result"
    }
   ],
   "source": [
    "corpus = q.append(data['snippet'][:6], ignore_index=True) # q, d1, d2 y d3\n",
    "corpus"
   ]
  },
  {
   "cell_type": "code",
   "execution_count": 8,
   "metadata": {},
   "outputs": [],
   "source": [
    "import nltk\n",
    "from nltk.corpus import stopwords\n",
    "\n",
    "es_sw = stopwords.words('spanish') # lista stopword a usar"
   ]
  },
  {
   "cell_type": "code",
   "execution_count": 9,
   "metadata": {},
   "outputs": [],
   "source": [
    "from sklearn.feature_extraction.text import TfidfVectorizer"
   ]
  },
  {
   "cell_type": "code",
   "execution_count": 10,
   "metadata": {},
   "outputs": [],
   "source": [
    "tf = TfidfVectorizer(stop_words=es_sw) # crear la transformación\n",
    "\n",
    "tfidf_matrix = tf.fit_transform(corpus)"
   ]
  },
  {
   "cell_type": "code",
   "execution_count": 11,
   "metadata": {},
   "outputs": [
    {
     "name": "stdout",
     "output_type": "stream",
     "text": [
      "['15', '19', '2016', '2018', '25', '67', '779', '96', 'acceso', 'adecuadamente', 'administración', 'adolescente', 'advierten', 'afectados', 'anterior', 'asimismo', 'aumentado', 'aumentar', 'años', 'brote', 'calcula', 'campañas', 'capacidad', 'cartera', 'casos', 'cautela', 'chile', 'ciento', 'cifras', 'contagia', 'contagios', 'control', 'corporación', 'crecieron', 'cuánto', 'cómo', 'derechos', 'desarrollar', 'descontrolado', 'diagnosticada', 'diagnóstico', 'diez', 'dificultades', 'discriminaciones', 'edad', 'educación', 'ejercicio', 'epidémico', 'estudiada', 'etapa', 'falta', 'grupo', 'igualitario', 'impidiendo', 'indican', 'infección', 'infectada', 'infectadas', 'infectarse', 'joven', 'latinoamérica', 'lejos', 'ley', 'libre', 'lidera', 'llegar', 'mejorar', 'ministra', 'minsal', 'mitad', 'mundial', 'opción', 'organización', 'periodo', 'persona', 'personas', 'población', 'prevalencia', 'prevención', 'principales', 'producen', 'puedo', 'realizarse', 'resguarda', 'respecto', 'respuesta', 'riesgo', 'saber', 'salud', 'si', 'sida', 'sido', 'siendo', 'siete', 'sostuvo', 'síntomas', 'tarda', 'test', 'trabaja', 'trabajo', 'tratamiento', 'urgente', 'ventana', 'vih', 'viven', 'últimos'] 106\n"
     ]
    }
   ],
   "source": [
    "# https://stackoverflow.com/questions/34449127/sklearn-tfidf-transformer-how-to-get-tf-idf-values-of-given-words-in-documen\n",
    "\n",
    "feature_names = tf.get_feature_names()\n",
    "print(feature_names, len(feature_names))"
   ]
  },
  {
   "cell_type": "code",
   "execution_count": 12,
   "metadata": {},
   "outputs": [
    {
     "data": {
      "text/html": [
       "<div>\n",
       "<style scoped>\n",
       "    .dataframe tbody tr th:only-of-type {\n",
       "        vertical-align: middle;\n",
       "    }\n",
       "\n",
       "    .dataframe tbody tr th {\n",
       "        vertical-align: top;\n",
       "    }\n",
       "\n",
       "    .dataframe thead th {\n",
       "        text-align: right;\n",
       "    }\n",
       "</style>\n",
       "<table border=\"1\" class=\"dataframe\">\n",
       "  <thead>\n",
       "    <tr style=\"text-align: right;\">\n",
       "      <th></th>\n",
       "      <th>15</th>\n",
       "      <th>19</th>\n",
       "      <th>2016</th>\n",
       "      <th>2018</th>\n",
       "      <th>25</th>\n",
       "      <th>67</th>\n",
       "      <th>779</th>\n",
       "      <th>96</th>\n",
       "      <th>acceso</th>\n",
       "      <th>adecuadamente</th>\n",
       "      <th>...</th>\n",
       "      <th>tarda</th>\n",
       "      <th>test</th>\n",
       "      <th>trabaja</th>\n",
       "      <th>trabajo</th>\n",
       "      <th>tratamiento</th>\n",
       "      <th>urgente</th>\n",
       "      <th>ventana</th>\n",
       "      <th>vih</th>\n",
       "      <th>viven</th>\n",
       "      <th>últimos</th>\n",
       "    </tr>\n",
       "  </thead>\n",
       "  <tbody>\n",
       "    <tr>\n",
       "      <th>0</th>\n",
       "      <td>0.000000</td>\n",
       "      <td>0.000000</td>\n",
       "      <td>0.000000</td>\n",
       "      <td>0.000000</td>\n",
       "      <td>0.000000</td>\n",
       "      <td>0.000000</td>\n",
       "      <td>0.000000</td>\n",
       "      <td>0.000000</td>\n",
       "      <td>0.000000</td>\n",
       "      <td>0.000000</td>\n",
       "      <td>...</td>\n",
       "      <td>0.000000</td>\n",
       "      <td>0.000000</td>\n",
       "      <td>0.000000</td>\n",
       "      <td>0.000000</td>\n",
       "      <td>0.000000</td>\n",
       "      <td>0.000000</td>\n",
       "      <td>0.000000</td>\n",
       "      <td>0.707107</td>\n",
       "      <td>0.000000</td>\n",
       "      <td>0.000000</td>\n",
       "    </tr>\n",
       "    <tr>\n",
       "      <th>1</th>\n",
       "      <td>0.000000</td>\n",
       "      <td>0.000000</td>\n",
       "      <td>0.000000</td>\n",
       "      <td>0.000000</td>\n",
       "      <td>0.000000</td>\n",
       "      <td>0.000000</td>\n",
       "      <td>0.000000</td>\n",
       "      <td>0.000000</td>\n",
       "      <td>0.000000</td>\n",
       "      <td>0.216217</td>\n",
       "      <td>...</td>\n",
       "      <td>0.000000</td>\n",
       "      <td>0.000000</td>\n",
       "      <td>0.000000</td>\n",
       "      <td>0.000000</td>\n",
       "      <td>0.179479</td>\n",
       "      <td>0.216217</td>\n",
       "      <td>0.000000</td>\n",
       "      <td>0.090608</td>\n",
       "      <td>0.000000</td>\n",
       "      <td>0.000000</td>\n",
       "    </tr>\n",
       "    <tr>\n",
       "      <th>2</th>\n",
       "      <td>0.000000</td>\n",
       "      <td>0.185223</td>\n",
       "      <td>0.000000</td>\n",
       "      <td>0.000000</td>\n",
       "      <td>0.000000</td>\n",
       "      <td>0.000000</td>\n",
       "      <td>0.185223</td>\n",
       "      <td>0.000000</td>\n",
       "      <td>0.185223</td>\n",
       "      <td>0.000000</td>\n",
       "      <td>...</td>\n",
       "      <td>0.000000</td>\n",
       "      <td>0.000000</td>\n",
       "      <td>0.000000</td>\n",
       "      <td>0.185223</td>\n",
       "      <td>0.153751</td>\n",
       "      <td>0.000000</td>\n",
       "      <td>0.000000</td>\n",
       "      <td>0.155239</td>\n",
       "      <td>0.185223</td>\n",
       "      <td>0.000000</td>\n",
       "    </tr>\n",
       "    <tr>\n",
       "      <th>3</th>\n",
       "      <td>0.000000</td>\n",
       "      <td>0.000000</td>\n",
       "      <td>0.163046</td>\n",
       "      <td>0.163046</td>\n",
       "      <td>0.000000</td>\n",
       "      <td>0.000000</td>\n",
       "      <td>0.000000</td>\n",
       "      <td>0.000000</td>\n",
       "      <td>0.000000</td>\n",
       "      <td>0.000000</td>\n",
       "      <td>...</td>\n",
       "      <td>0.163046</td>\n",
       "      <td>0.000000</td>\n",
       "      <td>0.000000</td>\n",
       "      <td>0.000000</td>\n",
       "      <td>0.000000</td>\n",
       "      <td>0.000000</td>\n",
       "      <td>0.163046</td>\n",
       "      <td>0.204978</td>\n",
       "      <td>0.000000</td>\n",
       "      <td>0.000000</td>\n",
       "    </tr>\n",
       "    <tr>\n",
       "      <th>4</th>\n",
       "      <td>0.228361</td>\n",
       "      <td>0.000000</td>\n",
       "      <td>0.000000</td>\n",
       "      <td>0.000000</td>\n",
       "      <td>0.228361</td>\n",
       "      <td>0.000000</td>\n",
       "      <td>0.000000</td>\n",
       "      <td>0.228361</td>\n",
       "      <td>0.000000</td>\n",
       "      <td>0.000000</td>\n",
       "      <td>...</td>\n",
       "      <td>0.000000</td>\n",
       "      <td>0.000000</td>\n",
       "      <td>0.000000</td>\n",
       "      <td>0.000000</td>\n",
       "      <td>0.000000</td>\n",
       "      <td>0.000000</td>\n",
       "      <td>0.000000</td>\n",
       "      <td>0.095697</td>\n",
       "      <td>0.000000</td>\n",
       "      <td>0.000000</td>\n",
       "    </tr>\n",
       "    <tr>\n",
       "      <th>5</th>\n",
       "      <td>0.000000</td>\n",
       "      <td>0.000000</td>\n",
       "      <td>0.000000</td>\n",
       "      <td>0.000000</td>\n",
       "      <td>0.000000</td>\n",
       "      <td>0.211202</td>\n",
       "      <td>0.000000</td>\n",
       "      <td>0.000000</td>\n",
       "      <td>0.000000</td>\n",
       "      <td>0.000000</td>\n",
       "      <td>...</td>\n",
       "      <td>0.000000</td>\n",
       "      <td>0.211202</td>\n",
       "      <td>0.000000</td>\n",
       "      <td>0.000000</td>\n",
       "      <td>0.000000</td>\n",
       "      <td>0.000000</td>\n",
       "      <td>0.000000</td>\n",
       "      <td>0.088506</td>\n",
       "      <td>0.000000</td>\n",
       "      <td>0.211202</td>\n",
       "    </tr>\n",
       "    <tr>\n",
       "      <th>6</th>\n",
       "      <td>0.000000</td>\n",
       "      <td>0.000000</td>\n",
       "      <td>0.000000</td>\n",
       "      <td>0.000000</td>\n",
       "      <td>0.000000</td>\n",
       "      <td>0.000000</td>\n",
       "      <td>0.000000</td>\n",
       "      <td>0.000000</td>\n",
       "      <td>0.000000</td>\n",
       "      <td>0.000000</td>\n",
       "      <td>...</td>\n",
       "      <td>0.000000</td>\n",
       "      <td>0.000000</td>\n",
       "      <td>0.283755</td>\n",
       "      <td>0.000000</td>\n",
       "      <td>0.000000</td>\n",
       "      <td>0.000000</td>\n",
       "      <td>0.000000</td>\n",
       "      <td>0.118910</td>\n",
       "      <td>0.000000</td>\n",
       "      <td>0.000000</td>\n",
       "    </tr>\n",
       "  </tbody>\n",
       "</table>\n",
       "<p>7 rows × 106 columns</p>\n",
       "</div>"
      ],
      "text/plain": [
       "         15        19      2016      2018        25        67       779  \\\n",
       "0  0.000000  0.000000  0.000000  0.000000  0.000000  0.000000  0.000000   \n",
       "1  0.000000  0.000000  0.000000  0.000000  0.000000  0.000000  0.000000   \n",
       "2  0.000000  0.185223  0.000000  0.000000  0.000000  0.000000  0.185223   \n",
       "3  0.000000  0.000000  0.163046  0.163046  0.000000  0.000000  0.000000   \n",
       "4  0.228361  0.000000  0.000000  0.000000  0.228361  0.000000  0.000000   \n",
       "5  0.000000  0.000000  0.000000  0.000000  0.000000  0.211202  0.000000   \n",
       "6  0.000000  0.000000  0.000000  0.000000  0.000000  0.000000  0.000000   \n",
       "\n",
       "         96    acceso  adecuadamente  ...     tarda      test   trabaja  \\\n",
       "0  0.000000  0.000000       0.000000  ...  0.000000  0.000000  0.000000   \n",
       "1  0.000000  0.000000       0.216217  ...  0.000000  0.000000  0.000000   \n",
       "2  0.000000  0.185223       0.000000  ...  0.000000  0.000000  0.000000   \n",
       "3  0.000000  0.000000       0.000000  ...  0.163046  0.000000  0.000000   \n",
       "4  0.228361  0.000000       0.000000  ...  0.000000  0.000000  0.000000   \n",
       "5  0.000000  0.000000       0.000000  ...  0.000000  0.211202  0.000000   \n",
       "6  0.000000  0.000000       0.000000  ...  0.000000  0.000000  0.283755   \n",
       "\n",
       "    trabajo  tratamiento   urgente   ventana       vih     viven   últimos  \n",
       "0  0.000000     0.000000  0.000000  0.000000  0.707107  0.000000  0.000000  \n",
       "1  0.000000     0.179479  0.216217  0.000000  0.090608  0.000000  0.000000  \n",
       "2  0.185223     0.153751  0.000000  0.000000  0.155239  0.185223  0.000000  \n",
       "3  0.000000     0.000000  0.000000  0.163046  0.204978  0.000000  0.000000  \n",
       "4  0.000000     0.000000  0.000000  0.000000  0.095697  0.000000  0.000000  \n",
       "5  0.000000     0.000000  0.000000  0.000000  0.088506  0.000000  0.211202  \n",
       "6  0.000000     0.000000  0.000000  0.000000  0.118910  0.000000  0.000000  \n",
       "\n",
       "[7 rows x 106 columns]"
      ]
     },
     "execution_count": 12,
     "metadata": {},
     "output_type": "execute_result"
    }
   ],
   "source": [
    "#https://towardsdatascience.com/natural-language-processing-feature-engineering-using-tf-idf-e8b9d00e7e76\n",
    "\n",
    "dense = tfidf_matrix.todense()\n",
    "denselist = dense.tolist()\n",
    "df = pd.DataFrame(denselist, columns=feature_names)\n",
    "df"
   ]
  },
  {
   "cell_type": "code",
   "execution_count": 13,
   "metadata": {},
   "outputs": [
    {
     "name": "stdout",
     "output_type": "stream",
     "text": [
      "  (0, 100)\t0.1794789884674251\n",
      "  (0, 31)\t0.1794789884674251\n",
      "  (0, 39)\t0.2162173733390351\n",
      "  (0, 56)\t0.1794789884674251\n",
      "  (0, 69)\t0.2162173733390351\n",
      "  (0, 20)\t0.2162173733390351\n",
      "  (0, 48)\t0.2162173733390351\n",
      "  (0, 9)\t0.2162173733390351\n",
      "  (0, 91)\t0.4324347466780702\n",
      "  (0, 60)\t0.2162173733390351\n",
      "  (0, 55)\t0.2162173733390351\n",
      "  (0, 77)\t0.2162173733390351\n",
      "  (0, 57)\t0.2162173733390351\n",
      "  (0, 75)\t0.3589579769348502\n",
      "  (0, 40)\t0.1794789884674251\n",
      "  (0, 17)\t0.2162173733390351\n",
      "  (0, 101)\t0.2162173733390351\n",
      "  (0, 26)\t0.18121601162193923\n",
      "  (0, 103)\t0.09060800581096962\n"
     ]
    }
   ],
   "source": [
    "print(tfidf_matrix[1])"
   ]
  },
  {
   "cell_type": "markdown",
   "metadata": {},
   "source": [
    "### Similaridad del coseno\n",
    "\n",
    "Fuentes:\n",
    "\n",
    "https://intellipaat.com/community/1103/python-tf-idf-cosine-to-find-document-similarity"
   ]
  },
  {
   "cell_type": "code",
   "execution_count": 14,
   "metadata": {},
   "outputs": [],
   "source": [
    "from sklearn.metrics.pairwise import linear_kernel\n",
    "import numpy as np"
   ]
  },
  {
   "cell_type": "code",
   "execution_count": 15,
   "metadata": {},
   "outputs": [
    {
     "data": {
      "text/plain": [
       "array([[1.        , 0.19220861, 0.16465622, 0.1932551 , 0.13533588,\n",
       "        0.1251668 , 0.16816463],\n",
       "       [0.19220861, 1.        , 0.22129782, 0.05524548, 0.02601272,\n",
       "        0.02405814, 0.03232269],\n",
       "       [0.16465622, 0.22129782, 1.        , 0.11312296, 0.03833506,\n",
       "        0.04756454, 0.08384885],\n",
       "       [0.1932551 , 0.05524548, 0.11312296, 1.        , 0.06854225,\n",
       "        0.02418912, 0.08516872],\n",
       "       [0.13533588, 0.02601272, 0.03833506, 0.06854225, 1.        ,\n",
       "        0.11663779, 0.04734847],\n",
       "       [0.1251668 , 0.02405814, 0.04756454, 0.02418912, 0.11663779,\n",
       "        1.        , 0.02104863],\n",
       "       [0.16816463, 0.03232269, 0.08384885, 0.08516872, 0.04734847,\n",
       "        0.02104863, 1.        ]])"
      ]
     },
     "execution_count": 15,
     "metadata": {},
     "output_type": "execute_result"
    }
   ],
   "source": [
    "S = []\n",
    "for i in range(corpus.count()):\n",
    "    S.append(linear_kernel(tfidf_matrix[i], tfidf_matrix).flatten()) # equivalente a cos\n",
    "\n",
    "S = np.asarray(S)\n",
    "S"
   ]
  },
  {
   "cell_type": "markdown",
   "metadata": {},
   "source": [
    "### Estimacion MMR"
   ]
  },
  {
   "cell_type": "markdown",
   "metadata": {},
   "source": [
    "Fuentes:\n",
    "\n",
    "http://www.cs.bilkent.edu.tr/~canf/CS533/hwSpring14/eightMinPresentations/handoutMMR.pdf\n",
    "https://www.quora.com/What-is-maximal-marginal-relevance-MMR\n",
    "\n",
    "MMR is a measure for quantifying the extend of dissimilarity between the item being considered and those already selected.\n",
    "Higher MMR means the considered item is both relevant to the query and contains minimal similarity to previous selected items."
   ]
  },
  {
   "cell_type": "code",
   "execution_count": 16,
   "metadata": {
    "scrolled": true
   },
   "outputs": [
    {
     "data": {
      "text/plain": [
       "array([[1.        , 0.19220861, 0.16465622, 0.1932551 , 0.13533588,\n",
       "        0.1251668 , 0.16816463],\n",
       "       [0.19220861, 1.        , 0.22129782, 0.05524548, 0.02601272,\n",
       "        0.02405814, 0.03232269],\n",
       "       [0.16465622, 0.22129782, 1.        , 0.11312296, 0.03833506,\n",
       "        0.04756454, 0.08384885],\n",
       "       [0.1932551 , 0.05524548, 0.11312296, 1.        , 0.06854225,\n",
       "        0.02418912, 0.08516872],\n",
       "       [0.13533588, 0.02601272, 0.03833506, 0.06854225, 1.        ,\n",
       "        0.11663779, 0.04734847],\n",
       "       [0.1251668 , 0.02405814, 0.04756454, 0.02418912, 0.11663779,\n",
       "        1.        , 0.02104863],\n",
       "       [0.16816463, 0.03232269, 0.08384885, 0.08516872, 0.04734847,\n",
       "        0.02104863, 1.        ]])"
      ]
     },
     "execution_count": 16,
     "metadata": {},
     "output_type": "execute_result"
    }
   ],
   "source": [
    "S"
   ]
  },
  {
   "cell_type": "code",
   "execution_count": 17,
   "metadata": {},
   "outputs": [],
   "source": [
    "from collections import OrderedDict, Counter"
   ]
  },
  {
   "cell_type": "code",
   "execution_count": 18,
   "metadata": {},
   "outputs": [],
   "source": [
    "docs = list(range(1,corpus.count()))"
   ]
  },
  {
   "cell_type": "code",
   "execution_count": 19,
   "metadata": {},
   "outputs": [],
   "source": [
    "lambda_ = 0.5"
   ]
  },
  {
   "cell_type": "code",
   "execution_count": 20,
   "metadata": {},
   "outputs": [],
   "source": [
    "#https://pymotw.com/2/collections/ordereddict.html\n",
    "\n",
    "selected = OrderedDict()\n",
    "init_idx= np.argmax(S[0][1::]) + 1 # el indice del d con mayor similaridad a q\n",
    "selected[init_idx] = S[init_idx,0]"
   ]
  },
  {
   "cell_type": "code",
   "execution_count": 21,
   "metadata": {},
   "outputs": [
    {
     "data": {
      "text/plain": [
       "([1, 2, 3, 4, 5, 6], OrderedDict([(3, 0.19325509863324558)]))"
      ]
     },
     "execution_count": 21,
     "metadata": {},
     "output_type": "execute_result"
    }
   ],
   "source": [
    "docs, selected"
   ]
  },
  {
   "cell_type": "code",
   "execution_count": 22,
   "metadata": {},
   "outputs": [],
   "source": [
    "#https://www.quora.com/Where-can-I-find-a-maximum-marginal-relevance-algorithm-in-Python-for-redundancy-removal-in-two-documents\n",
    "\n",
    "while Counter(selected.keys()) != Counter(docs): # comparar la lista de docs con los seleccionados\n",
    "    remaining = [x for x in docs if x not in selected]\n",
    "    mmr_score = lambda x: lambda_*S[x, 0] - (1-lambda_)*max([S[x, y] for y in selected])\n",
    "    result = {k: mmr_score(k) for k in remaining}\n",
    "    next_selected = max(result, key=result.get) \n",
    "    selected[next_selected] = result[next_selected]"
   ]
  },
  {
   "cell_type": "code",
   "execution_count": 23,
   "metadata": {},
   "outputs": [
    {
     "data": {
      "text/plain": [
       "OrderedDict([(3, 0.19325509863324558),\n",
       "             (1, 0.06848156321586256),\n",
       "             (5, 0.050488840244009875),\n",
       "             (6, 0.04149795545339412),\n",
       "             (4, 0.009349044287457836),\n",
       "             (2, -0.028320796616313815)])"
      ]
     },
     "execution_count": 23,
     "metadata": {},
     "output_type": "execute_result"
    }
   ],
   "source": [
    "selected"
   ]
  }
 ],
 "metadata": {
  "kernelspec": {
   "display_name": "Python 3",
   "language": "python",
   "name": "python3"
  },
  "language_info": {
   "codemirror_mode": {
    "name": "ipython",
    "version": 3
   },
   "file_extension": ".py",
   "mimetype": "text/x-python",
   "name": "python",
   "nbconvert_exporter": "python",
   "pygments_lexer": "ipython3",
   "version": "3.7.6"
  }
 },
 "nbformat": 4,
 "nbformat_minor": 4
}
