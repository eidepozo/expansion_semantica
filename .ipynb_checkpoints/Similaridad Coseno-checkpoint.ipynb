{
 "cells": [
  {
   "cell_type": "markdown",
   "metadata": {},
   "source": [
    "Fuentes:\n",
    "    \n",
    "https://www.youtube.com/watch?v=hc3DCn8viWs\n",
    "\n",
    "https://intellipaat.com/community/1103/python-tf-idf-cosine-to-find-document-similarity"
   ]
  },
  {
   "cell_type": "code",
   "execution_count": 1,
   "metadata": {},
   "outputs": [],
   "source": [
    "import nltk\n",
    "from nltk.corpus import stopwords\n",
    "from sklearn.feature_extraction.text import TfidfVectorizer\n",
    "from sklearn.metrics.pairwise import linear_kernel\n",
    "import numpy as np\n",
    "import pandas as pd"
   ]
  },
  {
   "cell_type": "code",
   "execution_count": 2,
   "metadata": {},
   "outputs": [],
   "source": [
    "df = pd.read_csv('data.csv')"
   ]
  },
  {
   "cell_type": "code",
   "execution_count": 3,
   "metadata": {},
   "outputs": [
    {
     "data": {
      "text/html": [
       "<div>\n",
       "<style scoped>\n",
       "    .dataframe tbody tr th:only-of-type {\n",
       "        vertical-align: middle;\n",
       "    }\n",
       "\n",
       "    .dataframe tbody tr th {\n",
       "        vertical-align: top;\n",
       "    }\n",
       "\n",
       "    .dataframe thead th {\n",
       "        text-align: right;\n",
       "    }\n",
       "</style>\n",
       "<table border=\"1\" class=\"dataframe\">\n",
       "  <thead>\n",
       "    <tr style=\"text-align: right;\">\n",
       "      <th></th>\n",
       "      <th>id</th>\n",
       "      <th>query</th>\n",
       "      <th>snippet1</th>\n",
       "      <th>snippet2</th>\n",
       "      <th>snippet3</th>\n",
       "    </tr>\n",
       "  </thead>\n",
       "  <tbody>\n",
       "    <tr>\n",
       "      <th>0</th>\n",
       "      <td>jperez</td>\n",
       "      <td>como usar google</td>\n",
       "      <td>Cómo usar funciones de Google en Chrome. Para ...</td>\n",
       "      <td>Google es mucho más que un buscador. Puede se...</td>\n",
       "      <td>Guía rápida para utilizar la búsqueda de Goog...</td>\n",
       "    </tr>\n",
       "  </tbody>\n",
       "</table>\n",
       "</div>"
      ],
      "text/plain": [
       "       id             query  \\\n",
       "0  jperez  como usar google   \n",
       "\n",
       "                                            snippet1  \\\n",
       "0  Cómo usar funciones de Google en Chrome. Para ...   \n",
       "\n",
       "                                            snippet2  \\\n",
       "0   Google es mucho más que un buscador. Puede se...   \n",
       "\n",
       "                                            snippet3  \n",
       "0   Guía rápida para utilizar la búsqueda de Goog...  "
      ]
     },
     "execution_count": 3,
     "metadata": {},
     "output_type": "execute_result"
    }
   ],
   "source": [
    "df"
   ]
  },
  {
   "cell_type": "code",
   "execution_count": 4,
   "metadata": {},
   "outputs": [],
   "source": [
    "es_sw = stopwords.words('spanish') # lista stopword a usar\n",
    "tf = TfidfVectorizer(stop_words=es_sw) # crear la transformación"
   ]
  },
  {
   "cell_type": "code",
   "execution_count": 5,
   "metadata": {},
   "outputs": [],
   "source": [
    "def sim_matrix(q, s1, s2, s3):\n",
    "    # vectorizacion\n",
    "    tfidf_matrix = tf.fit_transform([q,s1,s2,s3]) # -> corpus, tdif_matrix[0] corresponde a la matriz de la query\n",
    "    #print (tf.get_feature_names())\n",
    "    S = []\n",
    "    for i in range(4): # largo del corpus\n",
    "        S.append(linear_kernel(tfidf_matrix[i], tfidf_matrix).flatten()) # similaridad del coseno \n",
    "    return S"
   ]
  },
  {
   "cell_type": "code",
   "execution_count": 6,
   "metadata": {},
   "outputs": [],
   "source": [
    "# matriz de similaridad del coseno\n",
    "# para cada estudiante calculo la matriz\n",
    "S = [sim_matrix(row[0], row[1], row[2], row[3]) for row in df[['query', 'snippet1', 'snippet2', 'snippet3']].values]"
   ]
  },
  {
   "cell_type": "code",
   "execution_count": 7,
   "metadata": {},
   "outputs": [],
   "source": [
    "S = np.asarray(S) # casteo como np"
   ]
  },
  {
   "cell_type": "code",
   "execution_count": 8,
   "metadata": {},
   "outputs": [
    {
     "data": {
      "text/plain": [
       "array([[1.        , 0.36009273, 0.13934718, 0.1150048 ],\n",
       "       [0.36009273, 1.        , 0.05017791, 0.04141239],\n",
       "       [0.13934718, 0.05017791, 1.        , 0.05260552],\n",
       "       [0.1150048 , 0.04141239, 0.05260552, 1.        ]])"
      ]
     },
     "execution_count": 8,
     "metadata": {},
     "output_type": "execute_result"
    }
   ],
   "source": [
    "S[0] # solo una matriz como solo hay un usuario, similitud en orden q, s1, s2 ,s3"
   ]
  },
  {
   "cell_type": "code",
   "execution_count": null,
   "metadata": {},
   "outputs": [],
   "source": []
  }
 ],
 "metadata": {
  "kernelspec": {
   "display_name": "Python 3",
   "language": "python",
   "name": "python3"
  },
  "language_info": {
   "codemirror_mode": {
    "name": "ipython",
    "version": 3
   },
   "file_extension": ".py",
   "mimetype": "text/x-python",
   "name": "python",
   "nbconvert_exporter": "python",
   "pygments_lexer": "ipython3",
   "version": "3.7.6"
  }
 },
 "nbformat": 4,
 "nbformat_minor": 4
}
