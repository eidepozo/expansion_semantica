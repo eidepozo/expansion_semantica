{
 "cells": [
  {
   "cell_type": "markdown",
   "metadata": {},
   "source": [
    "@eidepozo"
   ]
  },
  {
   "cell_type": "markdown",
   "metadata": {},
   "source": [
    "### Emisión de consultas\n",
    "\n",
    "Fuentes:\n",
    "\n",
    "https://www.rubydevices.com.au/blog/how-to-scrape-bing\n",
    "\n",
    "https://stackoverflow.com/questions/36730372/extract-the-text-from-p-within-div-with-beautifulsoup\n",
    "\n",
    "\n",
    "La busqueda mediante BS4 puede hacer que Bing bloquee temporalmente la busqueda, por lo que se implemento una busqueda alternativa con Selenium.\n",
    "\n",
    "https://stackoverflow.com/questions/21350605/python-selenium-click-on-button\n",
    "\n",
    "https://www.toptal.com/python/web-scraping-with-python"
   ]
  },
  {
   "cell_type": "code",
   "execution_count": 1,
   "metadata": {},
   "outputs": [],
   "source": [
    "import os\n",
    "import sys\n",
    "module_path = os.path.abspath(os.path.join('..'))\n",
    "if module_path not in sys.path:\n",
    "    sys.path.append(module_path)\n",
    "    \n",
    "from src.bing_search import bing_search, bing_search_alt"
   ]
  },
  {
   "cell_type": "code",
   "execution_count": 2,
   "metadata": {},
   "outputs": [
    {
     "data": {
      "text/plain": [
       "['query recommendation algorithms by means of diﬀerent metrics. Experiments show the superiority of incrementally updating algorithms with respect to their static counterparts. Moreover, the tests conducted demonstrated that our so-lution to update the model each time a new query is processed has a limited impact on system response time.',\n",
       " 'Incremental algorithms for effective and efficient query recommendation. Download. Incremental algorithms for effective and efficient query recommendation. Fabrizio Silvestri. Related Papers. Generating suggestions for queries in the long tail with an inverted index. By Gabriele Capannini.',\n",
       " 'the proposed query-recommendation algorithms in the lit-erature use aggregate user information mined from query logs and allowing to identify queries that are relevant to what the user is searching [2–4,13,14]. Current state-of-the-art methods often produce relevant query recommenda-tions, but typically there is no clear objective to optimize ...']"
      ]
     },
     "execution_count": 2,
     "metadata": {},
     "output_type": "execute_result"
    }
   ],
   "source": [
    "bing_search(\"Query recommendation algorithms\")"
   ]
  },
  {
   "cell_type": "code",
   "execution_count": 3,
   "metadata": {},
   "outputs": [
    {
     "data": {
      "text/plain": [
       "['query recommendation algorithms by means of diﬀerent metrics. Experiments show the superiority of incrementally updating algorithms with respect to their static counterparts. Moreover, the tests conducted demonstrated that our so-lution to update the model each time a new query is processed has a limited impact on system response time.',\n",
       " 'Incremental algorithms for effective and efficient query recommendation. Download. Incremental algorithms for effective and efficient query recommendation. Fabrizio Silvestri. Related Papers. Generating suggestions for queries in the long tail with an inverted index. By Gabriele Capannini.',\n",
       " 'the proposed query-recommendation algorithms in the lit-erature use aggregate user information mined from query logs and allowing to identify queries that are relevant to what the user is searching [2–4,13,14]. Current state-of-the-art methods often produce relevant query recommenda-tions, but typically there is no clear objective to optimize ...']"
      ]
     },
     "execution_count": 3,
     "metadata": {},
     "output_type": "execute_result"
    }
   ],
   "source": [
    "bing_search_alt(\"Query recommendation algorithms\")"
   ]
  },
  {
   "cell_type": "code",
   "execution_count": null,
   "metadata": {},
   "outputs": [],
   "source": []
  }
 ],
 "metadata": {
  "kernelspec": {
   "display_name": "Python 3",
   "language": "python",
   "name": "python3"
  },
  "language_info": {
   "codemirror_mode": {
    "name": "ipython",
    "version": 3
   },
   "file_extension": ".py",
   "mimetype": "text/x-python",
   "name": "python",
   "nbconvert_exporter": "python",
   "pygments_lexer": "ipython3",
   "version": "3.8.5"
  }
 },
 "nbformat": 4,
 "nbformat_minor": 4
}
