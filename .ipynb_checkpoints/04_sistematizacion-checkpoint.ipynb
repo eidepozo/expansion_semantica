{
 "cells": [
  {
   "cell_type": "markdown",
   "metadata": {},
   "source": [
    "### Corpus\n",
    "- maxq (1) {1-3}: snippets por query a usar\n",
    "- nickname: individual o global (30)\n",
    "- context (False): información contextual del desafio\n",
    "- duplicates (False): solo snippets  unicos\n",
    "- sentences (False): un snippet representa un elemento del arreglo de palabras o por cada oración\n",
    "\n",
    "\n",
    "### Modelo\n",
    "- **words**\n",
    "- minimum (sujeto al tamaño del corpus)\n",
    "- sg (CBOW o SkipGram)\n",
    "- window (sujeto al tamaño del corpus)\n"
   ]
  },
  {
   "cell_type": "code",
   "execution_count": 1,
   "metadata": {},
   "outputs": [],
   "source": [
    "from recommendation import corpus_builder"
   ]
  },
  {
   "cell_type": "markdown",
   "metadata": {},
   "source": [
    " `corpus_builder(challenge_id, context=False, nickname=None, maxq=1, duplicates=False, sentences=False)`"
   ]
  },
  {
   "cell_type": "code",
   "execution_count": 2,
   "metadata": {},
   "outputs": [
    {
     "name": "stderr",
     "output_type": "stream",
     "text": [
      "/home/marriagada/recomendacion_de_terminos/filtering.py:14: SettingWithCopyWarning: \n",
      "A value is trying to be set on a copy of a slice from a DataFrame.\n",
      "Try using .loc[row_indexer,col_indexer] = value instead\n",
      "\n",
      "See the caveats in the documentation: https://pandas.pydata.org/pandas-docs/stable/user_guide/indexing.html#returning-a-view-versus-a-copy\n",
      "  filtered_data['snippet'] = filtered_data['snippet'].map(lambda text: BeautifulSoup(text, 'html.parser').get_text())\n"
     ]
    }
   ],
   "source": [
    "sentences = corpus_builder(challenge_id=4, maxq=3, sentences=True)\n",
    "paragraphs = corpus_builder(challenge_id=4, maxq=3, sentences=False)"
   ]
  },
  {
   "cell_type": "code",
   "execution_count": 3,
   "metadata": {},
   "outputs": [
    {
     "data": {
      "text/plain": [
       "58674"
      ]
     },
     "metadata": {},
     "output_type": "display_data"
    },
    {
     "data": {
      "text/plain": [
       "6203"
      ]
     },
     "metadata": {},
     "output_type": "display_data"
    },
    {
     "data": {
      "text/plain": [
       "2325"
      ]
     },
     "metadata": {},
     "output_type": "display_data"
    }
   ],
   "source": [
    "display(sum([len(word) for word in sentences]), len(sentences), len(paragraphs)) #total palabras, total frases, total snippets"
   ]
  },
  {
   "cell_type": "code",
   "execution_count": 4,
   "metadata": {},
   "outputs": [],
   "source": [
    "# calculos para variable window"
   ]
  },
  {
   "cell_type": "code",
   "execution_count": 5,
   "metadata": {},
   "outputs": [],
   "source": [
    "import pandas as pd"
   ]
  },
  {
   "cell_type": "code",
   "execution_count": 6,
   "metadata": {},
   "outputs": [],
   "source": [
    "wxsent = [len(word) for word in sentences] # sentences incluye listas vacias, no afecta a Counter. Revisar!\n",
    "\n",
    "#wxs = pd.DataFrame(wxsent)\n",
    "\n",
    "#wxs.to_csv('wxsent.csv', header=['count'], index=False)\n",
    "\n",
    "#wxsent"
   ]
  },
  {
   "cell_type": "code",
   "execution_count": 7,
   "metadata": {},
   "outputs": [],
   "source": [
    "# calculos para min_count\n",
    "from collections import Counter\n",
    "import numpy as np"
   ]
  },
  {
   "cell_type": "code",
   "execution_count": 8,
   "metadata": {},
   "outputs": [],
   "source": [
    "wstats = Counter(x for xs in sentences for x in set(xs))"
   ]
  },
  {
   "cell_type": "code",
   "execution_count": 9,
   "metadata": {},
   "outputs": [
    {
     "data": {
      "text/plain": [
       "('auto', 473)"
      ]
     },
     "metadata": {},
     "output_type": "display_data"
    },
    {
     "data": {
      "text/plain": [
       "('eggs', 1)"
      ]
     },
     "metadata": {},
     "output_type": "display_data"
    }
   ],
   "source": [
    "display(wstats.most_common(1)[0], wstats.most_common()[-1]) #palabra con mayor/menor ocurrencias"
   ]
  },
  {
   "cell_type": "markdown",
   "metadata": {},
   "source": [
    "https://stackoverflow.com/questions/33695220/calculate-mean-on-values-in-python-collections-counter\n",
    "\n",
    "https://stackoverflow.com/questions/10373247/how-do-i-write-a-python-dictionary-to-a-csv-file"
   ]
  },
  {
   "cell_type": "code",
   "execution_count": 10,
   "metadata": {},
   "outputs": [],
   "source": [
    "# necesario para exportar las palabras y su frecuencia\n",
    "#import csv\n",
    "\n",
    "#with open('wstats.csv','w') as f:\n",
    "    #w = csv.writer(f)\n",
    "    #w.writerows(wstats.items())"
   ]
  },
  {
   "cell_type": "code",
   "execution_count": 11,
   "metadata": {},
   "outputs": [
    {
     "data": {
      "text/plain": [
       "3.713269512032974"
      ]
     },
     "execution_count": 11,
     "metadata": {},
     "output_type": "execute_result"
    }
   ],
   "source": [
    "nth = list(wstats.values())\n",
    "np.mean(nth) #promedio de ocurrencias, hasta n veces"
   ]
  },
  {
   "cell_type": "markdown",
   "metadata": {},
   "source": [
    "## Modelos\n",
    "\n",
    "Consideraciones en los parametros min_count y window correspondientemente:\n",
    "\n",
    "De 04B_Estadisticas se obtuvo:\n",
    "\n",
    "\n",
    "| Ocurrencias >= | 2     | 3     | 4   | 5     | 6   | 7   | 8  | 9    | 10    | 38 |\n",
    "|----------------|-------|-------|-----|-------|-----|-----|----|------|-------|----|\n",
    "| Contribucion   | 43.5% | 27.3% | 20% | 15.5% | 12% | 10% | 9% | 7.9% | 7.12% | 1% |\n",
    "\n",
    "\n",
    "Se estimo un promedio de 9 palabras por frase."
   ]
  },
  {
   "cell_type": "code",
   "execution_count": 45,
   "metadata": {},
   "outputs": [],
   "source": [
    "from gensim.models import Word2Vec"
   ]
  },
  {
   "cell_type": "code",
   "execution_count": 25,
   "metadata": {},
   "outputs": [],
   "source": [
    "modelA = Word2Vec(sentences, min_count=3, sg=1, window=5)\n",
    "modelB = Word2Vec(sentences, min_count=4, sg=1, window=5) \n",
    "modelC = Word2Vec(sentences, min_count=5, sg=1, window=5) # estandar\n",
    "modelD = Word2Vec(sentences, min_count=6, sg=1, window=5)  \n",
    "modelE = Word2Vec(sentences, min_count=7, sg=1, window=5)\n",
    "modelF = Word2Vec(sentences, min_count=8, sg=1, window=5)\n",
    "modelG = Word2Vec(sentences, min_count=9, sg=1, window=5)\n",
    "modelH = Word2Vec(sentences, min_count=10, sg=1, window=5) "
   ]
  },
  {
   "cell_type": "code",
   "execution_count": 26,
   "metadata": {},
   "outputs": [],
   "source": [
    "modelA.save(\"model/word2vec.modelA\")\n",
    "modelB.save(\"model/word2vec.modelB\")\n",
    "modelC.save(\"model/word2vec.modelC\")\n",
    "modelD.save(\"model/word2vec.modelD\")\n",
    "modelE.save(\"model/word2vec.modelE\")\n",
    "modelF.save(\"model/word2vec.modelF\")\n",
    "modelG.save(\"model/word2vec.modelG\")\n",
    "modelH.save(\"model/word2vec.modelH\")"
   ]
  },
  {
   "cell_type": "code",
   "execution_count": 37,
   "metadata": {},
   "outputs": [
    {
     "data": {
      "text/plain": [
       "4290"
      ]
     },
     "metadata": {},
     "output_type": "display_data"
    }
   ],
   "source": [
    "vocab = list(modelA.wv.vocab)\n",
    "display(len(vocab))"
   ]
  },
  {
   "cell_type": "markdown",
   "metadata": {},
   "source": [
    "https://tedboy.github.io/nlps/generated/generated/gensim.models.Word2Vec.most_similar.html"
   ]
  },
  {
   "cell_type": "code",
   "execution_count": 44,
   "metadata": {},
   "outputs": [
    {
     "data": {
      "text/plain": [
       "[('hacer', 0.9970880746841431),\n",
       " ('carro', 0.9963395595550537),\n",
       " ('casero', 0.9950864911079407),\n",
       " ('eléctrico', 0.9949661493301392),\n",
       " ('coche', 0.9944289326667786),\n",
       " ('cómo', 0.9941082000732422),\n",
       " ('auto', 0.9936143159866333),\n",
       " ('paso', 0.9930513501167297),\n",
       " ('automóvil', 0.9929074645042419),\n",
       " ('puede', 0.9923754334449768),\n",
       " ('motor', 0.9915808439254761),\n",
       " ('pasos', 0.9911962151527405),\n",
       " ('forma', 0.9909837245941162),\n",
       " ('básico', 0.990911602973938),\n",
       " ('ruedas', 0.9905667304992676),\n",
       " ('proyecto', 0.9905019998550415),\n",
       " ('proceso', 0.9899449348449707),\n",
       " ('puedes', 0.9899319410324097),\n",
       " ('vehículo', 0.9896845817565918),\n",
       " ('partes', 0.9894710779190063),\n",
       " ('materiales', 0.9893342852592468),\n",
       " ('propio', 0.9892418384552002),\n",
       " ('componentes', 0.9887054562568665),\n",
       " ('cualquier', 0.9886645078659058),\n",
       " ('dos', 0.9881342053413391),\n",
       " ('crear', 0.9878906011581421),\n",
       " ('parte', 0.9878760576248169),\n",
       " ('tiempo', 0.9877916574478149),\n",
       " ('juguete', 0.9877561330795288),\n",
       " ('aire', 0.9874634742736816),\n",
       " ('manera', 0.9872333407402039),\n",
       " ('tipo', 0.9869652986526489),\n",
       " ('construcción', 0.9868260622024536),\n",
       " ('pequeño', 0.9867848753929138),\n",
       " ('sistema', 0.986734926700592),\n",
       " ('realizar', 0.9867293834686279),\n",
       " ('vapor', 0.986423134803772),\n",
       " ('mismo', 0.986335039138794),\n",
       " ('madera', 0.9862000942230225),\n",
       " ('bar', 0.98609858751297),\n",
       " ('pueden', 0.9856616854667664),\n",
       " ('trabajo', 0.9855614900588989),\n",
       " ('armar', 0.985499382019043),\n",
       " ('control', 0.9854897260665894),\n",
       " ('diseño', 0.9853554368019104),\n",
       " ('piezas', 0.985119104385376),\n",
       " ('chasis', 0.9847933650016785),\n",
       " ('casa', 0.9845892190933228),\n",
       " ('mejor', 0.9845387935638428),\n",
       " ('niños', 0.9845280051231384),\n",
       " ('energía', 0.9844487905502319),\n",
       " ('motores', 0.9842666387557983),\n",
       " ('aprender', 0.9841598868370056),\n",
       " ('cada', 0.9838223457336426),\n",
       " ('debe', 0.9835885763168335),\n",
       " ('principales', 0.9834897518157959),\n",
       " ('así', 0.9833805561065674),\n",
       " ('solar', 0.983367919921875),\n",
       " ('nuevo', 0.9833629131317139),\n",
       " ('dio', 0.98325514793396),\n",
       " ('automovil', 0.983047604560852),\n",
       " ('buen', 0.9829307198524475),\n",
       " ('elementos', 0.982874870300293),\n",
       " ('diseñado', 0.9827431440353394),\n",
       " ('gran', 0.9825767874717712),\n",
       " ('cuatro', 0.982438325881958),\n",
       " ('plano', 0.9823687076568604),\n",
       " ('gasolina', 0.9823283553123474),\n",
       " ('dentro', 0.9822123646736145),\n",
       " ('información', 0.9821031093597412),\n",
       " ('bien', 0.9819566011428833),\n",
       " ('electrico', 0.9818613529205322),\n",
       " ('tan', 0.9817034602165222),\n",
       " ('permite', 0.98162841796875),\n",
       " ('cilindros', 0.9815495610237122),\n",
       " ('fabricación', 0.9814754128456116),\n",
       " ('carrito', 0.9814523458480835),\n",
       " ('necesarios', 0.9814163446426392),\n",
       " ('vamos', 0.9813870191574097),\n",
       " ('saber', 0.9812593460083008),\n",
       " ('aquí', 0.9811822175979614),\n",
       " ('francés', 0.9810220003128052),\n",
       " ('dinero', 0.9809735417366028),\n",
       " ('solo', 0.9808745384216309),\n",
       " ('conjunto', 0.980746865272522),\n",
       " ('vida', 0.980736255645752),\n",
       " ('ayuda', 0.9806773066520691),\n",
       " ('dirección', 0.980635404586792),\n",
       " ('general', 0.9806095361709595),\n",
       " ('funcionamiento', 0.9805760383605957),\n",
       " ('planos', 0.9805190563201904),\n",
       " ('combustible', 0.9804614782333374),\n",
       " ('diferentes', 0.9803820848464966),\n",
       " ('comprar', 0.9803764224052429),\n",
       " ('inicialmente', 0.980300784111023),\n",
       " ('además', 0.9802969694137573),\n",
       " ('funciona', 0.9802926182746887),\n",
       " ('mantenimiento', 0.980291485786438),\n",
       " ('artículo', 0.9802846908569336),\n",
       " ('básicos', 0.9802508354187012)]"
      ]
     },
     "metadata": {},
     "output_type": "display_data"
    }
   ],
   "source": [
    "try:\n",
    "    display(modelH.wv.most_similar(['construir'], topn=100))\n",
    "except KeyError:\n",
    "    print(\"Esta palabra no aparece en el modelo\")"
   ]
  },
  {
   "cell_type": "code",
   "execution_count": null,
   "metadata": {},
   "outputs": [],
   "source": []
  }
 ],
 "metadata": {
  "kernelspec": {
   "display_name": "Python 3",
   "language": "python",
   "name": "python3"
  },
  "language_info": {
   "codemirror_mode": {
    "name": "ipython",
    "version": 3
   },
   "file_extension": ".py",
   "mimetype": "text/x-python",
   "name": "python",
   "nbconvert_exporter": "python",
   "pygments_lexer": "ipython3",
   "version": "3.7.6"
  }
 },
 "nbformat": 4,
 "nbformat_minor": 4
}
