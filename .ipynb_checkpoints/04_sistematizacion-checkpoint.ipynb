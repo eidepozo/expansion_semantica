{
 "cells": [
  {
   "cell_type": "code",
   "execution_count": 1,
   "metadata": {},
   "outputs": [],
   "source": [
    "from recommendation import model_build"
   ]
  },
  {
   "cell_type": "code",
   "execution_count": 2,
   "metadata": {},
   "outputs": [
    {
     "name": "stderr",
     "output_type": "stream",
     "text": [
      "/home/marriagada/eSRD/filtering.py:14: SettingWithCopyWarning: \n",
      "A value is trying to be set on a copy of a slice from a DataFrame.\n",
      "Try using .loc[row_indexer,col_indexer] = value instead\n",
      "\n",
      "See the caveats in the documentation: https://pandas.pydata.org/pandas-docs/stable/user_guide/indexing.html#returning-a-view-versus-a-copy\n",
      "  filtered_data['snippet'] = filtered_data['snippet'].map(lambda text: BeautifulSoup(text, 'html.parser').get_text())\n"
     ]
    }
   ],
   "source": [
    "model = model_build(challenge_id=4, context=0, maxq=3, minimum=10, window=5) #desafio, (todas las querys, sin info del desafio, entrega como corpus)"
   ]
  },
  {
   "cell_type": "code",
   "execution_count": 3,
   "metadata": {},
   "outputs": [
    {
     "data": {
      "text/plain": [
       "0        Cómo construir un auto deportivo con poco dine...\n",
       "1        Construir un motor de automóvil desde cero, ll...\n",
       "2        Relájate y disfruta en HD del proceso de ensam...\n",
       "3        Esto podría ser tan simple como una parte Radi...\n",
       "4        Fases. Antes de producir un vehículo, ha de co...\n",
       "                               ...                        \n",
       "16329    K&S es una productora argentina de cine, funda...\n",
       "16330    Actividades del alfabeto - Letra K Educación i...\n",
       "16331    Download K-Lite Codec Pack. There are four dif...\n",
       "16332    My saves. My interests / My collections + New....\n",
       "16333    Play next; Play now; Foam Clay Smiley Face Sur...\n",
       "Name: snippet, Length: 2325, dtype: object"
      ]
     },
     "execution_count": 3,
     "metadata": {},
     "output_type": "execute_result"
    }
   ],
   "source": [
    "model"
   ]
  },
  {
   "cell_type": "code",
   "execution_count": 4,
   "metadata": {},
   "outputs": [],
   "source": [
    "#vocab = list(model.wv.vocab)\n",
    "#display(len(vocab), vocab)"
   ]
  },
  {
   "cell_type": "code",
   "execution_count": 5,
   "metadata": {},
   "outputs": [
    {
     "data": {
      "text/plain": [
       "'\\ntry:\\n    display(model.wv.most_similar(\\'vih\\', topn=10))\\nexcept KeyError:\\n    print(\"Esta palabra no aparece en el modelo\")\\n'"
      ]
     },
     "execution_count": 5,
     "metadata": {},
     "output_type": "execute_result"
    }
   ],
   "source": [
    "'''\n",
    "try:\n",
    "    display(model.wv.most_similar('vih', topn=10))\n",
    "except KeyError:\n",
    "    print(\"Esta palabra no aparece en el modelo\")\n",
    "'''"
   ]
  }
 ],
 "metadata": {
  "kernelspec": {
   "display_name": "Python 3",
   "language": "python",
   "name": "python3"
  },
  "language_info": {
   "codemirror_mode": {
    "name": "ipython",
    "version": 3
   },
   "file_extension": ".py",
   "mimetype": "text/x-python",
   "name": "python",
   "nbconvert_exporter": "python",
   "pygments_lexer": "ipython3",
   "version": "3.7.6"
  }
 },
 "nbformat": 4,
 "nbformat_minor": 4
}
