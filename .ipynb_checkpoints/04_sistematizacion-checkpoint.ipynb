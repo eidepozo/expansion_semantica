{
 "cells": [
  {
   "cell_type": "markdown",
   "metadata": {},
   "source": [
    "### Corpus\n",
    "- maxq (1) {1-3}: snippets por query a usar\n",
    "- nickname: individual o global (30)\n",
    "- context (False): información contextual del desafio\n",
    "- duplicates (False): solo snippets  unicos\n",
    "- sentences (False): un snippet representa un elemento del arreglo de palabras o por cada oración\n",
    "\n",
    "\n",
    "### Modelo\n",
    "- **words**\n",
    "- minimum (sujeto al tamaño del corpus)\n",
    "- sg (CBOW o SkipGram)\n",
    "- window (sujeto al tamaño del corpus)\n"
   ]
  },
  {
   "cell_type": "code",
   "execution_count": 2,
   "metadata": {},
   "outputs": [],
   "source": [
    "from recommendation import corpus_builder"
   ]
  },
  {
   "cell_type": "markdown",
   "metadata": {},
   "source": [
    " `corpus_builder(challenge_id, context=False, nickname=None, maxq=1, duplicates=False, sentences=False)`"
   ]
  },
  {
   "cell_type": "code",
   "execution_count": 4,
   "metadata": {},
   "outputs": [],
   "source": [
    "import nltk"
   ]
  },
  {
   "cell_type": "code",
   "execution_count": 8,
   "metadata": {},
   "outputs": [
    {
     "name": "stderr",
     "output_type": "stream",
     "text": [
      "[nltk_data] Downloading package stopwords to\n",
      "[nltk_data]     C:\\Users\\Marcelo\\AppData\\Roaming\\nltk_data...\n",
      "[nltk_data]   Unzipping corpora\\stopwords.zip.\n"
     ]
    },
    {
     "data": {
      "text/plain": [
       "True"
      ]
     },
     "execution_count": 8,
     "metadata": {},
     "output_type": "execute_result"
    }
   ],
   "source": [
    "#nltk.download('punkt')\n",
    "nltk.download('stopwords')"
   ]
  },
  {
   "cell_type": "code",
   "execution_count": 9,
   "metadata": {},
   "outputs": [],
   "source": [
    "sentences = corpus_builder(challenge_id=4, maxq=3, sentences=True)\n",
    "paragraphs = corpus_builder(challenge_id=4, maxq=3, sentences=False)"
   ]
  },
  {
   "cell_type": "code",
   "execution_count": 10,
   "metadata": {},
   "outputs": [
    {
     "data": {
      "text/plain": [
       "58674"
      ]
     },
     "metadata": {},
     "output_type": "display_data"
    },
    {
     "data": {
      "text/plain": [
       "6203"
      ]
     },
     "metadata": {},
     "output_type": "display_data"
    },
    {
     "data": {
      "text/plain": [
       "2325"
      ]
     },
     "metadata": {},
     "output_type": "display_data"
    }
   ],
   "source": [
    "display(sum([len(word) for word in sentences]), len(sentences), len(paragraphs)) #total palabras, total frases, total snippets"
   ]
  },
  {
   "cell_type": "code",
   "execution_count": 4,
   "metadata": {},
   "outputs": [],
   "source": [
    "# calculos para variable window"
   ]
  },
  {
   "cell_type": "code",
   "execution_count": 11,
   "metadata": {},
   "outputs": [],
   "source": [
    "import pandas as pd"
   ]
  },
  {
   "cell_type": "code",
   "execution_count": 12,
   "metadata": {},
   "outputs": [],
   "source": [
    "wxsent = [len(word) for word in sentences] # sentences incluye listas vacias, no afecta a Counter. Revisar!\n",
    "\n",
    "#wxs = pd.DataFrame(wxsent)\n",
    "\n",
    "#wxs.to_csv('wxsent.csv', header=['count'], index=False)\n",
    "\n",
    "#wxsent"
   ]
  },
  {
   "cell_type": "code",
   "execution_count": 13,
   "metadata": {},
   "outputs": [],
   "source": [
    "# calculos para min_count\n",
    "from collections import Counter\n",
    "import numpy as np"
   ]
  },
  {
   "cell_type": "code",
   "execution_count": 14,
   "metadata": {},
   "outputs": [],
   "source": [
    "wstats = Counter(x for xs in sentences for x in set(xs))"
   ]
  },
  {
   "cell_type": "code",
   "execution_count": 15,
   "metadata": {},
   "outputs": [
    {
     "data": {
      "text/plain": [
       "('auto', 473)"
      ]
     },
     "metadata": {},
     "output_type": "display_data"
    },
    {
     "data": {
      "text/plain": [
       "('eggs', 1)"
      ]
     },
     "metadata": {},
     "output_type": "display_data"
    }
   ],
   "source": [
    "display(wstats.most_common(1)[0], wstats.most_common()[-1]) #palabra con mayor/menor ocurrencias"
   ]
  },
  {
   "cell_type": "markdown",
   "metadata": {},
   "source": [
    "https://stackoverflow.com/questions/33695220/calculate-mean-on-values-in-python-collections-counter\n",
    "\n",
    "https://stackoverflow.com/questions/10373247/how-do-i-write-a-python-dictionary-to-a-csv-file"
   ]
  },
  {
   "cell_type": "code",
   "execution_count": 16,
   "metadata": {},
   "outputs": [],
   "source": [
    "# necesario para exportar las palabras y su frecuencia\n",
    "#import csv\n",
    "\n",
    "#with open('wstats.csv','w') as f:\n",
    "    #w = csv.writer(f)\n",
    "    #w.writerows(wstats.items())"
   ]
  },
  {
   "cell_type": "code",
   "execution_count": 17,
   "metadata": {},
   "outputs": [
    {
     "data": {
      "text/plain": [
       "3.713269512032974"
      ]
     },
     "execution_count": 17,
     "metadata": {},
     "output_type": "execute_result"
    }
   ],
   "source": [
    "nth = list(wstats.values())\n",
    "np.mean(nth) #promedio de ocurrencias, hasta n veces"
   ]
  },
  {
   "cell_type": "markdown",
   "metadata": {},
   "source": [
    "## Modelos\n",
    "\n",
    "Consideraciones en los parametros min_count y window correspondientemente:\n",
    "\n",
    "De 04B_Estadisticas se obtuvo:\n",
    "\n",
    "\n",
    "| Ocurrencias >= | 2     | 3     | 4   | 5     | 6   | 7   | 8  | 9    | 10    | 38 |\n",
    "|----------------|-------|-------|-----|-------|-----|-----|----|------|-------|----|\n",
    "| Contribucion   | 43.5% | 27.3% | 20% | 15.5% | 12% | 10% | 9% | 7.9% | 7.12% | 1% |\n",
    "\n",
    "\n",
    "Se estimo un promedio de 9 palabras por frase."
   ]
  },
  {
   "cell_type": "code",
   "execution_count": 23,
   "metadata": {},
   "outputs": [],
   "source": [
    "from gensim.models import Word2Vec"
   ]
  },
  {
   "cell_type": "code",
   "execution_count": 24,
   "metadata": {},
   "outputs": [],
   "source": [
    "modelA = Word2Vec(sentences, min_count=3, sg=1, window=5)\n",
    "modelB = Word2Vec(sentences, min_count=4, sg=1, window=5) \n",
    "modelC = Word2Vec(sentences, min_count=5, sg=1, window=5) # estandar\n",
    "modelD = Word2Vec(sentences, min_count=6, sg=1, window=5)  \n",
    "modelE = Word2Vec(sentences, min_count=7, sg=1, window=5)\n",
    "modelF = Word2Vec(sentences, min_count=8, sg=1, window=5)\n",
    "modelG = Word2Vec(sentences, min_count=9, sg=1, window=5)\n",
    "modelH = Word2Vec(sentences, min_count=10, sg=1, window=5) "
   ]
  },
  {
   "cell_type": "code",
   "execution_count": 25,
   "metadata": {},
   "outputs": [],
   "source": [
    "modelA.save(\"model/word2vec.modelA\")\n",
    "modelB.save(\"model/word2vec.modelB\")\n",
    "modelC.save(\"model/word2vec.modelC\")\n",
    "modelD.save(\"model/word2vec.modelD\")\n",
    "modelE.save(\"model/word2vec.modelE\")\n",
    "modelF.save(\"model/word2vec.modelF\")\n",
    "modelG.save(\"model/word2vec.modelG\")\n",
    "modelH.save(\"model/word2vec.modelH\")"
   ]
  },
  {
   "cell_type": "code",
   "execution_count": 26,
   "metadata": {},
   "outputs": [],
   "source": [
    "modelJ = Word2Vec(sentences, min_count=100, sg=1, window=5) "
   ]
  },
  {
   "cell_type": "code",
   "execution_count": 27,
   "metadata": {},
   "outputs": [
    {
     "data": {
      "text/plain": [
       "33"
      ]
     },
     "metadata": {},
     "output_type": "display_data"
    }
   ],
   "source": [
    "vocab = list(modelJ.wv.vocab)\n",
    "display(len(vocab))"
   ]
  },
  {
   "cell_type": "markdown",
   "metadata": {},
   "source": [
    "https://tedboy.github.io/nlps/generated/generated/gensim.models.Word2Vec.most_similar.html"
   ]
  },
  {
   "cell_type": "code",
   "execution_count": 28,
   "metadata": {},
   "outputs": [
    {
     "data": {
      "text/plain": [
       "[('carreras', 0.6222691535949707),\n",
       " ('carrera', 0.5493704080581665),\n",
       " ('tipo', 0.5122015476226807),\n",
       " ('carro', 0.5089008212089539),\n",
       " ('coches', 0.5072537660598755),\n",
       " ('coche', 0.5031407475471497),\n",
       " ('derby', 0.4989511966705322),\n",
       " ('race', 0.48116111755371094),\n",
       " ('soapbox', 0.47611546516418457),\n",
       " ('paso', 0.45405444502830505),\n",
       " ('auto', 0.4444616734981537),\n",
       " ('red', 0.4241328239440918),\n",
       " ('autos', 0.42043498158454895),\n",
       " ('sistema', 0.41593801975250244),\n",
       " ('cómo', 0.4014001190662384),\n",
       " ('componentes', 0.3899238109588623),\n",
       " ('soap', 0.38723376393318176),\n",
       " ('hacer', 0.3846908211708069),\n",
       " ('car', 0.3739185333251953),\n",
       " ('vehículo', 0.36775845289230347),\n",
       " ('puede', 0.35607194900512695),\n",
       " ('construcción', 0.3475344777107239),\n",
       " ('parte', 0.3350129723548889),\n",
       " ('forma', 0.29626309871673584),\n",
       " ('diseño', 0.27030038833618164),\n",
       " ('automóvil', 0.2639574706554413),\n",
       " ('crear', 0.24711835384368896),\n",
       " ('motor', 0.24460642039775848),\n",
       " ('partes', 0.22325114905834198),\n",
       " ('cada', 0.20870070159435272),\n",
       " ('automóviles', 0.1946377158164978),\n",
       " ('vehículos', 0.18033316731452942)]"
      ]
     },
     "metadata": {},
     "output_type": "display_data"
    }
   ],
   "source": [
    "try:\n",
    "    display(modelJ.wv.most_similar(['construir'], topn=100))\n",
    "except KeyError:\n",
    "    print(\"Esta palabra no aparece en el modelo\")"
   ]
  },
  {
   "cell_type": "code",
   "execution_count": null,
   "metadata": {},
   "outputs": [],
   "source": []
  }
 ],
 "metadata": {
  "kernelspec": {
   "display_name": "Python 3",
   "language": "python",
   "name": "python3"
  },
  "language_info": {
   "codemirror_mode": {
    "name": "ipython",
    "version": 3
   },
   "file_extension": ".py",
   "mimetype": "text/x-python",
   "name": "python",
   "nbconvert_exporter": "python",
   "pygments_lexer": "ipython3",
   "version": "3.8.5"
  }
 },
 "nbformat": 4,
 "nbformat_minor": 4
}
