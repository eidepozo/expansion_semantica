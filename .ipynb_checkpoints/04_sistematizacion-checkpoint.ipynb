{
 "cells": [
  {
   "cell_type": "markdown",
   "metadata": {},
   "source": [
    "### Corpus\n",
    "- maxq (1) {1-3}: snippets por query a usar\n",
    "- nickname: individual o global (30)\n",
    "- context (False): información contextual del desafio\n",
    "- duplicates (False): solo snippets  unicos\n",
    "- sentences (False): un snippet representa un elemento del arreglo de palabras o por cada oración\n",
    "\n",
    "\n",
    "### Modelo\n",
    "- **words**\n",
    "- minimum (sujeto al tamaño del corpus)\n",
    "- sg (CBOW o SkipGram)\n",
    "- window (sujeto al tamaño del corpus)\n"
   ]
  },
  {
   "cell_type": "code",
   "execution_count": 1,
   "metadata": {},
   "outputs": [],
   "source": [
    "from recommendation import corpus_builder"
   ]
  },
  {
   "cell_type": "markdown",
   "metadata": {},
   "source": [
    " `corpus_builder(challenge_id, context=False, nickname=None, maxq=1, duplicates=False, sentences=False)`"
   ]
  },
  {
   "cell_type": "code",
   "execution_count": 2,
   "metadata": {},
   "outputs": [
    {
     "name": "stderr",
     "output_type": "stream",
     "text": [
      "/home/marriagada/recomendacion_de_terminos/filtering.py:14: SettingWithCopyWarning: \n",
      "A value is trying to be set on a copy of a slice from a DataFrame.\n",
      "Try using .loc[row_indexer,col_indexer] = value instead\n",
      "\n",
      "See the caveats in the documentation: https://pandas.pydata.org/pandas-docs/stable/user_guide/indexing.html#returning-a-view-versus-a-copy\n",
      "  filtered_data['snippet'] = filtered_data['snippet'].map(lambda text: BeautifulSoup(text, 'html.parser').get_text())\n"
     ]
    }
   ],
   "source": [
    "sentences = corpus_builder(challenge_id=4, maxq=3, sentences=True)\n",
    "paragraphs = corpus_builder(challenge_id=4, maxq=3, sentences=False)"
   ]
  },
  {
   "cell_type": "code",
   "execution_count": 4,
   "metadata": {},
   "outputs": [
    {
     "data": {
      "text/plain": [
       "58674"
      ]
     },
     "metadata": {},
     "output_type": "display_data"
    },
    {
     "data": {
      "text/plain": [
       "6203"
      ]
     },
     "metadata": {},
     "output_type": "display_data"
    },
    {
     "data": {
      "text/plain": [
       "2325"
      ]
     },
     "metadata": {},
     "output_type": "display_data"
    }
   ],
   "source": [
    "display(sum([len(word) for word in sentences]), len(sentences), len(paragraphs)) #total palabras, total frases, total snippets"
   ]
  },
  {
   "cell_type": "code",
   "execution_count": 58,
   "metadata": {},
   "outputs": [],
   "source": [
    "from collections import Counter\n",
    "import numpy as np"
   ]
  },
  {
   "cell_type": "code",
   "execution_count": 46,
   "metadata": {},
   "outputs": [],
   "source": [
    "wstats = Counter(x for xs in sentences for x in set(xs))"
   ]
  },
  {
   "cell_type": "code",
   "execution_count": 54,
   "metadata": {},
   "outputs": [
    {
     "data": {
      "text/plain": [
       "('auto', 473)"
      ]
     },
     "metadata": {},
     "output_type": "display_data"
    },
    {
     "data": {
      "text/plain": [
       "('shopkins', 1)"
      ]
     },
     "metadata": {},
     "output_type": "display_data"
    }
   ],
   "source": [
    "display(wstats.most_common(1)[0], wstats.most_common()[-1]) #palabra con mayor/menor ocurrencias"
   ]
  },
  {
   "cell_type": "markdown",
   "metadata": {},
   "source": [
    "https://stackoverflow.com/questions/33695220/calculate-mean-on-values-in-python-collections-counter\n",
    "\n",
    "https://stackoverflow.com/questions/10373247/how-do-i-write-a-python-dictionary-to-a-csv-file"
   ]
  },
  {
   "cell_type": "code",
   "execution_count": 107,
   "metadata": {},
   "outputs": [],
   "source": [
    "#import csv\n",
    "\n",
    "#with open('wstats.csv','w') as f:\n",
    "    #w = csv.writer(f)\n",
    "    #w.writerows(wstats.items())"
   ]
  },
  {
   "cell_type": "code",
   "execution_count": 95,
   "metadata": {},
   "outputs": [
    {
     "data": {
      "text/plain": [
       "3.713269512032974"
      ]
     },
     "execution_count": 95,
     "metadata": {},
     "output_type": "execute_result"
    }
   ],
   "source": [
    "nth = list(wstats.values())\n",
    "np.mean(nth) #promedio de ocurrencias, hasta n veces"
   ]
  },
  {
   "cell_type": "code",
   "execution_count": 96,
   "metadata": {},
   "outputs": [
    {
     "data": {
      "text/plain": [
       "1.0"
      ]
     },
     "execution_count": 96,
     "metadata": {},
     "output_type": "execute_result"
    }
   ],
   "source": []
  },
  {
   "cell_type": "code",
   "execution_count": 5,
   "metadata": {},
   "outputs": [],
   "source": [
    "from gensim.models import Word2Vec"
   ]
  },
  {
   "cell_type": "code",
   "execution_count": 6,
   "metadata": {},
   "outputs": [],
   "source": [
    "modelA = Word2Vec(sentences, min_count=100, sg=1, window=5)\n",
    "modelB = Word2Vec(paragraphs, min_count=100, sg=1, window=5)"
   ]
  },
  {
   "cell_type": "code",
   "execution_count": 7,
   "metadata": {},
   "outputs": [
    {
     "data": {
      "text/plain": [
       "33"
      ]
     },
     "metadata": {},
     "output_type": "display_data"
    },
    {
     "data": {
      "text/plain": [
       "33"
      ]
     },
     "metadata": {},
     "output_type": "display_data"
    }
   ],
   "source": [
    "vocabA = list(modelA.wv.vocab)\n",
    "vocabB = list(modelB.wv.vocab)\n",
    "display(len(vocabA), len(vocabB))"
   ]
  },
  {
   "cell_type": "code",
   "execution_count": 8,
   "metadata": {
    "scrolled": true
   },
   "outputs": [
    {
     "data": {
      "text/plain": [
       "['cómo',\n",
       " 'construir',\n",
       " 'auto',\n",
       " 'coches',\n",
       " 'red',\n",
       " 'motor',\n",
       " 'automóvil',\n",
       " 'tipo',\n",
       " 'parte',\n",
       " 'partes',\n",
       " 'vehículo',\n",
       " 'forma',\n",
       " 'automóviles',\n",
       " 'crear',\n",
       " 'coche',\n",
       " 'carro',\n",
       " 'paso',\n",
       " 'construcción',\n",
       " 'hacer',\n",
       " 'puede',\n",
       " 'carrera',\n",
       " 'cada',\n",
       " 'vehículos',\n",
       " 'diseño',\n",
       " 'componentes',\n",
       " 'carreras',\n",
       " 'soapbox',\n",
       " 'race',\n",
       " 'soap',\n",
       " 'derby',\n",
       " 'autos',\n",
       " 'car',\n",
       " 'sistema']"
      ]
     },
     "execution_count": 8,
     "metadata": {},
     "output_type": "execute_result"
    }
   ],
   "source": [
    "vocabB"
   ]
  },
  {
   "cell_type": "code",
   "execution_count": 9,
   "metadata": {},
   "outputs": [
    {
     "name": "stdout",
     "output_type": "stream",
     "text": [
      "Los vocabularios son iguales\n"
     ]
    }
   ],
   "source": [
    "if vocabA == vocabB:\n",
    "    print(\"Los vocabularios son iguales\")"
   ]
  },
  {
   "cell_type": "markdown",
   "metadata": {},
   "source": [
    "https://tedboy.github.io/nlps/generated/generated/gensim.models.Word2Vec.most_similar.html"
   ]
  },
  {
   "cell_type": "code",
   "execution_count": 14,
   "metadata": {},
   "outputs": [
    {
     "data": {
      "text/plain": [
       "[('derby', 0.6344842910766602),\n",
       " ('auto', 0.6254984736442566),\n",
       " ('red', 0.6227458715438843),\n",
       " ('motor', 0.5847575068473816),\n",
       " ('autos', 0.5610849857330322),\n",
       " ('hacer', 0.5303807258605957),\n",
       " ('carrera', 0.5251247882843018),\n",
       " ('soapbox', 0.5210201144218445),\n",
       " ('coches', 0.5129550695419312),\n",
       " ('carreras', 0.5026319622993469),\n",
       " ('race', 0.4842868149280548),\n",
       " ('sistema', 0.45610958337783813),\n",
       " ('soap', 0.4525313973426819),\n",
       " ('partes', 0.44477230310440063),\n",
       " ('paso', 0.44441527128219604),\n",
       " ('puede', 0.4425002634525299),\n",
       " ('vehículo', 0.44045084714889526),\n",
       " ('car', 0.43445414304733276),\n",
       " ('parte', 0.43244683742523193),\n",
       " ('forma', 0.4275663197040558),\n",
       " ('cómo', 0.42685577273368835),\n",
       " ('carro', 0.4238404333591461),\n",
       " ('automóviles', 0.4185471832752228),\n",
       " ('coche', 0.37519073486328125),\n",
       " ('construcción', 0.37486904859542847),\n",
       " ('crear', 0.3559703826904297),\n",
       " ('tipo', 0.3556676506996155),\n",
       " ('cada', 0.3326230049133301),\n",
       " ('diseño', 0.32883191108703613),\n",
       " ('vehículos', 0.208832785487175),\n",
       " ('componentes', 0.20100930333137512)]"
      ]
     },
     "metadata": {},
     "output_type": "display_data"
    }
   ],
   "source": [
    "try:\n",
    "    display(modelA.wv.most_similar(['construir', 'automóvil'], topn=100))\n",
    "except KeyError:\n",
    "    print(\"Esta palabra no aparece en el modelo\")"
   ]
  },
  {
   "cell_type": "code",
   "execution_count": 11,
   "metadata": {},
   "outputs": [
    {
     "data": {
      "text/plain": [
       "[('motor', 0.9884700775146484),\n",
       " ('derby', 0.987858772277832),\n",
       " ('auto', 0.9876821041107178),\n",
       " ('cómo', 0.9872144460678101),\n",
       " ('coches', 0.9866911172866821),\n",
       " ('automóvil', 0.9864305853843689),\n",
       " ('coche', 0.9859158992767334),\n",
       " ('construcción', 0.9858542680740356),\n",
       " ('autos', 0.9853516817092896),\n",
       " ('carreras', 0.9849960803985596),\n",
       " ('carrera', 0.98432856798172),\n",
       " ('carro', 0.9840787649154663),\n",
       " ('hacer', 0.9824501872062683),\n",
       " ('puede', 0.9823914170265198),\n",
       " ('forma', 0.981465220451355),\n",
       " ('vehículo', 0.9813734292984009),\n",
       " ('parte', 0.9805771112442017),\n",
       " ('red', 0.9805688261985779),\n",
       " ('race', 0.9804389476776123),\n",
       " ('soap', 0.979966402053833),\n",
       " ('partes', 0.9792150259017944),\n",
       " ('soapbox', 0.9790822267532349),\n",
       " ('componentes', 0.9790458679199219),\n",
       " ('sistema', 0.9783315658569336),\n",
       " ('cada', 0.9782556295394897),\n",
       " ('diseño', 0.9779031276702881),\n",
       " ('automóviles', 0.9740152955055237),\n",
       " ('vehículos', 0.9723278880119324),\n",
       " ('paso', 0.9721795320510864),\n",
       " ('tipo', 0.9718643426895142),\n",
       " ('car', 0.9712863564491272),\n",
       " ('crear', 0.9631974697113037)]"
      ]
     },
     "metadata": {},
     "output_type": "display_data"
    }
   ],
   "source": [
    "try:\n",
    "    display(modelB.wv.most_similar('construir', topn=100))\n",
    "except KeyError:\n",
    "    print(\"Esta palabra no aparece en el modelo\")"
   ]
  },
  {
   "cell_type": "code",
   "execution_count": null,
   "metadata": {},
   "outputs": [],
   "source": []
  }
 ],
 "metadata": {
  "kernelspec": {
   "display_name": "Python 3",
   "language": "python",
   "name": "python3"
  },
  "language_info": {
   "codemirror_mode": {
    "name": "ipython",
    "version": 3
   },
   "file_extension": ".py",
   "mimetype": "text/x-python",
   "name": "python",
   "nbconvert_exporter": "python",
   "pygments_lexer": "ipython3",
   "version": "3.7.6"
  }
 },
 "nbformat": 4,
 "nbformat_minor": 4
}
