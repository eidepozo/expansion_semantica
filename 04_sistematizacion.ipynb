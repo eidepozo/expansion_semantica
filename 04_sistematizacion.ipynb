{
 "cells": [
  {
   "cell_type": "markdown",
   "metadata": {},
   "source": [
    "### Corpus\n",
    "- maxq (1) {1-3}: snippets por query a usar\n",
    "- nickname: individual o global (30)\n",
    "- context (False): información contextual del desafio\n",
    "- duplicates (False): solo snippets  unicos\n",
    "- sentences (False): un snippet representa un elemento del arreglo de palabras o por cada oración\n",
    "\n",
    "\n",
    "### Modelo\n",
    "- **words**\n",
    "- minimum (sujeto al tamaño del corpus)\n",
    "- sg (CBOW o SkipGram)\n",
    "- window (sujeto al tamaño del corpus)\n"
   ]
  },
  {
   "cell_type": "code",
   "execution_count": 1,
   "metadata": {},
   "outputs": [],
   "source": [
    "from recommendation import corpus_builder"
   ]
  },
  {
   "cell_type": "markdown",
   "metadata": {},
   "source": [
    " `corpus_builder(challenge_id, context=False, nickname=None, maxq=1, duplicates=False, sentences=False)`"
   ]
  },
  {
   "cell_type": "code",
   "execution_count": 2,
   "metadata": {},
   "outputs": [
    {
     "name": "stderr",
     "output_type": "stream",
     "text": [
      "C:\\Users\\Marcelo\\Desktop\\recomendacion_de_terminos\\filtering.py:14: SettingWithCopyWarning: \n",
      "A value is trying to be set on a copy of a slice from a DataFrame.\n",
      "Try using .loc[row_indexer,col_indexer] = value instead\n",
      "\n",
      "See the caveats in the documentation: https://pandas.pydata.org/pandas-docs/stable/user_guide/indexing.html#returning-a-view-versus-a-copy\n",
      "  filtered_data['snippet'] = filtered_data['snippet'].map(lambda text: BeautifulSoup(text, 'html.parser').get_text())\n"
     ]
    }
   ],
   "source": [
    "sentences = corpus_builder(challenge_id=4, maxq=3, sentences=True)\n",
    "paragraphs = corpus_builder(challenge_id=4, maxq=3, sentences=False)"
   ]
  },
  {
   "cell_type": "code",
   "execution_count": 3,
   "metadata": {},
   "outputs": [
    {
     "data": {
      "text/plain": [
       "58674"
      ]
     },
     "metadata": {},
     "output_type": "display_data"
    },
    {
     "data": {
      "text/plain": [
       "5998"
      ]
     },
     "metadata": {},
     "output_type": "display_data"
    },
    {
     "data": {
      "text/plain": [
       "2325"
      ]
     },
     "metadata": {},
     "output_type": "display_data"
    }
   ],
   "source": [
    "display(sum([len(word) for word in sentences]), len(sentences), len(paragraphs)) #total palabras, total frases, total snippets"
   ]
  },
  {
   "cell_type": "code",
   "execution_count": 4,
   "metadata": {},
   "outputs": [],
   "source": [
    "# calculos para variable window"
   ]
  },
  {
   "cell_type": "code",
   "execution_count": 5,
   "metadata": {},
   "outputs": [],
   "source": [
    "import pandas as pd"
   ]
  },
  {
   "cell_type": "code",
   "execution_count": 6,
   "metadata": {},
   "outputs": [],
   "source": [
    "# sentencias\n",
    "wxsent = [len(word) for word in sentences]\n",
    "\n",
    "wxs = pd.DataFrame(wxsent)\n",
    "\n",
    "wxs.to_csv('wxsent.csv', header=['count'], index=False)\n",
    "\n",
    "#wxsent"
   ]
  },
  {
   "cell_type": "code",
   "execution_count": 7,
   "metadata": {},
   "outputs": [],
   "source": [
    "# parrafos\n",
    "wxpar = [len(word) for word in paragraphs]\n",
    "\n",
    "wxp = pd.DataFrame(wxpar)\n",
    "\n",
    "wxp.to_csv('wxpar.csv', header=['count'], index=False)\n",
    "\n",
    "#wxsent"
   ]
  },
  {
   "cell_type": "code",
   "execution_count": 8,
   "metadata": {},
   "outputs": [],
   "source": [
    "# calculos para min_count (al ser el mismo vocabulario basta con uno)"
   ]
  },
  {
   "cell_type": "code",
   "execution_count": 9,
   "metadata": {},
   "outputs": [],
   "source": [
    "from collections import Counter\n",
    "import numpy as np"
   ]
  },
  {
   "cell_type": "code",
   "execution_count": 10,
   "metadata": {},
   "outputs": [],
   "source": [
    "wxsenstats = Counter(x for xs in sentences for x in set(xs))"
   ]
  },
  {
   "cell_type": "code",
   "execution_count": 11,
   "metadata": {},
   "outputs": [
    {
     "data": {
      "text/plain": [
       "('auto', 473)"
      ]
     },
     "metadata": {},
     "output_type": "display_data"
    },
    {
     "data": {
      "text/plain": [
       "('surprise', 1)"
      ]
     },
     "metadata": {},
     "output_type": "display_data"
    }
   ],
   "source": [
    "display(wxsenstats.most_common(1)[0], wxsenstats.most_common()[-1]) #palabra con mayor/menor ocurrencias"
   ]
  },
  {
   "cell_type": "markdown",
   "metadata": {},
   "source": [
    "https://stackoverflow.com/questions/33695220/calculate-mean-on-values-in-python-collections-counter\n",
    "\n",
    "https://stackoverflow.com/questions/10373247/how-do-i-write-a-python-dictionary-to-a-csv-file"
   ]
  },
  {
   "cell_type": "code",
   "execution_count": 12,
   "metadata": {},
   "outputs": [],
   "source": [
    "# necesario para exportar las palabras y su frecuencia\n",
    "import csv\n",
    "\n",
    "with open('wxsenstats.csv','w') as f:\n",
    "    w = csv.writer(f)\n",
    "    w.writerows(wxsenstats.items())"
   ]
  },
  {
   "cell_type": "code",
   "execution_count": 13,
   "metadata": {},
   "outputs": [
    {
     "data": {
      "text/plain": [
       "3.713269512032974"
      ]
     },
     "execution_count": 13,
     "metadata": {},
     "output_type": "execute_result"
    }
   ],
   "source": [
    "nth = list(wxsenstats.values())\n",
    "np.mean(nth) #promedio de ocurrencias, hasta n veces"
   ]
  },
  {
   "cell_type": "markdown",
   "metadata": {},
   "source": [
    "## Modelos\n",
    "\n",
    "Consideraciones en los parametros min_count y window correspondientemente:\n",
    "\n",
    "De 04B_Estadisticas se obtuvo:\n",
    "\n",
    "\n",
    "| Ocurrencias >= | 2     | 3     | 4   | 5     | 6   | 7   | 8  | 9    | 10    | 38 |\n",
    "|----------------|-------|-------|-----|-------|-----|-----|----|------|-------|----|\n",
    "| Contribucion   | 43.5% | 27.3% | 20% | 15.5% | 12% | 10% | 9% | 7.9% | 7.12% | 1% |\n",
    "\n",
    "\n",
    "Se estimo un promedio de 9 palabras por frase y de 25 palabras por sentencia (snippet)."
   ]
  },
  {
   "cell_type": "code",
   "execution_count": 14,
   "metadata": {},
   "outputs": [],
   "source": [
    "from gensim.models import Word2Vec"
   ]
  },
  {
   "cell_type": "code",
   "execution_count": 15,
   "metadata": {},
   "outputs": [],
   "source": [
    "modelA = Word2Vec(sentences, min_count=3, sg=1, window=5)\n",
    "modelB = Word2Vec(sentences, min_count=4, sg=1, window=5) \n",
    "modelC = Word2Vec(sentences, min_count=5, sg=1, window=5) # estandar\n",
    "modelD = Word2Vec(sentences, min_count=6, sg=1, window=5)  \n",
    "modelE = Word2Vec(sentences, min_count=7, sg=1, window=5)\n",
    "modelF = Word2Vec(sentences, min_count=8, sg=1, window=5)\n",
    "modelG = Word2Vec(sentences, min_count=9, sg=1, window=5)\n",
    "modelH = Word2Vec(sentences, min_count=10, sg=1, window=5) "
   ]
  },
  {
   "cell_type": "code",
   "execution_count": 16,
   "metadata": {},
   "outputs": [],
   "source": [
    "modelA.save(\"model/word2vec.modelA\")\n",
    "modelB.save(\"model/word2vec.modelB\")\n",
    "modelC.save(\"model/word2vec.modelC\")\n",
    "modelD.save(\"model/word2vec.modelD\")\n",
    "modelE.save(\"model/word2vec.modelE\")\n",
    "modelF.save(\"model/word2vec.modelF\")\n",
    "modelG.save(\"model/word2vec.modelG\")\n",
    "modelH.save(\"model/word2vec.modelH\")"
   ]
  },
  {
   "cell_type": "code",
   "execution_count": 17,
   "metadata": {},
   "outputs": [],
   "source": [
    "modelJ = Word2Vec(sentences, min_count=100, sg=1, window=5) "
   ]
  },
  {
   "cell_type": "code",
   "execution_count": 18,
   "metadata": {},
   "outputs": [
    {
     "data": {
      "text/plain": [
       "33"
      ]
     },
     "metadata": {},
     "output_type": "display_data"
    }
   ],
   "source": [
    "vocab = list(modelJ.wv.vocab)\n",
    "display(len(vocab))"
   ]
  },
  {
   "cell_type": "markdown",
   "metadata": {},
   "source": [
    "https://tedboy.github.io/nlps/generated/generated/gensim.models.Word2Vec.most_similar.html"
   ]
  },
  {
   "cell_type": "code",
   "execution_count": 19,
   "metadata": {},
   "outputs": [
    {
     "data": {
      "text/plain": [
       "[('soapbox', 0.5173246264457703),\n",
       " ('coches', 0.4976707994937897),\n",
       " ('coche', 0.4935864806175232),\n",
       " ('derby', 0.48705780506134033),\n",
       " ('hacer', 0.484241247177124),\n",
       " ('auto', 0.47886013984680176),\n",
       " ('race', 0.47753432393074036),\n",
       " ('cómo', 0.4627116322517395),\n",
       " ('forma', 0.44946253299713135),\n",
       " ('autos', 0.44606807827949524),\n",
       " ('carreras', 0.4394255578517914),\n",
       " ('diseño', 0.42801424860954285),\n",
       " ('paso', 0.41978445649147034),\n",
       " ('red', 0.408299058675766),\n",
       " ('cada', 0.40724608302116394),\n",
       " ('automóvil', 0.4061136543750763),\n",
       " ('motor', 0.3912082612514496),\n",
       " ('vehículos', 0.3579884469509125),\n",
       " ('crear', 0.35261473059654236),\n",
       " ('construcción', 0.3516138195991516),\n",
       " ('sistema', 0.3482116460800171),\n",
       " ('car', 0.34769827127456665),\n",
       " ('carrera', 0.3422827124595642),\n",
       " ('puede', 0.3343588709831238),\n",
       " ('tipo', 0.33098500967025757),\n",
       " ('carro', 0.3301277160644531),\n",
       " ('automóviles', 0.3192175328731537),\n",
       " ('soap', 0.29224032163619995),\n",
       " ('parte', 0.2705831825733185),\n",
       " ('vehículo', 0.24512791633605957),\n",
       " ('partes', 0.165337473154068),\n",
       " ('componentes', 0.12326237559318542)]"
      ]
     },
     "metadata": {},
     "output_type": "display_data"
    }
   ],
   "source": [
    "try:\n",
    "    display(modelJ.wv.most_similar(['construir'], topn=100))\n",
    "except KeyError:\n",
    "    print(\"Esta palabra no aparece en el modelo\")"
   ]
  },
  {
   "cell_type": "code",
   "execution_count": null,
   "metadata": {},
   "outputs": [],
   "source": []
  }
 ],
 "metadata": {
  "kernelspec": {
   "display_name": "Python 3",
   "language": "python",
   "name": "python3"
  },
  "language_info": {
   "codemirror_mode": {
    "name": "ipython",
    "version": 3
   },
   "file_extension": ".py",
   "mimetype": "text/x-python",
   "name": "python",
   "nbconvert_exporter": "python",
   "pygments_lexer": "ipython3",
   "version": "3.8.5"
  }
 },
 "nbformat": 4,
 "nbformat_minor": 4
}
