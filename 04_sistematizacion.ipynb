{
 "cells": [
  {
   "cell_type": "markdown",
   "metadata": {},
   "source": [
    "@eidepozo"
   ]
  },
  {
   "cell_type": "markdown",
   "metadata": {},
   "source": [
    "Etapa de preprocesamiento de los snippets mediante la función  `corpus_builder` para la generación del corpus. Incluye el entrenamiento de los 3 modelos Word2vec.\n",
    "\n",
    "### Parámetros\n",
    "\n",
    "**Corpus**\n",
    "- maxq (1) {1-3}: cantidad de querys a utilizar por usuario\n",
    "- nickname: data individual o global (30)\n",
    "- context (False): información contextual del desafio\n",
    "- duplicates (False): solo snippets  unicos\n",
    "- sentences (False): un snippet representa un elemento del arreglo de palabras o por cada oración\n",
    "\n",
    "\n",
    "https://radimrehurek.com/gensim/models/word2vec.html\n",
    "\n",
    "**Modelo**\n",
    "- **sentences**: coleccion de entrada o corpus\n",
    "- min_count:  frecuencia minima de palabras \n",
    "- sg: arquitectura del modelo (CBOW o SkipGram)\n",
    "- window: ventana o distancia maxima desde la palabra de entrada\n"
   ]
  },
  {
   "cell_type": "code",
   "execution_count": 1,
   "metadata": {},
   "outputs": [],
   "source": [
    "from recommendation import corpus_builder"
   ]
  },
  {
   "cell_type": "markdown",
   "metadata": {},
   "source": [
    " `corpus_builder(challenge_id, context=False, nickname=None, maxq=1, duplicates=False, sentences=False)`"
   ]
  },
  {
   "cell_type": "code",
   "execution_count": 2,
   "metadata": {},
   "outputs": [
    {
     "name": "stderr",
     "output_type": "stream",
     "text": [
      "C:\\Users\\Marcelo\\Desktop\\recomendacion_de_terminos\\filtering.py:14: SettingWithCopyWarning: \n",
      "A value is trying to be set on a copy of a slice from a DataFrame.\n",
      "Try using .loc[row_indexer,col_indexer] = value instead\n",
      "\n",
      "See the caveats in the documentation: https://pandas.pydata.org/pandas-docs/stable/user_guide/indexing.html#returning-a-view-versus-a-copy\n",
      "  filtered_data['snippet'] = filtered_data['snippet'].map(lambda text: BeautifulSoup(text, 'html.parser').get_text())\n"
     ]
    }
   ],
   "source": [
    "sentences = corpus_builder(challenge_id=4, maxq=3, sentences=True)\n",
    "paragraphs = corpus_builder(challenge_id=4, maxq=3, sentences=False)"
   ]
  },
  {
   "cell_type": "code",
   "execution_count": 3,
   "metadata": {},
   "outputs": [],
   "source": [
    "#sentences"
   ]
  },
  {
   "cell_type": "code",
   "execution_count": 4,
   "metadata": {},
   "outputs": [
    {
     "data": {
      "text/plain": [
       "58285"
      ]
     },
     "metadata": {},
     "output_type": "display_data"
    },
    {
     "data": {
      "text/plain": [
       "5991"
      ]
     },
     "metadata": {},
     "output_type": "display_data"
    },
    {
     "data": {
      "text/plain": [
       "2325"
      ]
     },
     "metadata": {},
     "output_type": "display_data"
    }
   ],
   "source": [
    "display(sum([len(word) for word in sentences]), len(sentences), len(paragraphs)) #total palabras, total frases, total snippets"
   ]
  },
  {
   "cell_type": "code",
   "execution_count": 5,
   "metadata": {},
   "outputs": [],
   "source": [
    "terms_par = [] #total de terminos por parrafo"
   ]
  },
  {
   "cell_type": "code",
   "execution_count": 6,
   "metadata": {},
   "outputs": [],
   "source": [
    "for i in range(len(paragraphs)):\n",
    "    terms_par.append(len(paragraphs[i]))"
   ]
  },
  {
   "cell_type": "code",
   "execution_count": 7,
   "metadata": {},
   "outputs": [],
   "source": [
    "import numpy as np"
   ]
  },
  {
   "cell_type": "code",
   "execution_count": 8,
   "metadata": {},
   "outputs": [
    {
     "data": {
      "text/plain": [
       "25.068817204301077"
      ]
     },
     "metadata": {},
     "output_type": "display_data"
    },
    {
     "data": {
      "text/plain": [
       "6.715829134707473"
      ]
     },
     "metadata": {},
     "output_type": "display_data"
    }
   ],
   "source": [
    "display(np.mean(terms_par), np.std(terms_par))"
   ]
  },
  {
   "cell_type": "code",
   "execution_count": 9,
   "metadata": {},
   "outputs": [],
   "source": [
    "# calculos para variable window"
   ]
  },
  {
   "cell_type": "code",
   "execution_count": 10,
   "metadata": {},
   "outputs": [],
   "source": [
    "import pandas as pd"
   ]
  },
  {
   "cell_type": "code",
   "execution_count": 11,
   "metadata": {},
   "outputs": [],
   "source": [
    "# sentencias\n",
    "wxsent = [len(word) for word in sentences]\n",
    "\n",
    "wxs = pd.DataFrame(wxsent)\n",
    "\n",
    "#wxs.to_csv('wxsent.csv', header=['count'], index=False)\n",
    "\n",
    "#wxsent"
   ]
  },
  {
   "cell_type": "code",
   "execution_count": 12,
   "metadata": {},
   "outputs": [],
   "source": [
    "# parrafos\n",
    "wxpar = [len(word) for word in paragraphs]\n",
    "\n",
    "wxp = pd.DataFrame(wxpar)\n",
    "\n",
    "#wxp.to_csv('wxpar.csv', header=['count'], index=False)\n",
    "\n",
    "#wxsent"
   ]
  },
  {
   "cell_type": "code",
   "execution_count": 13,
   "metadata": {},
   "outputs": [],
   "source": [
    "# calculos para min_count (al ser el mismo vocabulario basta con uno)"
   ]
  },
  {
   "cell_type": "code",
   "execution_count": 14,
   "metadata": {},
   "outputs": [],
   "source": [
    "from collections import Counter\n",
    "import numpy as np"
   ]
  },
  {
   "cell_type": "code",
   "execution_count": 15,
   "metadata": {},
   "outputs": [],
   "source": [
    "wxsenstats = Counter(x for xs in sentences for x in set(xs))"
   ]
  },
  {
   "cell_type": "code",
   "execution_count": 16,
   "metadata": {},
   "outputs": [
    {
     "data": {
      "text/plain": [
       "('auto', 473)"
      ]
     },
     "metadata": {},
     "output_type": "display_data"
    },
    {
     "data": {
      "text/plain": [
       "('shopkins', 1)"
      ]
     },
     "metadata": {},
     "output_type": "display_data"
    }
   ],
   "source": [
    "display(wxsenstats.most_common(1)[0], wxsenstats.most_common()[-1]) #palabra con mayor/menor ocurrencias"
   ]
  },
  {
   "cell_type": "markdown",
   "metadata": {},
   "source": [
    "https://stackoverflow.com/questions/33695220/calculate-mean-on-values-in-python-collections-counter\n",
    "\n",
    "https://stackoverflow.com/questions/10373247/how-do-i-write-a-python-dictionary-to-a-csv-file"
   ]
  },
  {
   "cell_type": "code",
   "execution_count": 17,
   "metadata": {},
   "outputs": [
    {
     "data": {
      "text/plain": [
       "\"\\nimport csv\\n\\nwith open('wxsenstats.csv','w') as f:\\n    w = csv.writer(f)\\n    w.writerows(wxsenstats.items())\\n\""
      ]
     },
     "execution_count": 17,
     "metadata": {},
     "output_type": "execute_result"
    }
   ],
   "source": [
    "# necesario para exportar las palabras y su frecuencia\n",
    "'''\n",
    "import csv\n",
    "\n",
    "with open('wxsenstats.csv','w') as f:\n",
    "    w = csv.writer(f)\n",
    "    w.writerows(wxsenstats.items())\n",
    "'''"
   ]
  },
  {
   "cell_type": "code",
   "execution_count": 18,
   "metadata": {},
   "outputs": [
    {
     "data": {
      "text/plain": [
       "3.695851920900193"
      ]
     },
     "execution_count": 18,
     "metadata": {},
     "output_type": "execute_result"
    }
   ],
   "source": [
    "nth = list(wxsenstats.values())\n",
    "np.mean(nth) #promedio de ocurrencias, hasta n veces"
   ]
  },
  {
   "cell_type": "markdown",
   "metadata": {},
   "source": [
    "## Modelos\n",
    "\n",
    "Consideraciones en los parametros min_count y window correspondientemente:\n",
    "\n",
    "De 04B_estadisticas se obtuvo:\n",
    "\n",
    "\n",
    "| Ocurrencias >= | 2     | 3     | 4   | 5     | 6   | 7   | 8  | 9    | 10    | 38 |\n",
    "|----------------|-------|-------|-----|-------|-----|-----|----|------|-------|----|\n",
    "| Contribucion   | 43.43% | 27.28% | 20% | 15.49% | 12.30% | 10.51% | 9.02% | 7.89% | 7.03% | 1.018% |\n",
    "\n",
    "\n",
    "Se estimo un promedio de 9 palabras por frase."
   ]
  },
  {
   "cell_type": "code",
   "execution_count": 19,
   "metadata": {},
   "outputs": [],
   "source": [
    "from gensim.models import Word2Vec"
   ]
  },
  {
   "cell_type": "markdown",
   "metadata": {},
   "source": [
    "Se definen 3 nuevos modelos:\n",
    "\n",
    "- A o estandar\n",
    "- B con min_count de 8 obtenido usando la información contextual\n",
    "- y C con min_count de 15 (determinado) para tener la mitad de palabras que B.\n",
    "\n",
    "El modelo 0, es igual al modelo C, solo que sin los ultimos cambios del corpus_builder"
   ]
  },
  {
   "cell_type": "code",
   "execution_count": 20,
   "metadata": {},
   "outputs": [
    {
     "data": {
      "text/plain": [
       "'\\nmodelA = Word2Vec(sentences, min_count=5, sg=1, window=5) # estandar\\nmodelB = Word2Vec(sentences, min_count=8, sg=1, window=5)  \\nmodelC = Word2Vec(sentences, min_count=15, sg=1, window=5)\\n'"
      ]
     },
     "execution_count": 20,
     "metadata": {},
     "output_type": "execute_result"
    }
   ],
   "source": [
    "'''\n",
    "modelA = Word2Vec(sentences, min_count=5, sg=1, window=5) # estandar\n",
    "modelB = Word2Vec(sentences, min_count=8, sg=1, window=5)  \n",
    "modelC = Word2Vec(sentences, min_count=15, sg=1, window=5)\n",
    "'''"
   ]
  },
  {
   "cell_type": "code",
   "execution_count": 21,
   "metadata": {
    "scrolled": true
   },
   "outputs": [
    {
     "data": {
      "text/plain": [
       "'\\nmodelA.save(\"modelA/word2vec.modelA\")\\nmodelB.save(\"modelB/word2vec.modelB\")\\nmodelC.save(\"modelC/word2vec.modelC\")\\n'"
      ]
     },
     "execution_count": 21,
     "metadata": {},
     "output_type": "execute_result"
    }
   ],
   "source": [
    "'''\n",
    "modelA.save(\"modelA/word2vec.modelA\")\n",
    "modelB.save(\"modelB/word2vec.modelB\")\n",
    "modelC.save(\"modelC/word2vec.modelC\")\n",
    "'''"
   ]
  },
  {
   "cell_type": "code",
   "execution_count": 22,
   "metadata": {},
   "outputs": [],
   "source": [
    "#model0 = Word2Vec(sentences, min_count=15, sg=1, window=5)\n",
    "model0 = Word2Vec.load('model0/word2vec.model0')"
   ]
  },
  {
   "cell_type": "code",
   "execution_count": 23,
   "metadata": {},
   "outputs": [
    {
     "data": {
      "text/plain": [
       "673"
      ]
     },
     "metadata": {},
     "output_type": "display_data"
    }
   ],
   "source": [
    "vocab = list(model0.wv.vocab)\n",
    "display(len(vocab))"
   ]
  },
  {
   "cell_type": "markdown",
   "metadata": {},
   "source": [
    "https://tedboy.github.io/nlps/generated/generated/gensim.models.Word2Vec.most_similar.html"
   ]
  },
  {
   "cell_type": "code",
   "execution_count": 24,
   "metadata": {},
   "outputs": [
    {
     "data": {
      "text/plain": [
       "[('puede', 0.999129056930542),\n",
       " ('manera', 0.9991154670715332),\n",
       " ('vehículo', 0.999055027961731),\n",
       " ('forma', 0.9990107417106628),\n",
       " ('parte', 0.9989521503448486),\n",
       " ('materiales', 0.9989474415779114),\n",
       " ('trabajo', 0.9989029169082642),\n",
       " ('así', 0.998866081237793),\n",
       " ('pasos', 0.9988434910774231),\n",
       " ('realizar', 0.9988408088684082),\n",
       " ('principales', 0.9988343119621277),\n",
       " ('cualquier', 0.9988256692886353),\n",
       " ('aprender', 0.9987882375717163),\n",
       " ('mismo', 0.9987816214561462),\n",
       " ('pequeño', 0.9987545013427734),\n",
       " ('debe', 0.9987455606460571),\n",
       " ('chasis', 0.9987413883209229),\n",
       " ('tiempo', 0.9987159967422485),\n",
       " ('carro', 0.998704731464386),\n",
       " ('dirección', 0.9986695647239685),\n",
       " ('dos', 0.9986684322357178),\n",
       " ('construcción', 0.9986283779144287),\n",
       " ('tipo', 0.9986223578453064),\n",
       " ('elementos', 0.9985976219177246),\n",
       " ('proceso', 0.9985955357551575),\n",
       " ('motores', 0.998587965965271),\n",
       " ('dentro', 0.9985867738723755),\n",
       " ('artículo', 0.9985866546630859),\n",
       " ('necesarios', 0.9985449314117432),\n",
       " ('cada', 0.9985219836235046),\n",
       " ('básico', 0.9985093474388123),\n",
       " ('poder', 0.9984960556030273),\n",
       " ('diferentes', 0.998487114906311),\n",
       " ('control', 0.99846351146698),\n",
       " ('motor', 0.9984478950500488),\n",
       " ('eléctrico', 0.998429536819458),\n",
       " ('proyecto', 0.9984054565429688),\n",
       " ('aire', 0.9984050393104553),\n",
       " ('ruedas', 0.9983934760093689),\n",
       " ('crear', 0.9983924627304077),\n",
       " ('pueden', 0.9983751773834229),\n",
       " ('través', 0.9983668923377991),\n",
       " ('puedes', 0.9983639717102051),\n",
       " ('conjunto', 0.998358964920044),\n",
       " ('casero', 0.998354434967041),\n",
       " ('componentes', 0.998345136642456),\n",
       " ('siguientes', 0.9983400106430054),\n",
       " ('partes', 0.9983342885971069),\n",
       " ('decir', 0.9983300566673279),\n",
       " ('buen', 0.9983091354370117),\n",
       " ('gasolina', 0.9983064532279968),\n",
       " ('ahora', 0.9982951879501343),\n",
       " ('hacer', 0.998264729976654),\n",
       " ('cuales', 0.9982603788375854),\n",
       " ('cuenta', 0.9982572793960571),\n",
       " ('plano', 0.9982476234436035),\n",
       " ('bien', 0.9982240200042725),\n",
       " ('saber', 0.9982144832611084),\n",
       " ('combustible', 0.9981986284255981),\n",
       " ('obtener', 0.9981981515884399),\n",
       " ('sistema', 0.9981964826583862),\n",
       " ('automóvil', 0.9981911778450012),\n",
       " ('tan', 0.9981864094734192),\n",
       " ('solar', 0.9981841444969177),\n",
       " ('comprar', 0.9981836080551147),\n",
       " ('construido', 0.9981541037559509),\n",
       " ('cilindros', 0.9981533288955688),\n",
       " ('posible', 0.9981520771980286),\n",
       " ('funciona', 0.9981344938278198),\n",
       " ('sencillo', 0.9981286525726318),\n",
       " ('cómo', 0.9981199502944946),\n",
       " ('movimiento', 0.9981167316436768),\n",
       " ('aceite', 0.9981165528297424),\n",
       " ('juguete', 0.9981139898300171),\n",
       " ('largo', 0.9981077313423157),\n",
       " ('mantenimiento', 0.998103141784668),\n",
       " ('nuevo', 0.9980939626693726),\n",
       " ('espacio', 0.9980924129486084),\n",
       " ('coche', 0.9980665445327759),\n",
       " ('diseño', 0.9980500340461731),\n",
       " ('ejemplo', 0.9980384111404419),\n",
       " ('según', 0.9980361461639404),\n",
       " ('mejor', 0.9980238676071167),\n",
       " ('armar', 0.9980206489562988),\n",
       " ('esenciales', 0.9980177283287048),\n",
       " ('quieres', 0.9980026483535767),\n",
       " ('vida', 0.9980006814002991),\n",
       " ('además', 0.9979990720748901),\n",
       " ('piezas', 0.9979984760284424),\n",
       " ('interna', 0.997988224029541),\n",
       " ('seguir', 0.9979760646820068),\n",
       " ('automovil', 0.997970700263977),\n",
       " ('bloque', 0.9979667663574219),\n",
       " ('sino', 0.9979655742645264),\n",
       " ('costo', 0.9979598522186279),\n",
       " ('permite', 0.9979534149169922),\n",
       " ('mayor', 0.9979437589645386),\n",
       " ('ir', 0.9979379177093506),\n",
       " ('final', 0.9979351758956909),\n",
       " ('frenos', 0.9979100823402405),\n",
       " ('etc', 0.9979056119918823),\n",
       " ('aquí', 0.997900664806366),\n",
       " ('información', 0.9978958368301392),\n",
       " ('vamos', 0.9978954792022705),\n",
       " ('calidad', 0.9978934526443481),\n",
       " ('niño', 0.9978834390640259),\n",
       " ('carrito', 0.9978792667388916),\n",
       " ('cosas', 0.9978694915771484),\n",
       " ('transmisión', 0.9978680610656738),\n",
       " ('batería', 0.9978579878807068),\n",
       " ('básicos', 0.997856855392456),\n",
       " ('u', 0.9978547096252441),\n",
       " ('litros', 0.99784916639328),\n",
       " ('sencilla', 0.9978430271148682),\n",
       " ('diagrama', 0.9978424906730652),\n",
       " ('combustión', 0.9978393316268921),\n",
       " ('utilizar', 0.9978374242782593),\n",
       " ('potencia', 0.9978351593017578),\n",
       " ('puedan', 0.9978323578834534),\n",
       " ('fabricar', 0.9978312849998474),\n",
       " ('capaz', 0.9978303909301758),\n",
       " ('básicas', 0.9978242516517639),\n",
       " ('guía', 0.997817873954773),\n",
       " ('electrico', 0.9978159666061401),\n",
       " ('importantes', 0.9978106021881104),\n",
       " ('dibujo', 0.9978101849555969),\n",
       " ('cuatro', 0.9978070855140686),\n",
       " ('material', 0.9978040456771851),\n",
       " ('hora', 0.9977843761444092),\n",
       " ('fabricación', 0.9977820515632629),\n",
       " ('podemos', 0.9977811574935913),\n",
       " ('usando', 0.997778594493866),\n",
       " ('quiero', 0.9977760314941406),\n",
       " ('características', 0.9977739453315735),\n",
       " ('muestra', 0.9977731704711914),\n",
       " ('número', 0.997768223285675),\n",
       " ('necesario', 0.9977656006813049),\n",
       " ('modelo', 0.9977623224258423),\n",
       " ('problemas', 0.9977558851242065),\n",
       " ('función', 0.9977496862411499),\n",
       " ('interior', 0.9977483153343201),\n",
       " ('alta', 0.997748076915741),\n",
       " ('casa', 0.9977387189865112),\n",
       " ('volante', 0.9977384805679321),\n",
       " ('debes', 0.9977337121963501),\n",
       " ('herramientas', 0.9977275729179382),\n",
       " ('da', 0.9977209568023682),\n",
       " ('carrocería', 0.9977191090583801),\n",
       " ('principal', 0.9977074861526489),\n",
       " ('conducir', 0.9977028965950012),\n",
       " ('algún', 0.9976979494094849),\n",
       " ('desarrollo', 0.997689425945282),\n",
       " ('delantera', 0.9976824522018433),\n",
       " ('uso', 0.9976806640625),\n",
       " ('papel', 0.9976791739463806),\n",
       " ('tamaño', 0.997678279876709),\n",
       " ('tal', 0.9976745843887329),\n",
       " ('medio', 0.9976742267608643),\n",
       " ('lado', 0.9976723194122314),\n",
       " ('persona', 0.9976662993431091),\n",
       " ('niños', 0.9976649284362793),\n",
       " ('usar', 0.9976626038551331),\n",
       " ('mientras', 0.9976603984832764),\n",
       " ('suspensión', 0.9976592659950256),\n",
       " ('estudio', 0.9976464509963989),\n",
       " ('ello', 0.9976345300674438),\n",
       " ('conseguir', 0.9976330995559692),\n",
       " ('base', 0.9976304173469543),\n",
       " ('estructura', 0.9976279139518738),\n",
       " ('datos', 0.9976270198822021),\n",
       " ('estilo', 0.9976202249526978),\n",
       " ('mejorar', 0.9976193904876709),\n",
       " ('puntos', 0.9976078867912292),\n",
       " ('curso', 0.997603714466095),\n",
       " ('conocer', 0.9975892305374146),\n",
       " ('hecho', 0.9975880980491638),\n",
       " ('general', 0.9975782632827759),\n",
       " ('todas', 0.9975730776786804),\n",
       " ('productos', 0.9975663423538208),\n",
       " ('cantidad', 0.9975656270980835),\n",
       " ('momento', 0.9975619316101074),\n",
       " ('buena', 0.9975600838661194),\n",
       " ('partir', 0.9975557327270508),\n",
       " ('funcionamiento', 0.997550904750824),\n",
       " ('programa', 0.9975494742393494),\n",
       " ('dinero', 0.9975396990776062),\n",
       " ('alternador', 0.9975393414497375),\n",
       " ('puertas', 0.99753737449646),\n",
       " ('menos', 0.9975354075431824),\n",
       " ('baterías', 0.9975260496139526),\n",
       " ('objeto', 0.9975221157073975),\n",
       " ('planos', 0.9975192546844482),\n",
       " ('servicio', 0.9975190162658691),\n",
       " ('fuente', 0.9975167512893677),\n",
       " ('van', 0.9975124597549438),\n",
       " ('automotriz', 0.9975073933601379),\n",
       " ('medidas', 0.9975063800811768),\n",
       " ('compra', 0.9975043535232544),\n",
       " ('cambio', 0.9975005388259888),\n",
       " ('deben', 0.9974818229675293),\n",
       " ('corriente', 0.9974801540374756),\n",
       " ('seguridad', 0.9974730610847473),\n",
       " ('conductor', 0.9974668025970459),\n",
       " ('ayuda', 0.9974656105041504),\n",
       " ('después', 0.9974645376205444),\n",
       " ('clic', 0.9974631071090698),\n",
       " ('propio', 0.9974629878997803),\n",
       " ('utiliza', 0.9974614381790161),\n",
       " ('fácil', 0.9974608421325684),\n",
       " ('hacerlo', 0.9974596500396729),\n",
       " ('escala', 0.9974594116210938),\n",
       " ('energía', 0.9974571466445923),\n",
       " ('misma', 0.9974492788314819),\n",
       " ('empezar', 0.9974491596221924),\n",
       " ('deportivo', 0.9974383115768433),\n",
       " ('agua', 0.997437596321106),\n",
       " ('juguetes', 0.9974362254142761),\n",
       " ('imagen', 0.9974357485771179),\n",
       " ('producción', 0.9974309802055359),\n",
       " ('cable', 0.9974305629730225),\n",
       " ('respuesta', 0.9974089860916138),\n",
       " ('necesita', 0.9973968267440796),\n",
       " ('aprendizaje', 0.997374415397644),\n",
       " ('primeros', 0.9973685145378113),\n",
       " ('mecánica', 0.9973456859588623),\n",
       " ('dar', 0.9973422288894653),\n",
       " ('ver', 0.9973354339599609),\n",
       " ('eje', 0.9973324537277222),\n",
       " ('tres', 0.997317910194397),\n",
       " ('podría', 0.9973121881484985),\n",
       " ('electricidad', 0.9973112940788269),\n",
       " ('caso', 0.9973016977310181),\n",
       " ('muchas', 0.9973003268241882),\n",
       " ('lleva', 0.9972992539405823),\n",
       " ('total', 0.9972974061965942),\n",
       " ('hogar', 0.9972940683364868),\n",
       " ('primero', 0.9972939491271973),\n",
       " ('marca', 0.9972935318946838),\n",
       " ('cambios', 0.9972876310348511),\n",
       " ('usa', 0.997283399105072),\n",
       " ('rápido', 0.9972782135009766),\n",
       " ('mercado', 0.9972782135009766),\n",
       " ('texto', 0.9972763061523438),\n",
       " ('autocad', 0.9972708821296692),\n",
       " ('vehiculo', 0.9972702264785767),\n",
       " ('accidente', 0.9972686171531677),\n",
       " ('necesitas', 0.9972676038742065),\n",
       " ('elemento', 0.9972670674324036),\n",
       " ('usado', 0.9972618818283081),\n",
       " ('embargo', 0.997257649898529),\n",
       " ('utilizan', 0.9972531199455261),\n",
       " ('creo', 0.9972522258758545),\n",
       " ('poner', 0.9972456693649292),\n",
       " ('acuerdo', 0.9972389936447144),\n",
       " ('archivo', 0.9972326755523682),\n",
       " ('luego', 0.9972307682037354),\n",
       " ('taller', 0.9972273111343384),\n",
       " ('transporte', 0.9972195029258728),\n",
       " ('llevar', 0.9972176551818848),\n",
       " ('industria', 0.9972173571586609),\n",
       " ('tipos', 0.9972150921821594),\n",
       " ('casi', 0.9972084164619446),\n",
       " ('encuentra', 0.9972019195556641),\n",
       " ('tomar', 0.9972004890441895),\n",
       " ('acero', 0.9971997737884521),\n",
       " ('pueda', 0.9971994161605835),\n",
       " ('mediante', 0.9971889853477478),\n",
       " ('plataforma', 0.9971885085105896),\n",
       " ('vivienda', 0.9971799850463867),\n",
       " ('pagar', 0.9971754550933838),\n",
       " ('sirve', 0.9971737861633301),\n",
       " ('velocidades', 0.9971736073493958),\n",
       " ('condiciones', 0.9971694946289062),\n",
       " ('técnicas', 0.9971630573272705),\n",
       " ('terreno', 0.9971439838409424),\n",
       " ('alto', 0.997140645980835),\n",
       " ('entonces', 0.997134268283844),\n",
       " ('sólo', 0.9971230626106262),\n",
       " ('plan', 0.9971166849136353),\n",
       " ('pues', 0.9971143007278442),\n",
       " ('construir', 0.9971129894256592),\n",
       " ('cables', 0.9971124529838562),\n",
       " ('procesos', 0.9971103668212891),\n",
       " ('instrucciones', 0.9971092939376831),\n",
       " ('carga', 0.9971073269844055),\n",
       " ('generador', 0.9971046447753906),\n",
       " ('arquitectura', 0.9970946311950684),\n",
       " ('ventas', 0.9970929622650146),\n",
       " ('podrás', 0.9970922470092773),\n",
       " ('solo', 0.9970890879631042),\n",
       " ('importante', 0.9970874786376953),\n",
       " ('acceso', 0.9970844388008118),\n",
       " ('necesidades', 0.9970699548721313),\n",
       " ('valor', 0.9970696568489075),\n",
       " ('formas', 0.9970641136169434),\n",
       " ('haga', 0.997056782245636),\n",
       " ('actividad', 0.9970565438270569),\n",
       " ('usted', 0.9970479607582092),\n",
       " ('luces', 0.9970434308052063),\n",
       " ('simples', 0.9970424771308899),\n",
       " ('medida', 0.9970347881317139),\n",
       " ('calle', 0.9970300793647766),\n",
       " ('resistencia', 0.9970294237136841),\n",
       " ('útil', 0.9970213174819946),\n",
       " ('hace', 0.9970153570175171),\n",
       " ('vas', 0.9970093965530396),\n",
       " ('pieza', 0.9970091581344604),\n",
       " ('vendedor', 0.9970051050186157),\n",
       " ('buscar', 0.9970009326934814),\n",
       " ('siguiente', 0.9969933032989502),\n",
       " ('éste', 0.9969907999038696),\n",
       " ('guardar', 0.9969854950904846),\n",
       " ('mayoría', 0.9969775676727295),\n",
       " ('construye', 0.9969660043716431),\n",
       " ('manual', 0.9969602227210999),\n",
       " ('tecnología', 0.9969598054885864),\n",
       " ('peso', 0.99695885181427),\n",
       " ('bajo', 0.9969542026519775),\n",
       " ('negocio', 0.9969528913497925),\n",
       " ('blog', 0.9969519376754761),\n",
       " ('fin', 0.9969514608383179),\n",
       " ('mostrar', 0.9969499111175537),\n",
       " ('campo', 0.9969496726989746),\n",
       " ('existe', 0.9969481229782104),\n",
       " ('línea', 0.9969477653503418),\n",
       " ('pintura', 0.9969460964202881),\n",
       " ('buenas', 0.9969432950019836),\n",
       " ('generalmente', 0.9969418048858643),\n",
       " ('fotos', 0.9969415664672852),\n",
       " ('crea', 0.9969395399093628),\n",
       " ('c', 0.996936023235321),\n",
       " ('produce', 0.9969339370727539),\n",
       " ('gente', 0.9969311356544495),\n",
       " ('grandes', 0.9969298839569092),\n",
       " ('existen', 0.9969286918640137),\n",
       " ('nazca', 0.9969269037246704),\n",
       " ('experiencia', 0.9969263672828674),\n",
       " ('necesito', 0.9969233870506287),\n",
       " ('grande', 0.9969229698181152),\n",
       " ('encontrar', 0.9969186782836914),\n",
       " ('internet', 0.996917188167572),\n",
       " ('líneas', 0.9969099760055542),\n",
       " ('sistemas', 0.99690181016922),\n",
       " ('principio', 0.9969017505645752),\n",
       " ('hoy', 0.9968947768211365),\n",
       " ('problema', 0.9968915581703186),\n",
       " ('mecánico', 0.9968908429145813),\n",
       " ('velocidad', 0.9968875050544739),\n",
       " ('siempre', 0.9968817234039307),\n",
       " ('punto', 0.9968713521957397),\n",
       " ('común', 0.9968690872192383),\n",
       " ('aunque', 0.9968494772911072),\n",
       " ('consejos', 0.9968494176864624),\n",
       " ('servicios', 0.9968492388725281),\n",
       " ('ayudar', 0.99684077501297),\n",
       " ('ambiente', 0.996837317943573),\n",
       " ('viaje', 0.9968357086181641),\n",
       " ('concepto', 0.9968327283859253),\n",
       " ('solamente', 0.9968291521072388),\n",
       " ('conoce', 0.9968180656433105),\n",
       " ('alguien', 0.9968159198760986),\n",
       " ('programación', 0.9968081712722778),\n",
       " ('vapor', 0.996807873249054),\n",
       " ('correo', 0.9967921376228333),\n",
       " ('máquina', 0.996789813041687),\n",
       " ('difícil', 0.9967786073684692),\n",
       " ('precio', 0.9967701435089111),\n",
       " ('mano', 0.9967696666717529),\n",
       " ('continuación', 0.9967601299285889),\n",
       " ('actividades', 0.9967539310455322),\n",
       " ('mejores', 0.9967477321624756),\n",
       " ('haber', 0.9967460036277771),\n",
       " ('inicialmente', 0.9967436194419861),\n",
       " ('baja', 0.9967373609542847),\n",
       " ('conceptos', 0.9967355728149414),\n",
       " ('quieras', 0.996731698513031),\n",
       " ('ingeniería', 0.9967141151428223),\n",
       " ('industrial', 0.9967104196548462),\n",
       " ('puedo', 0.9967097043991089),\n",
       " ('empresa', 0.9967042803764343),\n",
       " ('hola', 0.9967024326324463),\n",
       " ('horas', 0.9966793060302734),\n",
       " ('diseñado', 0.9966760277748108),\n",
       " ('futuro', 0.9966700077056885),\n",
       " ('idea', 0.9966649413108826),\n",
       " ('disponible', 0.9966643452644348),\n",
       " ('ford', 0.9966553449630737),\n",
       " ('equipo', 0.9966528415679932),\n",
       " ('portal', 0.9966509342193604),\n",
       " ('varias', 0.9966453909873962),\n",
       " ('ideas', 0.9966441988945007),\n",
       " ('camino', 0.996636152267456),\n",
       " ('mismos', 0.9966349601745605),\n",
       " ('incluso', 0.9966347813606262),\n",
       " ('diseñar', 0.9966243505477905),\n",
       " ('lista', 0.9966229200363159),\n",
       " ('centro', 0.9966198205947876),\n",
       " ('automóviles', 0.9966104030609131),\n",
       " ('hacia', 0.9965983629226685),\n",
       " ('cumplir', 0.9965943098068237),\n",
       " ('realmente', 0.9965901374816895),\n",
       " ('área', 0.9965870976448059),\n",
       " ('python', 0.9965859055519104),\n",
       " ('bar', 0.9965848922729492),\n",
       " ('detalles', 0.9965786933898926),\n",
       " ('modo', 0.996578574180603),\n",
       " ('cree', 0.9965775012969971),\n",
       " ('exterior', 0.9965705871582031),\n",
       " ('código', 0.9965618848800659),\n",
       " ('eléctricos', 0.9965618252754211),\n",
       " ('h', 0.9965579509735107),\n",
       " ('creación', 0.9965448379516602),\n",
       " ('necesaria', 0.9965383410453796),\n",
       " ('unas', 0.996531069278717),\n",
       " ('junto', 0.9965246915817261),\n",
       " ('pasajeros', 0.9965242147445679),\n",
       " ('hacen', 0.9965161085128784),\n",
       " ('cm', 0.9965116381645203),\n",
       " ('eléctrica', 0.9965032339096069),\n",
       " ('página', 0.9964995384216309),\n",
       " ('cajas', 0.996492862701416),\n",
       " ('planta', 0.9964885115623474),\n",
       " ('vehículos', 0.996485710144043),\n",
       " ('clase', 0.9964684247970581),\n",
       " ('objetos', 0.9964661002159119),\n",
       " ('web', 0.9964652061462402),\n",
       " ('entrar', 0.9964624643325806),\n",
       " ('modelos', 0.9964531064033508),\n",
       " ('calles', 0.9964501857757568),\n",
       " ('profesional', 0.9964458346366882),\n",
       " ('piloto', 0.9964262247085571),\n",
       " ('electrónico', 0.9964255094528198),\n",
       " ('comunidad', 0.996421217918396),\n",
       " ('excelente', 0.9964178204536438),\n",
       " ('marcas', 0.9964150190353394),\n",
       " ('ago', 0.9964128732681274),\n",
       " ('va', 0.9964100122451782),\n",
       " ('pregunta', 0.9964061975479126),\n",
       " ('aplicación', 0.9964044094085693),\n",
       " ('camiones', 0.99639892578125),\n",
       " ('contacto', 0.9963967204093933),\n",
       " ('tema', 0.9963918924331665),\n",
       " ('gusta', 0.9963719248771667),\n",
       " ('competencia', 0.9963595271110535),\n",
       " ('vídeo', 0.9963588714599609),\n",
       " ('varios', 0.9963570833206177),\n",
       " ('nuevos', 0.996355414390564),\n",
       " ('google', 0.9963392019271851),\n",
       " ('evitar', 0.9963372945785522),\n",
       " ('precios', 0.9963182210922241),\n",
       " ('lego', 0.9963171482086182),\n",
       " ('fuerza', 0.996316134929657),\n",
       " ('gracias', 0.9963139891624451),\n",
       " ('completo', 0.9963054656982422),\n",
       " ('nivel', 0.9962993264198303),\n",
       " ('millones', 0.9962707757949829),\n",
       " ('pista', 0.9962656497955322),\n",
       " ('grupo', 0.9962645173072815),\n",
       " ('categoría', 0.996258020401001),\n",
       " ('f', 0.9962552785873413),\n",
       " ('trata', 0.9962437152862549),\n",
       " ('nombre', 0.9962397217750549),\n",
       " ('superior', 0.9962385892868042),\n",
       " ('caja', 0.9962244033813477),\n",
       " ('meta', 0.996220588684082),\n",
       " ('veces', 0.9962178468704224),\n",
       " ('foto', 0.9962072968482971),\n",
       " ('l', 0.9962053298950195),\n",
       " ('unidad', 0.9962018728256226),\n",
       " ('pequeños', 0.996190071105957),\n",
       " ('archivos', 0.9961666464805603),\n",
       " ('comenzó', 0.9961603879928589),\n",
       " ('circuito', 0.996132493019104),\n",
       " ('carretera', 0.9961251020431519),\n",
       " ('objetivo', 0.9961131811141968),\n",
       " ('metal', 0.9961093068122864),\n",
       " ('v', 0.9961025714874268),\n",
       " ('duda', 0.9961014986038208),\n",
       " ('contenido', 0.996100664138794),\n",
       " ('mes', 0.9960920810699463),\n",
       " ('seguros', 0.9960802793502808),\n",
       " ('descubre', 0.9960776567459106),\n",
       " ('sido', 0.996070146560669),\n",
       " ('comentario', 0.996050238609314),\n",
       " ('favor', 0.9960464239120483),\n",
       " ('semana', 0.9960366487503052),\n",
       " ('imágenes', 0.9960346817970276),\n",
       " ('proyectos', 0.9960289001464844),\n",
       " ('ingeniero', 0.9960079789161682),\n",
       " ('primer', 0.995976448059082),\n",
       " ('km', 0.9959760904312134),\n",
       " ('colores', 0.9959746599197388),\n",
       " ('usados', 0.9959664344787598),\n",
       " ('dio', 0.9959552884101868),\n",
       " ('historia', 0.9959472417831421),\n",
       " ('llegar', 0.9959455132484436),\n",
       " ('sitio', 0.9959322810173035),\n",
       " ('n', 0.9959230422973633),\n",
       " ('rally', 0.9959173202514648),\n",
       " ('años', 0.9959085583686829),\n",
       " ('search', 0.9958760738372803),\n",
       " ('popular', 0.9958463907241821),\n",
       " ('ley', 0.9958216547966003),\n",
       " ('abajo', 0.9958094358444214),\n",
       " ('abril', 0.9958090782165527),\n",
       " ('madera', 0.995800793170929),\n",
       " ('real', 0.9957876801490784),\n",
       " ('circular', 0.9957802295684814),\n",
       " ('fecha', 0.9957709312438965),\n",
       " ('competir', 0.9957528114318848),\n",
       " ('único', 0.9957168698310852),\n",
       " ('competición', 0.9956918954849243),\n",
       " ('amigos', 0.9956881999969482),\n",
       " ('gran', 0.9956606030464172),\n",
       " ('parís', 0.9956527948379517),\n",
       " ('com', 0.9956518411636353),\n",
       " ('distintos', 0.99564528465271),\n",
       " ('cugnot', 0.99559485912323),\n",
       " ('participación', 0.9954965114593506),\n",
       " ('representa', 0.9954418540000916),\n",
       " ('propios', 0.9954361915588379),\n",
       " ('toda', 0.9954214692115784),\n",
       " ('producto', 0.9954160451889038),\n",
       " ('facebook', 0.9954151511192322),\n",
       " ('post', 0.9953989386558533),\n",
       " ('francés', 0.9953939914703369),\n",
       " ('par', 0.9953685998916626),\n",
       " ('inventor', 0.9953396916389465),\n",
       " ('nacional', 0.9953294992446899),\n",
       " ('escritor', 0.9952908754348755),\n",
       " ('videos', 0.9952638745307922),\n",
       " ('marzo', 0.9952566623687744),\n",
       " ('tutorial', 0.9952433109283447),\n",
       " ('jugar', 0.9952383637428284),\n",
       " ('www', 0.9952204823493958),\n",
       " ('play', 0.9952045679092407),\n",
       " ('see', 0.9951733946800232),\n",
       " ('windows', 0.9951698184013367),\n",
       " ('bueno', 0.9951331615447998),\n",
       " ('nueva', 0.995125412940979),\n",
       " ('diseños', 0.9951181411743164),\n",
       " ('kart', 0.995033860206604),\n",
       " ('roblox', 0.9949865341186523),\n",
       " ('unidos', 0.9949531555175781),\n",
       " ('word', 0.994929313659668),\n",
       " ('files', 0.9948670864105225),\n",
       " ('adultos', 0.9948347210884094),\n",
       " ('alguna', 0.9948222637176514),\n",
       " ('volkswagen', 0.9948073625564575),\n",
       " ('use', 0.994760274887085),\n",
       " ('autism', 0.9946995973587036),\n",
       " ('paso', 0.9946960210800171),\n",
       " ('metros', 0.9946753978729248),\n",
       " ('segundo', 0.9946214556694031),\n",
       " ('carreras', 0.9945542216300964),\n",
       " ('polo', 0.9945434331893921),\n",
       " ('competencias', 0.9944967031478882),\n",
       " ('simple', 0.9944605827331543),\n",
       " ('entrada', 0.9944322109222412),\n",
       " ('caballos', 0.9944126009941101),\n",
       " ('software', 0.9943358898162842),\n",
       " ('día', 0.9943300485610962),\n",
       " ('social', 0.9942384958267212),\n",
       " ('personas', 0.9941111207008362),\n",
       " ('x', 0.9940610527992249),\n",
       " ('pc', 0.9940054416656494),\n",
       " ('lugar', 0.99399334192276),\n",
       " ('information', 0.9939154386520386),\n",
       " ('page', 0.9939055442810059),\n",
       " ('also', 0.9938437938690186),\n",
       " ('part', 0.9937710762023926),\n",
       " ('sale', 0.9937461614608765),\n",
       " ('help', 0.9937111735343933),\n",
       " ('serie', 0.9936784505844116),\n",
       " ('equipos', 0.9936343431472778),\n",
       " ('pilotos', 0.9936327934265137),\n",
       " ('personales', 0.993493378162384),\n",
       " ('business', 0.9934647083282471),\n",
       " ('file', 0.9933813810348511),\n",
       " ('mil', 0.9932916164398193),\n",
       " ('color', 0.9932020902633667),\n",
       " ('país', 0.9931806325912476),\n",
       " ('internacional', 0.9930827617645264),\n",
       " ('juego', 0.9930336475372314),\n",
       " ('like', 0.9929690957069397),\n",
       " ('fórmula', 0.9929255247116089),\n",
       " ('games', 0.992849588394165),\n",
       " ('video', 0.9928203225135803),\n",
       " ('cerca', 0.9928193688392639),\n",
       " ('series', 0.9927884936332703),\n",
       " ('venta', 0.9927810430526733),\n",
       " ('used', 0.9927264451980591),\n",
       " ('gratis', 0.9926323890686035),\n",
       " ('using', 0.9926285743713379),\n",
       " ('versión', 0.9924991130828857),\n",
       " ('go', 0.9922565817832947),\n",
       " ('español', 0.9922541975975037),\n",
       " ('find', 0.9922240376472473),\n",
       " ('home', 0.9921739101409912),\n",
       " ('gravedad', 0.9920488595962524),\n",
       " ('nascar', 0.9920060038566589),\n",
       " ('descargar', 0.9919485449790955),\n",
       " ('photo', 0.991806149482727),\n",
       " ('design', 0.9917995929718018),\n",
       " ('people', 0.9916375875473022),\n",
       " ('realiza', 0.9915473461151123),\n",
       " ('accidentes', 0.9913982152938843),\n",
       " ('año', 0.9913035035133362),\n",
       " ('participar', 0.9912945628166199),\n",
       " ('school', 0.9912816882133484),\n",
       " ('download', 0.9910337924957275),\n",
       " ('local', 0.9910271167755127),\n",
       " ('creatividad', 0.9909560084342957),\n",
       " ('vez', 0.9909197092056274),\n",
       " ('get', 0.9907389879226685),\n",
       " ('team', 0.9905240535736084),\n",
       " ('need', 0.9905203580856323),\n",
       " ('free', 0.9904720187187195),\n",
       " ('time', 0.990435779094696),\n",
       " ('k', 0.9902685880661011),\n",
       " ('may', 0.9902201890945435),\n",
       " ('inglés', 0.9901415109634399),\n",
       " ('mundo', 0.9900104403495789),\n",
       " ('asd', 0.9897820353507996),\n",
       " ('argentina', 0.9897525310516357),\n",
       " ('ciudad', 0.989554226398468),\n",
       " ('kit', 0.9895398616790771),\n",
       " ('obligatorio', 0.9895045757293701),\n",
       " ('create', 0.9895042777061462),\n",
       " ('seguro', 0.9893526434898376),\n",
       " ('two', 0.9892981052398682),\n",
       " ('first', 0.9890758991241455),\n",
       " ('chile', 0.9888842105865479),\n",
       " ('php', 0.9888063669204712),\n",
       " ('cabo', 0.9885189533233643),\n",
       " ('divertida', 0.9883602857589722),\n",
       " ('segunda', 0.9881062507629395),\n",
       " ('game', 0.988074541091919),\n",
       " ('new', 0.9880608320236206),\n",
       " ('online', 0.9880176186561584),\n",
       " ('make', 0.9878281950950623),\n",
       " ('autos', 0.987490713596344),\n",
       " ('noviembre', 0.9874176979064941),\n",
       " ('one', 0.9872198104858398),\n",
       " ('méxico', 0.9871563911437988),\n",
       " ('best', 0.9871482253074646),\n",
       " ('juegos', 0.9871395826339722),\n",
       " ('primera', 0.9867327213287354),\n",
       " ('held', 0.9862021803855896),\n",
       " ('city', 0.9862014055252075),\n",
       " ('gravity', 0.9848942160606384),\n",
       " ('carros', 0.9843748211860657),\n",
       " ('santiago', 0.9841716289520264),\n",
       " ('pinewood', 0.9834290742874146),\n",
       " ('pack', 0.9809247851371765),\n",
       " ('locos', 0.9755876064300537),\n",
       " ('coches', 0.9746810793876648),\n",
       " ('stock', 0.9693328738212585),\n",
       " ('build', 0.967441201210022),\n",
       " ('cars', 0.965369462966919),\n",
       " ('world', 0.9582722187042236),\n",
       " ('racing', 0.9525533318519592),\n",
       " ('grid', 0.9480857253074646),\n",
       " ('carrera', 0.9454951286315918),\n",
       " ('car', 0.9319378137588501),\n",
       " ('soap', 0.8531397581100464),\n",
       " ('derby', 0.8388671875),\n",
       " ('box', 0.8168623447418213),\n",
       " ('soapbox', 0.7808976769447327),\n",
       " ('red', 0.758358359336853),\n",
       " ('bull', 0.7301012277603149),\n",
       " ('race', 0.7296106815338135)]"
      ]
     },
     "metadata": {},
     "output_type": "display_data"
    }
   ],
   "source": [
    "try:\n",
    "    display(model0.wv.most_similar(['auto'], topn=673))\n",
    "except KeyError:\n",
    "    print(\"Esta palabra no aparece en el modelo\")"
   ]
  }
 ],
 "metadata": {
  "kernelspec": {
   "display_name": "Python 3",
   "language": "python",
   "name": "python3"
  },
  "language_info": {
   "codemirror_mode": {
    "name": "ipython",
    "version": 3
   },
   "file_extension": ".py",
   "mimetype": "text/x-python",
   "name": "python",
   "nbconvert_exporter": "python",
   "pygments_lexer": "ipython3",
   "version": "3.8.5"
  }
 },
 "nbformat": 4,
 "nbformat_minor": 4
}
