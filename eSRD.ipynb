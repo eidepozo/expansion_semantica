{
 "cells": [
  {
   "cell_type": "markdown",
   "metadata": {},
   "source": [
    "Elliot Ide Pozo"
   ]
  },
  {
   "cell_type": "markdown",
   "metadata": {},
   "source": [
    "- <del>Crear script en python que permita extraer la data desde el server de base de datos (activismo.inf.uach.cl)</del>\n",
    "- <del>Crear script en python que permita crear un json (dataset) de desafío, usuario, consulta, resultado (diccionario).</del>\n",
    "- <del>Crear un script para obtener la representación tf-idf (NLTK,,,).</del>\n",
    "- Crear un script que calcule al menos una métrica de las establecidas por cada conjunto.\n"
   ]
  },
  {
   "cell_type": "code",
   "execution_count": 1,
   "metadata": {},
   "outputs": [],
   "source": [
    "from sshtunnel import SSHTunnelForwarder\n",
    "import pymysql\n",
    "import pandas as pd"
   ]
  },
  {
   "cell_type": "code",
   "execution_count": 2,
   "metadata": {},
   "outputs": [],
   "source": [
    "# https://stackoverflow.com/questions/21903411/enable-python-to-connect-to-mysql-via-ssh-tunnelling\n",
    "# https://stackoverflow.com/questions/42726681/conecting-to-mysql-in-a-remote-server-from-python\n",
    "\n",
    "with SSHTunnelForwarder(\n",
    "            'activismo.inf.uach.cl',\n",
    "            ssh_username='vps238',\n",
    "            ssh_password='vps238.2018',\n",
    "            remote_bind_address=('127.0.0.1', 3306)) as tunnel:\n",
    "        conn = pymysql.connect(host='127.0.0.1', user='learning',\n",
    "                               passwd='analytic$',db='gonsa2',\n",
    "                               port=tunnel.local_bind_port)\n",
    "        query = \"SELECT date_executed, FK_challenge_id_number, FK_student_nick,id_number,query,snippet \\\n",
    "        FROM Students_query\\\n",
    "        INNER JOIN Students_queries_results ON FK_student_query_id_number = id_number\\\n",
    "        WHERE FK_challenge_id_number = 1 AND FK_student_nick != 'test_student'\\\n",
    "        LIMIT 20\";\n",
    "        data = pd.read_sql(query, conn)\n",
    "        conn.close()"
   ]
  },
  {
   "cell_type": "code",
   "execution_count": 3,
   "metadata": {},
   "outputs": [],
   "source": [
    "from bs4 import BeautifulSoup"
   ]
  },
  {
   "cell_type": "code",
   "execution_count": 4,
   "metadata": {},
   "outputs": [],
   "source": [
    "#https://www.crummy.com/software/BeautifulSoup/bs4/doc/\n",
    "#https://stackoverflow.com/questions/19798153/difference-between-map-applymap-and-apply-methods-in-pandas\n",
    "    \n",
    "# transformar en un objeto BeautifulSoup, para luego retornar el texto sin tags\n",
    "data['snippet'] = data['snippet'].map(lambda text: BeautifulSoup(text, 'html.parser').get_text())"
   ]
  },
  {
   "cell_type": "code",
   "execution_count": 5,
   "metadata": {},
   "outputs": [
    {
     "data": {
      "text/html": [
       "<div>\n",
       "<style scoped>\n",
       "    .dataframe tbody tr th:only-of-type {\n",
       "        vertical-align: middle;\n",
       "    }\n",
       "\n",
       "    .dataframe tbody tr th {\n",
       "        vertical-align: top;\n",
       "    }\n",
       "\n",
       "    .dataframe thead th {\n",
       "        text-align: right;\n",
       "    }\n",
       "</style>\n",
       "<table border=\"1\" class=\"dataframe\">\n",
       "  <thead>\n",
       "    <tr style=\"text-align: right;\">\n",
       "      <th></th>\n",
       "      <th>date_executed</th>\n",
       "      <th>FK_challenge_id_number</th>\n",
       "      <th>FK_student_nick</th>\n",
       "      <th>id_number</th>\n",
       "      <th>query</th>\n",
       "      <th>snippet</th>\n",
       "    </tr>\n",
       "  </thead>\n",
       "  <tbody>\n",
       "    <tr>\n",
       "      <th>0</th>\n",
       "      <td>2019-04-29 14:39:53</td>\n",
       "      <td>1</td>\n",
       "      <td>eespinoza</td>\n",
       "      <td>11</td>\n",
       "      <td>vih en chile</td>\n",
       "      <td>vih en chile. Es urgente aumentar el diagnósti...</td>\n",
       "    </tr>\n",
       "    <tr>\n",
       "      <th>1</th>\n",
       "      <td>2019-04-29 14:39:53</td>\n",
       "      <td>1</td>\n",
       "      <td>eespinoza</td>\n",
       "      <td>11</td>\n",
       "      <td>vih en chile</td>\n",
       "      <td>En Chile, la Ley 19.779 resguarda los derechos...</td>\n",
       "    </tr>\n",
       "    <tr>\n",
       "      <th>2</th>\n",
       "      <td>2019-04-29 14:39:53</td>\n",
       "      <td>1</td>\n",
       "      <td>eespinoza</td>\n",
       "      <td>11</td>\n",
       "      <td>vih en chile</td>\n",
       "      <td>¿Cuánto tarda una persona con VIH en llegar a ...</td>\n",
       "    </tr>\n",
       "    <tr>\n",
       "      <th>3</th>\n",
       "      <td>2019-04-29 14:39:53</td>\n",
       "      <td>1</td>\n",
       "      <td>eespinoza</td>\n",
       "      <td>11</td>\n",
       "      <td>vih en chile</td>\n",
       "      <td>VIH Sida en Chile: Cifras del Minsal indican q...</td>\n",
       "    </tr>\n",
       "    <tr>\n",
       "      <th>4</th>\n",
       "      <td>2019-04-29 14:39:53</td>\n",
       "      <td>1</td>\n",
       "      <td>eespinoza</td>\n",
       "      <td>11</td>\n",
       "      <td>vih en chile</td>\n",
       "      <td>En los últimos diez años los contagios de VIH ...</td>\n",
       "    </tr>\n",
       "    <tr>\n",
       "      <th>5</th>\n",
       "      <td>2019-04-29 14:39:53</td>\n",
       "      <td>1</td>\n",
       "      <td>eespinoza</td>\n",
       "      <td>11</td>\n",
       "      <td>vih en chile</td>\n",
       "      <td>Advierten que el VIH sida está descontrolado e...</td>\n",
       "    </tr>\n",
       "    <tr>\n",
       "      <th>6</th>\n",
       "      <td>2019-04-29 14:39:53</td>\n",
       "      <td>1</td>\n",
       "      <td>eespinoza</td>\n",
       "      <td>11</td>\n",
       "      <td>vih en chile</td>\n",
       "      <td>SIDA en Chile: la epidemia que crece silencios...</td>\n",
       "    </tr>\n",
       "    <tr>\n",
       "      <th>7</th>\n",
       "      <td>2019-04-29 14:39:53</td>\n",
       "      <td>1</td>\n",
       "      <td>eespinoza</td>\n",
       "      <td>11</td>\n",
       "      <td>vih en chile</td>\n",
       "      <td>del tratamiento anti-vih para ayudar y protege...</td>\n",
       "    </tr>\n",
       "    <tr>\n",
       "      <th>8</th>\n",
       "      <td>2019-04-29 14:39:53</td>\n",
       "      <td>1</td>\n",
       "      <td>eespinoza</td>\n",
       "      <td>11</td>\n",
       "      <td>vih en chile</td>\n",
       "      <td>Para el presidente de la Corporación Sida Chil...</td>\n",
       "    </tr>\n",
       "    <tr>\n",
       "      <th>9</th>\n",
       "      <td>2019-04-29 14:39:53</td>\n",
       "      <td>1</td>\n",
       "      <td>eespinoza</td>\n",
       "      <td>11</td>\n",
       "      <td>vih en chile</td>\n",
       "      <td>Informe revela que Chile es el país donde más ...</td>\n",
       "    </tr>\n",
       "    <tr>\n",
       "      <th>10</th>\n",
       "      <td>2019-04-29 14:39:53</td>\n",
       "      <td>1</td>\n",
       "      <td>eespinoza</td>\n",
       "      <td>11</td>\n",
       "      <td>vih en chile</td>\n",
       "      <td>La Campaña, se enfoca en la estrategia de la P...</td>\n",
       "    </tr>\n",
       "    <tr>\n",
       "      <th>11</th>\n",
       "      <td>2019-04-29 14:39:53</td>\n",
       "      <td>1</td>\n",
       "      <td>eespinoza</td>\n",
       "      <td>11</td>\n",
       "      <td>vih en chile</td>\n",
       "      <td>Casos de VIH en Chile aumentan un 45% entre 20...</td>\n",
       "    </tr>\n",
       "    <tr>\n",
       "      <th>12</th>\n",
       "      <td>2019-04-29 14:39:53</td>\n",
       "      <td>1</td>\n",
       "      <td>eespinoza</td>\n",
       "      <td>11</td>\n",
       "      <td>vih en chile</td>\n",
       "      <td>Chile está dentro de los países que registran ...</td>\n",
       "    </tr>\n",
       "    <tr>\n",
       "      <th>13</th>\n",
       "      <td>2019-04-29 14:39:53</td>\n",
       "      <td>1</td>\n",
       "      <td>eespinoza</td>\n",
       "      <td>11</td>\n",
       "      <td>vih en chile</td>\n",
       "      <td>Corporación Sida Chile asegura que contagios d...</td>\n",
       "    </tr>\n",
       "    <tr>\n",
       "      <th>14</th>\n",
       "      <td>2019-04-29 14:39:53</td>\n",
       "      <td>1</td>\n",
       "      <td>eespinoza</td>\n",
       "      <td>11</td>\n",
       "      <td>vih en chile</td>\n",
       "      <td>VIH Sida en Chile: Las 8 medidas del Minsal pa...</td>\n",
       "    </tr>\n",
       "    <tr>\n",
       "      <th>15</th>\n",
       "      <td>2019-04-29 14:39:53</td>\n",
       "      <td>1</td>\n",
       "      <td>eespinoza</td>\n",
       "      <td>11</td>\n",
       "      <td>vih en chile</td>\n",
       "      <td>Extracto inédito de “Sida en Chile. Historias ...</td>\n",
       "    </tr>\n",
       "    <tr>\n",
       "      <th>16</th>\n",
       "      <td>2019-04-29 14:39:53</td>\n",
       "      <td>1</td>\n",
       "      <td>eespinoza</td>\n",
       "      <td>11</td>\n",
       "      <td>vih en chile</td>\n",
       "      <td>como VIH. Desde el inicio de la epidemia en Ch...</td>\n",
       "    </tr>\n",
       "    <tr>\n",
       "      <th>17</th>\n",
       "      <td>2019-04-29 14:39:53</td>\n",
       "      <td>1</td>\n",
       "      <td>eespinoza</td>\n",
       "      <td>11</td>\n",
       "      <td>vih en chile</td>\n",
       "      <td>A fines de 2017, el Hospital Clínico de la U. ...</td>\n",
       "    </tr>\n",
       "    <tr>\n",
       "      <th>18</th>\n",
       "      <td>2019-04-29 14:39:53</td>\n",
       "      <td>1</td>\n",
       "      <td>eespinoza</td>\n",
       "      <td>11</td>\n",
       "      <td>vih en chile</td>\n",
       "      <td>La iglesia católica de Chile, específicamente ...</td>\n",
       "    </tr>\n",
       "    <tr>\n",
       "      <th>19</th>\n",
       "      <td>2019-04-29 14:39:53</td>\n",
       "      <td>1</td>\n",
       "      <td>eespinoza</td>\n",
       "      <td>11</td>\n",
       "      <td>vih en chile</td>\n",
       "      <td>La mayor parte se concentra en jóvenes de 15 a...</td>\n",
       "    </tr>\n",
       "  </tbody>\n",
       "</table>\n",
       "</div>"
      ],
      "text/plain": [
       "         date_executed  FK_challenge_id_number FK_student_nick  id_number  \\\n",
       "0  2019-04-29 14:39:53                       1       eespinoza         11   \n",
       "1  2019-04-29 14:39:53                       1       eespinoza         11   \n",
       "2  2019-04-29 14:39:53                       1       eespinoza         11   \n",
       "3  2019-04-29 14:39:53                       1       eespinoza         11   \n",
       "4  2019-04-29 14:39:53                       1       eespinoza         11   \n",
       "5  2019-04-29 14:39:53                       1       eespinoza         11   \n",
       "6  2019-04-29 14:39:53                       1       eespinoza         11   \n",
       "7  2019-04-29 14:39:53                       1       eespinoza         11   \n",
       "8  2019-04-29 14:39:53                       1       eespinoza         11   \n",
       "9  2019-04-29 14:39:53                       1       eespinoza         11   \n",
       "10 2019-04-29 14:39:53                       1       eespinoza         11   \n",
       "11 2019-04-29 14:39:53                       1       eespinoza         11   \n",
       "12 2019-04-29 14:39:53                       1       eespinoza         11   \n",
       "13 2019-04-29 14:39:53                       1       eespinoza         11   \n",
       "14 2019-04-29 14:39:53                       1       eespinoza         11   \n",
       "15 2019-04-29 14:39:53                       1       eespinoza         11   \n",
       "16 2019-04-29 14:39:53                       1       eespinoza         11   \n",
       "17 2019-04-29 14:39:53                       1       eespinoza         11   \n",
       "18 2019-04-29 14:39:53                       1       eespinoza         11   \n",
       "19 2019-04-29 14:39:53                       1       eespinoza         11   \n",
       "\n",
       "           query                                            snippet  \n",
       "0   vih en chile  vih en chile. Es urgente aumentar el diagnósti...  \n",
       "1   vih en chile  En Chile, la Ley 19.779 resguarda los derechos...  \n",
       "2   vih en chile  ¿Cuánto tarda una persona con VIH en llegar a ...  \n",
       "3   vih en chile  VIH Sida en Chile: Cifras del Minsal indican q...  \n",
       "4   vih en chile  En los últimos diez años los contagios de VIH ...  \n",
       "5   vih en chile  Advierten que el VIH sida está descontrolado e...  \n",
       "6   vih en chile  SIDA en Chile: la epidemia que crece silencios...  \n",
       "7   vih en chile  del tratamiento anti-vih para ayudar y protege...  \n",
       "8   vih en chile  Para el presidente de la Corporación Sida Chil...  \n",
       "9   vih en chile  Informe revela que Chile es el país donde más ...  \n",
       "10  vih en chile  La Campaña, se enfoca en la estrategia de la P...  \n",
       "11  vih en chile  Casos de VIH en Chile aumentan un 45% entre 20...  \n",
       "12  vih en chile  Chile está dentro de los países que registran ...  \n",
       "13  vih en chile  Corporación Sida Chile asegura que contagios d...  \n",
       "14  vih en chile  VIH Sida en Chile: Las 8 medidas del Minsal pa...  \n",
       "15  vih en chile  Extracto inédito de “Sida en Chile. Historias ...  \n",
       "16  vih en chile  como VIH. Desde el inicio de la epidemia en Ch...  \n",
       "17  vih en chile  A fines de 2017, el Hospital Clínico de la U. ...  \n",
       "18  vih en chile  La iglesia católica de Chile, específicamente ...  \n",
       "19  vih en chile  La mayor parte se concentra en jóvenes de 15 a...  "
      ]
     },
     "execution_count": 5,
     "metadata": {},
     "output_type": "execute_result"
    }
   ],
   "source": [
    "data"
   ]
  },
  {
   "cell_type": "markdown",
   "metadata": {},
   "source": [
    "### Estimación TF-IDF "
   ]
  },
  {
   "cell_type": "markdown",
   "metadata": {},
   "source": [
    "Fuente: \n",
    "\n",
    "https://www.youtube.com/watch?v=hc3DCn8viWs\n",
    "    \n",
    "**Drawbacks**\n",
    "- Only based on terms\n",
    "- Weak on capturing document topic\n",
    "- Weak handling synonyms\n",
    "\n",
    "**How to overcome drawbacks**\n",
    "- LSA (Latent Semantic Analysis)\n",
    "- Word Embedding (Word2Vec, Glove)\n",
    "- ConceptNet"
   ]
  },
  {
   "cell_type": "code",
   "execution_count": 6,
   "metadata": {},
   "outputs": [],
   "source": [
    "q = pd.Series(data['query'][0])"
   ]
  },
  {
   "cell_type": "code",
   "execution_count": 7,
   "metadata": {
    "scrolled": true
   },
   "outputs": [
    {
     "data": {
      "text/plain": [
       "0                                         vih en chile\n",
       "1    vih en chile. Es urgente aumentar el diagnósti...\n",
       "2    En Chile, la Ley 19.779 resguarda los derechos...\n",
       "3    ¿Cuánto tarda una persona con VIH en llegar a ...\n",
       "dtype: object"
      ]
     },
     "execution_count": 7,
     "metadata": {},
     "output_type": "execute_result"
    }
   ],
   "source": [
    "corpus = q.append(data['snippet'][:3], ignore_index=True) # q, d1, d2 y d3\n",
    "corpus"
   ]
  },
  {
   "cell_type": "code",
   "execution_count": 8,
   "metadata": {},
   "outputs": [],
   "source": [
    "import nltk\n",
    "from nltk.corpus import stopwords\n",
    "\n",
    "es_sw = stopwords.words('spanish') # lista stopword a usar"
   ]
  },
  {
   "cell_type": "code",
   "execution_count": 9,
   "metadata": {},
   "outputs": [],
   "source": [
    "from sklearn.feature_extraction.text import TfidfVectorizer"
   ]
  },
  {
   "cell_type": "code",
   "execution_count": 10,
   "metadata": {},
   "outputs": [],
   "source": [
    "tf = TfidfVectorizer(stop_words=es_sw) # crear la transformación\n",
    "\n",
    "tfidf_matrix = tf.fit_transform(corpus)"
   ]
  },
  {
   "cell_type": "code",
   "execution_count": 11,
   "metadata": {},
   "outputs": [
    {
     "name": "stdout",
     "output_type": "stream",
     "text": [
      "['19', '2016', '2018', '779', 'acceso', 'adecuadamente', 'asimismo', 'aumentar', 'calcula', 'cautela', 'chile', 'contagia', 'control', 'corporación', 'cuánto', 'cómo', 'derechos', 'desarrollar', 'diagnosticada', 'diagnóstico', 'discriminaciones', 'educación', 'ejercicio', 'estudiada', 'etapa', 'igualitario', 'impidiendo', 'infección', 'infectada', 'infectadas', 'infectarse', 'latinoamérica', 'ley', 'libre', 'llegar', 'mitad', 'periodo', 'persona', 'personas', 'prevalencia', 'prevención', 'producen', 'puedo', 'resguarda', 'respecto', 'saber', 'salud', 'si', 'sida', 'sido', 'síntomas', 'tarda', 'trabajo', 'tratamiento', 'urgente', 'ventana', 'vih', 'viven'] 58\n"
     ]
    }
   ],
   "source": [
    "# https://stackoverflow.com/questions/34449127/sklearn-tfidf-transformer-how-to-get-tf-idf-values-of-given-words-in-documen\n",
    "\n",
    "feature_names = tf.get_feature_names()\n",
    "print(feature_names, len(feature_names))"
   ]
  },
  {
   "cell_type": "code",
   "execution_count": 12,
   "metadata": {},
   "outputs": [
    {
     "data": {
      "text/html": [
       "<div>\n",
       "<style scoped>\n",
       "    .dataframe tbody tr th:only-of-type {\n",
       "        vertical-align: middle;\n",
       "    }\n",
       "\n",
       "    .dataframe tbody tr th {\n",
       "        vertical-align: top;\n",
       "    }\n",
       "\n",
       "    .dataframe thead th {\n",
       "        text-align: right;\n",
       "    }\n",
       "</style>\n",
       "<table border=\"1\" class=\"dataframe\">\n",
       "  <thead>\n",
       "    <tr style=\"text-align: right;\">\n",
       "      <th></th>\n",
       "      <th>19</th>\n",
       "      <th>2016</th>\n",
       "      <th>2018</th>\n",
       "      <th>779</th>\n",
       "      <th>acceso</th>\n",
       "      <th>adecuadamente</th>\n",
       "      <th>asimismo</th>\n",
       "      <th>aumentar</th>\n",
       "      <th>calcula</th>\n",
       "      <th>cautela</th>\n",
       "      <th>...</th>\n",
       "      <th>sida</th>\n",
       "      <th>sido</th>\n",
       "      <th>síntomas</th>\n",
       "      <th>tarda</th>\n",
       "      <th>trabajo</th>\n",
       "      <th>tratamiento</th>\n",
       "      <th>urgente</th>\n",
       "      <th>ventana</th>\n",
       "      <th>vih</th>\n",
       "      <th>viven</th>\n",
       "    </tr>\n",
       "  </thead>\n",
       "  <tbody>\n",
       "    <tr>\n",
       "      <th>0</th>\n",
       "      <td>0.000000</td>\n",
       "      <td>0.00000</td>\n",
       "      <td>0.00000</td>\n",
       "      <td>0.000000</td>\n",
       "      <td>0.000000</td>\n",
       "      <td>0.000000</td>\n",
       "      <td>0.000000</td>\n",
       "      <td>0.000000</td>\n",
       "      <td>0.000000</td>\n",
       "      <td>0.000000</td>\n",
       "      <td>...</td>\n",
       "      <td>0.000000</td>\n",
       "      <td>0.000000</td>\n",
       "      <td>0.00000</td>\n",
       "      <td>0.00000</td>\n",
       "      <td>0.000000</td>\n",
       "      <td>0.000000</td>\n",
       "      <td>0.000000</td>\n",
       "      <td>0.00000</td>\n",
       "      <td>0.707107</td>\n",
       "      <td>0.000000</td>\n",
       "    </tr>\n",
       "    <tr>\n",
       "      <th>1</th>\n",
       "      <td>0.000000</td>\n",
       "      <td>0.00000</td>\n",
       "      <td>0.00000</td>\n",
       "      <td>0.000000</td>\n",
       "      <td>0.000000</td>\n",
       "      <td>0.216501</td>\n",
       "      <td>0.000000</td>\n",
       "      <td>0.216501</td>\n",
       "      <td>0.216501</td>\n",
       "      <td>0.000000</td>\n",
       "      <td>...</td>\n",
       "      <td>0.000000</td>\n",
       "      <td>0.433003</td>\n",
       "      <td>0.00000</td>\n",
       "      <td>0.00000</td>\n",
       "      <td>0.000000</td>\n",
       "      <td>0.170692</td>\n",
       "      <td>0.216501</td>\n",
       "      <td>0.00000</td>\n",
       "      <td>0.112979</td>\n",
       "      <td>0.000000</td>\n",
       "    </tr>\n",
       "    <tr>\n",
       "      <th>2</th>\n",
       "      <td>0.182708</td>\n",
       "      <td>0.00000</td>\n",
       "      <td>0.00000</td>\n",
       "      <td>0.182708</td>\n",
       "      <td>0.182708</td>\n",
       "      <td>0.000000</td>\n",
       "      <td>0.182708</td>\n",
       "      <td>0.000000</td>\n",
       "      <td>0.000000</td>\n",
       "      <td>0.182708</td>\n",
       "      <td>...</td>\n",
       "      <td>0.144049</td>\n",
       "      <td>0.000000</td>\n",
       "      <td>0.00000</td>\n",
       "      <td>0.00000</td>\n",
       "      <td>0.182708</td>\n",
       "      <td>0.144049</td>\n",
       "      <td>0.000000</td>\n",
       "      <td>0.00000</td>\n",
       "      <td>0.190690</td>\n",
       "      <td>0.182708</td>\n",
       "    </tr>\n",
       "    <tr>\n",
       "      <th>3</th>\n",
       "      <td>0.000000</td>\n",
       "      <td>0.15728</td>\n",
       "      <td>0.15728</td>\n",
       "      <td>0.000000</td>\n",
       "      <td>0.000000</td>\n",
       "      <td>0.000000</td>\n",
       "      <td>0.000000</td>\n",
       "      <td>0.000000</td>\n",
       "      <td>0.000000</td>\n",
       "      <td>0.000000</td>\n",
       "      <td>...</td>\n",
       "      <td>0.372003</td>\n",
       "      <td>0.000000</td>\n",
       "      <td>0.15728</td>\n",
       "      <td>0.15728</td>\n",
       "      <td>0.000000</td>\n",
       "      <td>0.000000</td>\n",
       "      <td>0.000000</td>\n",
       "      <td>0.15728</td>\n",
       "      <td>0.246225</td>\n",
       "      <td>0.000000</td>\n",
       "    </tr>\n",
       "  </tbody>\n",
       "</table>\n",
       "<p>4 rows × 58 columns</p>\n",
       "</div>"
      ],
      "text/plain": [
       "         19     2016     2018       779    acceso  adecuadamente  asimismo  \\\n",
       "0  0.000000  0.00000  0.00000  0.000000  0.000000       0.000000  0.000000   \n",
       "1  0.000000  0.00000  0.00000  0.000000  0.000000       0.216501  0.000000   \n",
       "2  0.182708  0.00000  0.00000  0.182708  0.182708       0.000000  0.182708   \n",
       "3  0.000000  0.15728  0.15728  0.000000  0.000000       0.000000  0.000000   \n",
       "\n",
       "   aumentar   calcula   cautela  ...      sida      sido  síntomas    tarda  \\\n",
       "0  0.000000  0.000000  0.000000  ...  0.000000  0.000000   0.00000  0.00000   \n",
       "1  0.216501  0.216501  0.000000  ...  0.000000  0.433003   0.00000  0.00000   \n",
       "2  0.000000  0.000000  0.182708  ...  0.144049  0.000000   0.00000  0.00000   \n",
       "3  0.000000  0.000000  0.000000  ...  0.372003  0.000000   0.15728  0.15728   \n",
       "\n",
       "    trabajo  tratamiento   urgente  ventana       vih     viven  \n",
       "0  0.000000     0.000000  0.000000  0.00000  0.707107  0.000000  \n",
       "1  0.000000     0.170692  0.216501  0.00000  0.112979  0.000000  \n",
       "2  0.182708     0.144049  0.000000  0.00000  0.190690  0.182708  \n",
       "3  0.000000     0.000000  0.000000  0.15728  0.246225  0.000000  \n",
       "\n",
       "[4 rows x 58 columns]"
      ]
     },
     "execution_count": 12,
     "metadata": {},
     "output_type": "execute_result"
    }
   ],
   "source": [
    "#https://towardsdatascience.com/natural-language-processing-feature-engineering-using-tf-idf-e8b9d00e7e76\n",
    "\n",
    "dense = tfidf_matrix.todense()\n",
    "denselist = dense.tolist()\n",
    "df = pd.DataFrame(denselist, columns=feature_names)\n",
    "df"
   ]
  },
  {
   "cell_type": "code",
   "execution_count": 13,
   "metadata": {},
   "outputs": [
    {
     "name": "stdout",
     "output_type": "stream",
     "text": [
      "  (0, 53)\t0.17069209050639012\n",
      "  (0, 12)\t0.17069209050639012\n",
      "  (0, 18)\t0.2165012731424809\n",
      "  (0, 28)\t0.17069209050639012\n",
      "  (0, 35)\t0.2165012731424809\n",
      "  (0, 8)\t0.2165012731424809\n",
      "  (0, 23)\t0.2165012731424809\n",
      "  (0, 5)\t0.2165012731424809\n",
      "  (0, 49)\t0.4330025462849618\n",
      "  (0, 31)\t0.2165012731424809\n",
      "  (0, 27)\t0.2165012731424809\n",
      "  (0, 39)\t0.2165012731424809\n",
      "  (0, 29)\t0.2165012731424809\n",
      "  (0, 38)\t0.34138418101278023\n",
      "  (0, 19)\t0.17069209050639012\n",
      "  (0, 7)\t0.2165012731424809\n",
      "  (0, 54)\t0.2165012731424809\n",
      "  (0, 10)\t0.22595869148805003\n",
      "  (0, 56)\t0.11297934574402502\n"
     ]
    }
   ],
   "source": [
    "print(tfidf_matrix[1])"
   ]
  },
  {
   "cell_type": "markdown",
   "metadata": {},
   "source": [
    "### Similaridad del coseno\n",
    "\n",
    "Fuentes:\n",
    "\n",
    "https://intellipaat.com/community/1103/python-tf-idf-cosine-to-find-document-similarity"
   ]
  },
  {
   "cell_type": "code",
   "execution_count": 14,
   "metadata": {},
   "outputs": [],
   "source": [
    "from sklearn.metrics.pairwise import linear_kernel\n",
    "import numpy as np"
   ]
  },
  {
   "cell_type": "code",
   "execution_count": 15,
   "metadata": {},
   "outputs": [
    {
     "data": {
      "text/plain": [
       "array([[1.        , 0.23966538, 0.20225696, 0.23214321],\n",
       "       [0.23966538, 1.        , 0.21520469, 0.06752991],\n",
       "       [0.20225696, 0.21520469, 1.        , 0.14408941],\n",
       "       [0.23214321, 0.06752991, 0.14408941, 1.        ]])"
      ]
     },
     "execution_count": 15,
     "metadata": {},
     "output_type": "execute_result"
    }
   ],
   "source": [
    "S = []\n",
    "for i in range(corpus.count()):\n",
    "    S.append(linear_kernel(tfidf_matrix[i], tfidf_matrix).flatten()) # equivalente a cos\n",
    "\n",
    "S = np.asarray(S)\n",
    "S"
   ]
  },
  {
   "cell_type": "markdown",
   "metadata": {},
   "source": [
    "### Estimacion MMR"
   ]
  },
  {
   "cell_type": "markdown",
   "metadata": {},
   "source": [
    "Fuentes:\n",
    "\n",
    "http://www.cs.bilkent.edu.tr/~canf/CS533/hwSpring14/eightMinPresentations/handoutMMR.pdf"
   ]
  },
  {
   "cell_type": "code",
   "execution_count": 16,
   "metadata": {},
   "outputs": [],
   "source": [
    "#https://www.quora.com/Where-can-I-find-a-maximum-marginal-relevance-algorithm-in-Python-for-redundancy-removal-in-two-documents\n",
    "    \n",
    "def mmr_sorted(docs, q, lambda_, similarity1, similarity2):\n",
    "    \"\"\"Sort a list of docs by Maximal marginal relevance\n",
    "\t\n",
    "\tPerforms maximal marginal relevance sorting on a set of\n",
    "\tdocuments as described by Carbonell and Goldstein (1998)\n",
    "\tin their paper \"The Use of MMR, Diversity-Based Reranking\n",
    "\tfor Reordering Documents and Producing Summaries\"\n",
    " \n",
    "    :param docs: a set of documents to be ranked \n",
    "\t\t\t\t  by maximal marginal relevance\n",
    "    :param q: query to which the documents are results\n",
    "    :param lambda_: lambda parameter, a float between 0 and 1\n",
    "    :param similarity1: sim_1 function. takes a doc and the query\n",
    "\t\t\t\t\t\tas an argument and computes their similarity\n",
    "    :param similarity2: sim_2 function. takes two docs as arguments\n",
    "\t\t\t\t\t\tand computes their similarity score\n",
    "    :return: a (document, mmr score) ordered dictionary of the docs\n",
    "\t\t\tgiven in the first argument, ordered my MMR\n",
    "    \"\"\"\n",
    "    selected = collections.OrderedDict()\n",
    "    while set(selected) != docs:\n",
    "        remaining = docs - set(selected)\n",
    "        mmr_score = lambda x: lambda_*similarity1(x, q) - (1-lambda_)*max([similarity2(x, y) for y in set(selected)-{x}] or [0])\n",
    "        next_selected = argmax(remaining, mmr_score)\n",
    "        selected[next_selected] = len(selected)\n",
    "    return selected\n",
    " \n",
    "def argmax(keys, f):\n",
    "    return max(keys, key=f)"
   ]
  },
  {
   "cell_type": "code",
   "execution_count": 17,
   "metadata": {
    "scrolled": true
   },
   "outputs": [
    {
     "data": {
      "text/plain": [
       "array([[1.        , 0.23966538, 0.20225696, 0.23214321],\n",
       "       [0.23966538, 1.        , 0.21520469, 0.06752991],\n",
       "       [0.20225696, 0.21520469, 1.        , 0.14408941],\n",
       "       [0.23214321, 0.06752991, 0.14408941, 1.        ]])"
      ]
     },
     "execution_count": 17,
     "metadata": {},
     "output_type": "execute_result"
    }
   ],
   "source": [
    "S"
   ]
  },
  {
   "cell_type": "code",
   "execution_count": 18,
   "metadata": {},
   "outputs": [
    {
     "data": {
      "text/plain": [
       "0.23966538452885877"
      ]
     },
     "execution_count": 18,
     "metadata": {},
     "output_type": "execute_result"
    }
   ],
   "source": [
    "S[1,0]"
   ]
  },
  {
   "cell_type": "code",
   "execution_count": 19,
   "metadata": {},
   "outputs": [],
   "source": [
    "docs = list(range(1,corpus.count()))\n",
    "init_idx= np.argmax(S[0][1::]) + 1 # el indice del d con mayor similaridad a q\n",
    "selected = []\n",
    "#selected.append(init_idx.item())"
   ]
  },
  {
   "cell_type": "code",
   "execution_count": 20,
   "metadata": {
    "scrolled": true
   },
   "outputs": [
    {
     "data": {
      "text/plain": [
       "([1, 2, 3], [])"
      ]
     },
     "execution_count": 20,
     "metadata": {},
     "output_type": "execute_result"
    }
   ],
   "source": [
    "docs, selected"
   ]
  },
  {
   "cell_type": "code",
   "execution_count": 21,
   "metadata": {},
   "outputs": [],
   "source": [
    "#while selected != docs:\n",
    "#remaining = [i for i in docs if i not in selected]\n",
    "#mmr_score = lambda x: (lambda_*S[0,x] -(1 - lambda_)* max(S[ele, x])) for x in remaining"
   ]
  },
  {
   "cell_type": "code",
   "execution_count": 22,
   "metadata": {},
   "outputs": [],
   "source": [
    "def argmax(keys, f):\n",
    "    return max(keys, key=f)"
   ]
  },
  {
   "cell_type": "code",
   "execution_count": 23,
   "metadata": {},
   "outputs": [],
   "source": [
    "#while selected != docs:\n",
    "#remaining = [i for i in docs if i not in selected]\n",
    "#mmr_score = lambda x: lambda_*S[x, 0] - (1-lambda_)*max([S[x, y] for y in set(selected)-{x}] or [0])\n",
    "#next_selected = argmax(remaining, mmr_score)\n",
    "#selected[next_selected] = len(selected)"
   ]
  }
 ],
 "metadata": {
  "kernelspec": {
   "display_name": "Python 3",
   "language": "python",
   "name": "python3"
  },
  "language_info": {
   "codemirror_mode": {
    "name": "ipython",
    "version": 3
   },
   "file_extension": ".py",
   "mimetype": "text/x-python",
   "name": "python",
   "nbconvert_exporter": "python",
   "pygments_lexer": "ipython3",
   "version": "3.7.6"
  }
 },
 "nbformat": 4,
 "nbformat_minor": 4
}
