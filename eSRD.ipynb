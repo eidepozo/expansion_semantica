{
 "cells": [
  {
   "cell_type": "markdown",
   "metadata": {},
   "source": [
    "Elliot Ide Pozo"
   ]
  },
  {
   "cell_type": "markdown",
   "metadata": {},
   "source": [
    "- <del>Crear script en python que permita extraer la data desde el server de base de datos (activismo.inf.uach.cl)</del>\n",
    "- <del>Crear script en python que permita crear un json (dataset) de desafío, usuario, consulta, resultado (diccionario).</del>\n",
    "- Crear un script para obtener la representación tf-idf (NLTK,,,).\n",
    "- Crear un script que calcule al menos una métrica de las establecidas por cada conjunto.\n"
   ]
  },
  {
   "cell_type": "code",
   "execution_count": 1,
   "metadata": {},
   "outputs": [],
   "source": [
    "import pandas as pd\n",
    "import pymysql\n",
    "from sshtunnel import SSHTunnelForwarder"
   ]
  },
  {
   "cell_type": "code",
   "execution_count": 2,
   "metadata": {},
   "outputs": [
    {
     "data": {
      "text/html": [
       "<div>\n",
       "<style scoped>\n",
       "    .dataframe tbody tr th:only-of-type {\n",
       "        vertical-align: middle;\n",
       "    }\n",
       "\n",
       "    .dataframe tbody tr th {\n",
       "        vertical-align: top;\n",
       "    }\n",
       "\n",
       "    .dataframe thead th {\n",
       "        text-align: right;\n",
       "    }\n",
       "</style>\n",
       "<table border=\"1\" class=\"dataframe\">\n",
       "  <thead>\n",
       "    <tr style=\"text-align: right;\">\n",
       "      <th></th>\n",
       "      <th>date_executed</th>\n",
       "      <th>FK_challenge_id_number</th>\n",
       "      <th>FK_student_nick</th>\n",
       "      <th>id_number</th>\n",
       "      <th>query</th>\n",
       "      <th>snippet</th>\n",
       "    </tr>\n",
       "  </thead>\n",
       "  <tbody>\n",
       "    <tr>\n",
       "      <th>0</th>\n",
       "      <td>2019-04-29 14:39:53</td>\n",
       "      <td>1</td>\n",
       "      <td>eespinoza</td>\n",
       "      <td>11</td>\n",
       "      <td>vih en chile</td>\n",
       "      <td>&lt;b&gt;vih en chile&lt;/b&gt;. Es urgente aumentar el di...</td>\n",
       "    </tr>\n",
       "    <tr>\n",
       "      <th>1</th>\n",
       "      <td>2019-04-29 14:39:53</td>\n",
       "      <td>1</td>\n",
       "      <td>eespinoza</td>\n",
       "      <td>11</td>\n",
       "      <td>vih en chile</td>\n",
       "      <td>&lt;b&gt;En&lt;/b&gt; &lt;b&gt;Chile&lt;/b&gt;, la Ley 19.779 resguard...</td>\n",
       "    </tr>\n",
       "    <tr>\n",
       "      <th>2</th>\n",
       "      <td>2019-04-29 14:39:53</td>\n",
       "      <td>1</td>\n",
       "      <td>eespinoza</td>\n",
       "      <td>11</td>\n",
       "      <td>vih en chile</td>\n",
       "      <td>¿Cuánto tarda una persona con &lt;b&gt;VIH&lt;/b&gt; &lt;b&gt;en...</td>\n",
       "    </tr>\n",
       "    <tr>\n",
       "      <th>3</th>\n",
       "      <td>2019-04-29 14:39:53</td>\n",
       "      <td>1</td>\n",
       "      <td>eespinoza</td>\n",
       "      <td>11</td>\n",
       "      <td>vih en chile</td>\n",
       "      <td>&lt;b&gt;VIH&lt;/b&gt; &lt;b&gt;Sida&lt;/b&gt; &lt;b&gt;en&lt;/b&gt; &lt;b&gt;Chile&lt;/b&gt;:...</td>\n",
       "    </tr>\n",
       "    <tr>\n",
       "      <th>4</th>\n",
       "      <td>2019-04-29 14:39:53</td>\n",
       "      <td>1</td>\n",
       "      <td>eespinoza</td>\n",
       "      <td>11</td>\n",
       "      <td>vih en chile</td>\n",
       "      <td>&lt;b&gt;En&lt;/b&gt; los últimos diez años los contagios ...</td>\n",
       "    </tr>\n",
       "    <tr>\n",
       "      <th>5</th>\n",
       "      <td>2019-04-29 14:39:53</td>\n",
       "      <td>1</td>\n",
       "      <td>eespinoza</td>\n",
       "      <td>11</td>\n",
       "      <td>vih en chile</td>\n",
       "      <td>Advierten que el &lt;b&gt;VIH&lt;/b&gt; &lt;b&gt;sida&lt;/b&gt; está d...</td>\n",
       "    </tr>\n",
       "    <tr>\n",
       "      <th>6</th>\n",
       "      <td>2019-04-29 14:39:53</td>\n",
       "      <td>1</td>\n",
       "      <td>eespinoza</td>\n",
       "      <td>11</td>\n",
       "      <td>vih en chile</td>\n",
       "      <td>&lt;b&gt;SIDA&lt;/b&gt; &lt;b&gt;en&lt;/b&gt; &lt;b&gt;Chile&lt;/b&gt;: la epidemi...</td>\n",
       "    </tr>\n",
       "    <tr>\n",
       "      <th>7</th>\n",
       "      <td>2019-04-29 14:39:53</td>\n",
       "      <td>1</td>\n",
       "      <td>eespinoza</td>\n",
       "      <td>11</td>\n",
       "      <td>vih en chile</td>\n",
       "      <td>del tratamiento anti-&lt;b&gt;vih&lt;/b&gt; para ayudar y ...</td>\n",
       "    </tr>\n",
       "    <tr>\n",
       "      <th>8</th>\n",
       "      <td>2019-04-29 14:39:53</td>\n",
       "      <td>1</td>\n",
       "      <td>eespinoza</td>\n",
       "      <td>11</td>\n",
       "      <td>vih en chile</td>\n",
       "      <td>Para el presidente de la Corporación &lt;b&gt;Sida&lt;/...</td>\n",
       "    </tr>\n",
       "    <tr>\n",
       "      <th>9</th>\n",
       "      <td>2019-04-29 14:39:53</td>\n",
       "      <td>1</td>\n",
       "      <td>eespinoza</td>\n",
       "      <td>11</td>\n",
       "      <td>vih en chile</td>\n",
       "      <td>Informe revela que &lt;b&gt;Chile&lt;/b&gt; es el país don...</td>\n",
       "    </tr>\n",
       "  </tbody>\n",
       "</table>\n",
       "</div>"
      ],
      "text/plain": [
       "        date_executed  FK_challenge_id_number FK_student_nick  id_number  \\\n",
       "0 2019-04-29 14:39:53                       1       eespinoza         11   \n",
       "1 2019-04-29 14:39:53                       1       eespinoza         11   \n",
       "2 2019-04-29 14:39:53                       1       eespinoza         11   \n",
       "3 2019-04-29 14:39:53                       1       eespinoza         11   \n",
       "4 2019-04-29 14:39:53                       1       eespinoza         11   \n",
       "5 2019-04-29 14:39:53                       1       eespinoza         11   \n",
       "6 2019-04-29 14:39:53                       1       eespinoza         11   \n",
       "7 2019-04-29 14:39:53                       1       eespinoza         11   \n",
       "8 2019-04-29 14:39:53                       1       eespinoza         11   \n",
       "9 2019-04-29 14:39:53                       1       eespinoza         11   \n",
       "\n",
       "          query                                            snippet  \n",
       "0  vih en chile  <b>vih en chile</b>. Es urgente aumentar el di...  \n",
       "1  vih en chile  <b>En</b> <b>Chile</b>, la Ley 19.779 resguard...  \n",
       "2  vih en chile  ¿Cuánto tarda una persona con <b>VIH</b> <b>en...  \n",
       "3  vih en chile  <b>VIH</b> <b>Sida</b> <b>en</b> <b>Chile</b>:...  \n",
       "4  vih en chile  <b>En</b> los últimos diez años los contagios ...  \n",
       "5  vih en chile  Advierten que el <b>VIH</b> <b>sida</b> está d...  \n",
       "6  vih en chile  <b>SIDA</b> <b>en</b> <b>Chile</b>: la epidemi...  \n",
       "7  vih en chile  del tratamiento anti-<b>vih</b> para ayudar y ...  \n",
       "8  vih en chile  Para el presidente de la Corporación <b>Sida</...  \n",
       "9  vih en chile  Informe revela que <b>Chile</b> es el país don...  "
      ]
     },
     "metadata": {},
     "output_type": "display_data"
    }
   ],
   "source": [
    "# https://stackoverflow.com/questions/21903411/enable-python-to-connect-to-mysql-via-ssh-tunnelling\n",
    "# https://stackoverflow.com/questions/42726681/conecting-to-mysql-in-a-remote-server-from-python\n",
    "\n",
    "with SSHTunnelForwarder(\n",
    "            'activismo.inf.uach.cl',\n",
    "            ssh_username='vps238',\n",
    "            ssh_password='vps238.2018',\n",
    "            remote_bind_address=('127.0.0.1', 3306)) as tunnel:\n",
    "        conn = pymysql.connect(host='127.0.0.1', user='learning',\n",
    "                               passwd='analytic$',db='gonsa2',\n",
    "                               port=tunnel.local_bind_port)\n",
    "        query = \"SELECT date_executed, FK_challenge_id_number, FK_student_nick,id_number,query,snippet \\\n",
    "        FROM Students_query\\\n",
    "        INNER JOIN Students_queries_results ON FK_student_query_id_number = id_number\\\n",
    "        WHERE FK_challenge_id_number = 1 AND FK_student_nick != 'test_student'\\\n",
    "        LIMIT 10\";\n",
    "        data = pd.read_sql(query, conn)\n",
    "        display(data)\n",
    "        \n",
    "        conn.close()"
   ]
  },
  {
   "cell_type": "code",
   "execution_count": 3,
   "metadata": {},
   "outputs": [],
   "source": [
    "from bs4 import BeautifulSoup"
   ]
  },
  {
   "cell_type": "code",
   "execution_count": 4,
   "metadata": {},
   "outputs": [],
   "source": [
    "#data['snippet'] = data['snippet'].apply(BeautifulSoup)"
   ]
  },
  {
   "cell_type": "code",
   "execution_count": 5,
   "metadata": {},
   "outputs": [
    {
     "name": "stdout",
     "output_type": "stream",
     "text": [
      "vih en chile. Es urgente aumentar el diagnóstico de personas infectadas. La prevalencia de la infección en Latinoamérica no ha sido adecuadamente estudiada, pero, se calcula que en Chile la mitad de las personas que está infectada no ha sido diagnosticada y por lo tanto no está en control y tratamiento.\n"
     ]
    }
   ],
   "source": [
    "text = data['snippet'][0]\n",
    "soup = BeautifulSoup(text)\n",
    "\n",
    "print(soup.get_text())"
   ]
  }
 ],
 "metadata": {
  "kernelspec": {
   "display_name": "Python 3",
   "language": "python",
   "name": "python3"
  },
  "language_info": {
   "codemirror_mode": {
    "name": "ipython",
    "version": 3
   },
   "file_extension": ".py",
   "mimetype": "text/x-python",
   "name": "python",
   "nbconvert_exporter": "python",
   "pygments_lexer": "ipython3",
   "version": "3.7.6"
  }
 },
 "nbformat": 4,
 "nbformat_minor": 4
}
