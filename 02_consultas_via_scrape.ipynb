{
 "cells": [
  {
   "cell_type": "markdown",
   "metadata": {},
   "source": [
    "@eidepozo"
   ]
  },
  {
   "cell_type": "markdown",
   "metadata": {},
   "source": [
    "### Emisión de consultas\n",
    "\n",
    "Fuentes:\n",
    "\n",
    "https://www.rubydevices.com.au/blog/how-to-scrape-bing\n",
    "\n",
    "https://stackoverflow.com/questions/36730372/extract-the-text-from-p-within-div-with-beautifulsoup"
   ]
  },
  {
   "cell_type": "code",
   "execution_count": 1,
   "metadata": {},
   "outputs": [],
   "source": [
    "from bing_search import bing_search"
   ]
  },
  {
   "cell_type": "code",
   "execution_count": 2,
   "metadata": {},
   "outputs": [
    {
     "data": {
      "text/plain": [
       "['03-06-2018\\xa0· Surprisingly, recommendation of news or videos for media, product recommendation or personalization in travel and retail can be handled by similar machine learning algorithms.',\n",
       " '01-03-2016\\xa0· “Best” is a very strong word. That said, here are some of my favorite algorithms. All of them can be used to implement efficient recommender systems in some contexts: * SVD++ * Alternating Least Squares (ALS) * Bayesian Personalized Ranking (BPR) ...',\n",
       " 'Due to the low occurrence frequency of long-tail queries, existing query recommendation solutions are ineffective on them. We have tested two well-known query recommendation algorithms [6, 8] on long-tail queries (see Section9) and found that they are far from accurate, reflecting that there is room for improvement in the recommendation process.']"
      ]
     },
     "execution_count": 2,
     "metadata": {},
     "output_type": "execute_result"
    }
   ],
   "source": [
    "bing_search(\"Query recommendation algorithms\")"
   ]
  }
 ],
 "metadata": {
  "kernelspec": {
   "display_name": "Python 3",
   "language": "python",
   "name": "python3"
  },
  "language_info": {
   "codemirror_mode": {
    "name": "ipython",
    "version": 3
   },
   "file_extension": ".py",
   "mimetype": "text/x-python",
   "name": "python",
   "nbconvert_exporter": "python",
   "pygments_lexer": "ipython3",
   "version": "3.7.6"
  }
 },
 "nbformat": 4,
 "nbformat_minor": 4
}
