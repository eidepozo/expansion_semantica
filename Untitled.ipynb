{
 "cells": [
  {
   "cell_type": "code",
   "execution_count": 1,
   "metadata": {},
   "outputs": [],
   "source": [
    "from gensim.models import Word2Vec"
   ]
  },
  {
   "cell_type": "code",
   "execution_count": 9,
   "metadata": {},
   "outputs": [],
   "source": [
    "model0 = Word2Vec.load('modelA/word2vec.modelA')"
   ]
  },
  {
   "cell_type": "code",
   "execution_count": 10,
   "metadata": {},
   "outputs": [
    {
     "data": {
      "text/plain": [
       "2416"
      ]
     },
     "metadata": {},
     "output_type": "display_data"
    }
   ],
   "source": [
    "vocab = list(model0.wv.vocab)\n",
    "display(len(vocab))"
   ]
  },
  {
   "cell_type": "code",
   "execution_count": 4,
   "metadata": {},
   "outputs": [
    {
     "data": {
      "text/plain": [
       "array([ 0.13728066, -0.06133401, -0.00758418, -0.04377325,  0.13447325,\n",
       "        0.1638408 , -0.02512076, -0.20501931,  0.07745793,  0.06464645,\n",
       "        0.32179642, -0.07041946, -0.01381577,  0.08484779, -0.02933913,\n",
       "        0.03396695, -0.15556507, -0.14552544, -0.05216262,  0.19094789,\n",
       "       -0.19218259, -0.04865664,  0.025817  , -0.03757178, -0.14069368,\n",
       "       -0.14253175,  0.34507132, -0.06564815, -0.11336765,  0.09647732,\n",
       "       -0.13458462,  0.14791629, -0.09363629,  0.0340438 ,  0.19239828,\n",
       "        0.08158167,  0.11514457,  0.13562131,  0.22526678, -0.15663317,\n",
       "       -0.10519622,  0.07250789, -0.00306652,  0.13028915,  0.0937283 ,\n",
       "        0.10313654, -0.05857758,  0.00835494, -0.1238715 , -0.01073368,\n",
       "        0.02277407,  0.19576168, -0.07745714,  0.05715501,  0.17361727,\n",
       "        0.1361198 ,  0.2397114 ,  0.14528544, -0.15914844,  0.08723436,\n",
       "       -0.05294647, -0.11713892,  0.03705576, -0.02771444, -0.02534637,\n",
       "        0.23719828,  0.22406054, -0.0527904 , -0.07591814, -0.03015946,\n",
       "       -0.04049969,  0.11573804,  0.03006658, -0.1900623 ,  0.10898628,\n",
       "       -0.1400168 ,  0.07115177,  0.03229138, -0.02765687, -0.11328257,\n",
       "       -0.14396393, -0.02335472,  0.2592056 ,  0.03072057, -0.13234837,\n",
       "       -0.0611659 ,  0.01956178, -0.15015465,  0.20409927, -0.02538791,\n",
       "        0.1130659 ,  0.24004152, -0.04960271,  0.16475129, -0.08612441,\n",
       "       -0.10399792, -0.11613068, -0.07221846,  0.18728516, -0.17662832],\n",
       "      dtype=float32)"
      ]
     },
     "execution_count": 4,
     "metadata": {},
     "output_type": "execute_result"
    }
   ],
   "source": [
    "model0.wv['auto']"
   ]
  },
  {
   "cell_type": "code",
   "execution_count": null,
   "metadata": {},
   "outputs": [],
   "source": []
  }
 ],
 "metadata": {
  "kernelspec": {
   "display_name": "Python 3",
   "language": "python",
   "name": "python3"
  },
  "language_info": {
   "codemirror_mode": {
    "name": "ipython",
    "version": 3
   },
   "file_extension": ".py",
   "mimetype": "text/x-python",
   "name": "python",
   "nbconvert_exporter": "python",
   "pygments_lexer": "ipython3",
   "version": "3.8.5"
  }
 },
 "nbformat": 4,
 "nbformat_minor": 4
}
