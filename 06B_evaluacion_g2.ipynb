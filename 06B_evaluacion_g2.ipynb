{
 "cells": [
  {
   "cell_type": "markdown",
   "metadata": {},
   "source": [
    "@eidepozo\n",
    "\n",
    "Análogo a `06_evaluacion_g1`"
   ]
  },
  {
   "cell_type": "code",
   "execution_count": 1,
   "metadata": {},
   "outputs": [],
   "source": [
    "import pandas as pd"
   ]
  },
  {
   "cell_type": "code",
   "execution_count": 2,
   "metadata": {},
   "outputs": [],
   "source": [
    "df = pd.read_csv('top_k_queries_ext.csv')"
   ]
  },
  {
   "cell_type": "code",
   "execution_count": 3,
   "metadata": {},
   "outputs": [
    {
     "data": {
      "text/html": [
       "<div>\n",
       "<style scoped>\n",
       "    .dataframe tbody tr th:only-of-type {\n",
       "        vertical-align: middle;\n",
       "    }\n",
       "\n",
       "    .dataframe tbody tr th {\n",
       "        vertical-align: top;\n",
       "    }\n",
       "\n",
       "    .dataframe thead th {\n",
       "        text-align: right;\n",
       "    }\n",
       "</style>\n",
       "<table border=\"1\" class=\"dataframe\">\n",
       "  <thead>\n",
       "    <tr style=\"text-align: right;\">\n",
       "      <th></th>\n",
       "      <th>total</th>\n",
       "      <th>query</th>\n",
       "      <th>snippet1</th>\n",
       "      <th>snippet2</th>\n",
       "      <th>snippet3</th>\n",
       "      <th>sum_cos</th>\n",
       "    </tr>\n",
       "  </thead>\n",
       "  <tbody>\n",
       "    <tr>\n",
       "      <th>0</th>\n",
       "      <td>24</td>\n",
       "      <td>como construir un automovil</td>\n",
       "      <td>Los ocho pasos -y los cuatro años- para engend...</td>\n",
       "      <td>AUTOS, VEHÍCULOS, TOPS, LOS MEJORES TOPS, IMPR...</td>\n",
       "      <td>La fabricación de un coche se divide, fundamen...</td>\n",
       "      <td>2.864998</td>\n",
       "    </tr>\n",
       "    <tr>\n",
       "      <th>1</th>\n",
       "      <td>18</td>\n",
       "      <td>como hacer un auto</td>\n",
       "      <td>Es, según los responsables del diseño, intenci...</td>\n",
       "      <td>En la planta de prensas, se han creado todas l...</td>\n",
       "      <td>Hola amigos…. cómo hacer un auto fórmula 1, pa...</td>\n",
       "      <td>2.908130</td>\n",
       "    </tr>\n",
       "    <tr>\n",
       "      <th>2</th>\n",
       "      <td>10</td>\n",
       "      <td>soapbox vehiculo</td>\n",
       "      <td>Hace algunos días te platicábamos sobre el nue...</td>\n",
       "      <td>Como cualquier vehículo, el Hyundai Soapbox fu...</td>\n",
       "      <td>El SoapBox es sencillo, la fuerza de gravedad ...</td>\n",
       "      <td>2.745301</td>\n",
       "    </tr>\n",
       "    <tr>\n",
       "      <th>3</th>\n",
       "      <td>9</td>\n",
       "      <td>como construir un automovil de carreras</td>\n",
       "      <td>Vemos todo el proceso que lleva modificar un S...</td>\n",
       "      <td>Diseña el volante. Los corredores que agregan ...</td>\n",
       "      <td>utilizado como rueda, un hilo estriado como ej...</td>\n",
       "      <td>2.958840</td>\n",
       "    </tr>\n",
       "    <tr>\n",
       "      <th>4</th>\n",
       "      <td>9</td>\n",
       "      <td>soapbox race</td>\n",
       "      <td>With Soapbox Race World, servers can provide c...</td>\n",
       "      <td>Red Bull Soapbox Race 2019 went to Lithuania a...</td>\n",
       "      <td>soapbox race world is an open source project w...</td>\n",
       "      <td>2.512494</td>\n",
       "    </tr>\n",
       "    <tr>\n",
       "      <th>5</th>\n",
       "      <td>8</td>\n",
       "      <td>automovil soapbox carrera</td>\n",
       "      <td>Este coche fue creado a partir de las carreras...</td>\n",
       "      <td>A una carrera de Soapbox asisten cerca de 40,0...</td>\n",
       "      <td>La carrera ‘Red Bull Soapbox Race’ se realiza ...</td>\n",
       "      <td>2.883982</td>\n",
       "    </tr>\n",
       "    <tr>\n",
       "      <th>6</th>\n",
       "      <td>8</td>\n",
       "      <td>construir un auto</td>\n",
       "      <td>Desde que el diseñador dibuja hasta que los in...</td>\n",
       "      <td>AUTOS, VEHÍCULOS, TOPS, LOS MEJORES TOPS, IMPR...</td>\n",
       "      <td>Relájate y disfruta en HD del proceso de ensam...</td>\n",
       "      <td>2.969528</td>\n",
       "    </tr>\n",
       "    <tr>\n",
       "      <th>7</th>\n",
       "      <td>8</td>\n",
       "      <td>planes para crear un automovil</td>\n",
       "      <td>Los ocho pasos -y los cuatro años- para engend...</td>\n",
       "      <td>Con una amplia experiencia en ingeniería, Delo...</td>\n",
       "      <td>Uno de los proyectos que se espera de Apple es...</td>\n",
       "      <td>2.910536</td>\n",
       "    </tr>\n",
       "    <tr>\n",
       "      <th>8</th>\n",
       "      <td>8</td>\n",
       "      <td>construir un automóvil</td>\n",
       "      <td>Aunque la tecnología sea determinante, aún se ...</td>\n",
       "      <td>Pues, en este reportaje, resolvemos tus dudas ...</td>\n",
       "      <td>Relájate y disfruta en HD del proceso de ensam...</td>\n",
       "      <td>2.961275</td>\n",
       "    </tr>\n",
       "    <tr>\n",
       "      <th>9</th>\n",
       "      <td>7</td>\n",
       "      <td>soapbox</td>\n",
       "      <td>Soapbox is the only tool you need to record, e...</td>\n",
       "      <td>Get Started - Soapbox - A Free Webcam and Scre...</td>\n",
       "      <td>Soapbox Usage Guidelines. Ditto to what we sai...</td>\n",
       "      <td>2.573944</td>\n",
       "    </tr>\n",
       "    <tr>\n",
       "      <th>10</th>\n",
       "      <td>5</td>\n",
       "      <td>proceso de construcion de un auto para nascar</td>\n",
       "      <td>NASCAR es la categoría automovilística más com...</td>\n",
       "      <td>Los ocho pasos -y los cuatro años- para engend...</td>\n",
       "      <td>NASCAR son las iniciales en inglés de National...</td>\n",
       "      <td>2.772407</td>\n",
       "    </tr>\n",
       "    <tr>\n",
       "      <th>11</th>\n",
       "      <td>5</td>\n",
       "      <td>partes de un automovil</td>\n",
       "      <td>El chasis es el esqueleto de un auto. Puede se...</td>\n",
       "      <td>Pedales o mandos de pie. El Acelerador: se acc...</td>\n",
       "      <td>Partes de un coche Motor Neumáticos Chasis Car...</td>\n",
       "      <td>2.833922</td>\n",
       "    </tr>\n",
       "  </tbody>\n",
       "</table>\n",
       "</div>"
      ],
      "text/plain": [
       "    total                                          query  \\\n",
       "0      24                    como construir un automovil   \n",
       "1      18                             como hacer un auto   \n",
       "2      10                               soapbox vehiculo   \n",
       "3       9        como construir un automovil de carreras   \n",
       "4       9                                   soapbox race   \n",
       "5       8                      automovil soapbox carrera   \n",
       "6       8                              construir un auto   \n",
       "7       8                 planes para crear un automovil   \n",
       "8       8                        construir un automóvil    \n",
       "9       7                                        soapbox   \n",
       "10      5  proceso de construcion de un auto para nascar   \n",
       "11      5                         partes de un automovil   \n",
       "\n",
       "                                             snippet1  \\\n",
       "0   Los ocho pasos -y los cuatro años- para engend...   \n",
       "1   Es, según los responsables del diseño, intenci...   \n",
       "2   Hace algunos días te platicábamos sobre el nue...   \n",
       "3   Vemos todo el proceso que lleva modificar un S...   \n",
       "4   With Soapbox Race World, servers can provide c...   \n",
       "5   Este coche fue creado a partir de las carreras...   \n",
       "6   Desde que el diseñador dibuja hasta que los in...   \n",
       "7   Los ocho pasos -y los cuatro años- para engend...   \n",
       "8   Aunque la tecnología sea determinante, aún se ...   \n",
       "9   Soapbox is the only tool you need to record, e...   \n",
       "10  NASCAR es la categoría automovilística más com...   \n",
       "11  El chasis es el esqueleto de un auto. Puede se...   \n",
       "\n",
       "                                             snippet2  \\\n",
       "0   AUTOS, VEHÍCULOS, TOPS, LOS MEJORES TOPS, IMPR...   \n",
       "1   En la planta de prensas, se han creado todas l...   \n",
       "2   Como cualquier vehículo, el Hyundai Soapbox fu...   \n",
       "3   Diseña el volante. Los corredores que agregan ...   \n",
       "4   Red Bull Soapbox Race 2019 went to Lithuania a...   \n",
       "5   A una carrera de Soapbox asisten cerca de 40,0...   \n",
       "6   AUTOS, VEHÍCULOS, TOPS, LOS MEJORES TOPS, IMPR...   \n",
       "7   Con una amplia experiencia en ingeniería, Delo...   \n",
       "8   Pues, en este reportaje, resolvemos tus dudas ...   \n",
       "9   Get Started - Soapbox - A Free Webcam and Scre...   \n",
       "10  Los ocho pasos -y los cuatro años- para engend...   \n",
       "11  Pedales o mandos de pie. El Acelerador: se acc...   \n",
       "\n",
       "                                             snippet3   sum_cos  \n",
       "0   La fabricación de un coche se divide, fundamen...  2.864998  \n",
       "1   Hola amigos…. cómo hacer un auto fórmula 1, pa...  2.908130  \n",
       "2   El SoapBox es sencillo, la fuerza de gravedad ...  2.745301  \n",
       "3   utilizado como rueda, un hilo estriado como ej...  2.958840  \n",
       "4   soapbox race world is an open source project w...  2.512494  \n",
       "5   La carrera ‘Red Bull Soapbox Race’ se realiza ...  2.883982  \n",
       "6   Relájate y disfruta en HD del proceso de ensam...  2.969528  \n",
       "7   Uno de los proyectos que se espera de Apple es...  2.910536  \n",
       "8   Relájate y disfruta en HD del proceso de ensam...  2.961275  \n",
       "9   Soapbox Usage Guidelines. Ditto to what we sai...  2.573944  \n",
       "10  NASCAR son las iniciales en inglés de National...  2.772407  \n",
       "11  Partes de un coche Motor Neumáticos Chasis Car...  2.833922  "
      ]
     },
     "execution_count": 3,
     "metadata": {},
     "output_type": "execute_result"
    }
   ],
   "source": [
    "df"
   ]
  },
  {
   "cell_type": "code",
   "execution_count": 4,
   "metadata": {},
   "outputs": [],
   "source": [
    "modelA_q = [] # iterable df para cada query\n",
    "modelB_q = []\n",
    "modelC_q = []"
   ]
  },
  {
   "cell_type": "code",
   "execution_count": 5,
   "metadata": {},
   "outputs": [],
   "source": [
    "file_names =['01', '02', '03', '05', '06', '07', '08']"
   ]
  },
  {
   "cell_type": "code",
   "execution_count": 6,
   "metadata": {},
   "outputs": [],
   "source": [
    "for name in file_names:\n",
    "    modelA_q.append(pd.read_csv('modelA/top_k_query_'+name+'.csv'))\n",
    "    modelB_q.append(pd.read_csv('modelB/top_k_query_'+name+'.csv'))\n",
    "    modelC_q.append(pd.read_csv('modelC/top_k_query_'+name+'.csv'))"
   ]
  },
  {
   "cell_type": "code",
   "execution_count": 7,
   "metadata": {},
   "outputs": [],
   "source": [
    "ref = {\n",
    "    0: 1,\n",
    "    1: 2,\n",
    "    2: 3,\n",
    "    3: 5,\n",
    "    4: 6,\n",
    "    5: 7,\n",
    "    6: 8,\n",
    "}"
   ]
  },
  {
   "cell_type": "code",
   "execution_count": 8,
   "metadata": {},
   "outputs": [
    {
     "data": {
      "text/plain": [
       "total                                                       8\n",
       "query                                       construir un auto\n",
       "snippet1    Desde que el diseñador dibuja hasta que los in...\n",
       "snippet2    AUTOS, VEHÍCULOS, TOPS, LOS MEJORES TOPS, IMPR...\n",
       "snippet3    Relájate y disfruta en HD del proceso de ensam...\n",
       "sum_cos                                               2.96953\n",
       "Name: 6, dtype: object"
      ]
     },
     "execution_count": 8,
     "metadata": {},
     "output_type": "execute_result"
    }
   ],
   "source": [
    "df.iloc[ref[4]]#[5]"
   ]
  },
  {
   "cell_type": "code",
   "execution_count": 9,
   "metadata": {},
   "outputs": [
    {
     "data": {
      "text/html": [
       "<div>\n",
       "<style scoped>\n",
       "    .dataframe tbody tr th:only-of-type {\n",
       "        vertical-align: middle;\n",
       "    }\n",
       "\n",
       "    .dataframe tbody tr th {\n",
       "        vertical-align: top;\n",
       "    }\n",
       "\n",
       "    .dataframe thead th {\n",
       "        text-align: right;\n",
       "    }\n",
       "</style>\n",
       "<table border=\"1\" class=\"dataframe\">\n",
       "  <thead>\n",
       "    <tr style=\"text-align: right;\">\n",
       "      <th></th>\n",
       "      <th>word_added</th>\n",
       "      <th>sum_cos</th>\n",
       "    </tr>\n",
       "  </thead>\n",
       "  <tbody>\n",
       "    <tr>\n",
       "      <th>35</th>\n",
       "      <td>artículo</td>\n",
       "      <td>2.759480</td>\n",
       "    </tr>\n",
       "    <tr>\n",
       "      <th>41</th>\n",
       "      <td>mantenimiento</td>\n",
       "      <td>2.815800</td>\n",
       "    </tr>\n",
       "    <tr>\n",
       "      <th>15</th>\n",
       "      <td>ruedas</td>\n",
       "      <td>2.853380</td>\n",
       "    </tr>\n",
       "    <tr>\n",
       "      <th>2</th>\n",
       "      <td>materiales</td>\n",
       "      <td>2.857296</td>\n",
       "    </tr>\n",
       "    <tr>\n",
       "      <th>6</th>\n",
       "      <td>manera</td>\n",
       "      <td>2.862147</td>\n",
       "    </tr>\n",
       "    <tr>\n",
       "      <th>9</th>\n",
       "      <td>cualquier</td>\n",
       "      <td>2.863192</td>\n",
       "    </tr>\n",
       "    <tr>\n",
       "      <th>43</th>\n",
       "      <td>comprar</td>\n",
       "      <td>2.870153</td>\n",
       "    </tr>\n",
       "    <tr>\n",
       "      <th>46</th>\n",
       "      <td>buen</td>\n",
       "      <td>2.874802</td>\n",
       "    </tr>\n",
       "    <tr>\n",
       "      <th>48</th>\n",
       "      <td>través</td>\n",
       "      <td>2.877893</td>\n",
       "    </tr>\n",
       "    <tr>\n",
       "      <th>37</th>\n",
       "      <td>aire</td>\n",
       "      <td>2.882658</td>\n",
       "    </tr>\n",
       "    <tr>\n",
       "      <th>3</th>\n",
       "      <td>puedes</td>\n",
       "      <td>2.883345</td>\n",
       "    </tr>\n",
       "    <tr>\n",
       "      <th>30</th>\n",
       "      <td>construcción</td>\n",
       "      <td>2.889618</td>\n",
       "    </tr>\n",
       "    <tr>\n",
       "      <th>49</th>\n",
       "      <td>bien</td>\n",
       "      <td>2.905251</td>\n",
       "    </tr>\n",
       "    <tr>\n",
       "      <th>45</th>\n",
       "      <td>cuenta</td>\n",
       "      <td>2.905282</td>\n",
       "    </tr>\n",
       "    <tr>\n",
       "      <th>27</th>\n",
       "      <td>material</td>\n",
       "      <td>2.906615</td>\n",
       "    </tr>\n",
       "  </tbody>\n",
       "</table>\n",
       "</div>"
      ],
      "text/plain": [
       "       word_added   sum_cos\n",
       "35       artículo  2.759480\n",
       "41  mantenimiento  2.815800\n",
       "15         ruedas  2.853380\n",
       "2      materiales  2.857296\n",
       "6          manera  2.862147\n",
       "9       cualquier  2.863192\n",
       "43        comprar  2.870153\n",
       "46           buen  2.874802\n",
       "48         través  2.877893\n",
       "37           aire  2.882658\n",
       "3          puedes  2.883345\n",
       "30   construcción  2.889618\n",
       "49           bien  2.905251\n",
       "45         cuenta  2.905282\n",
       "27       material  2.906615"
      ]
     },
     "execution_count": 9,
     "metadata": {},
     "output_type": "execute_result"
    }
   ],
   "source": [
    "modelB_q[4][modelB_q[4]['sum_cos']<=df.iloc[ref[4]][5]].sort_values(by=['sum_cos'])[['word_added','sum_cos']][:15]"
   ]
  },
  {
   "cell_type": "markdown",
   "metadata": {},
   "source": [
    "### Display palabras agregadas por modelo"
   ]
  },
  {
   "cell_type": "code",
   "execution_count": 10,
   "metadata": {},
   "outputs": [],
   "source": [
    "word_added = [] # iterable para evaluar vocabularios post modelo"
   ]
  },
  {
   "cell_type": "code",
   "execution_count": 11,
   "metadata": {},
   "outputs": [],
   "source": [
    "for ele in range(len(file_names)):\n",
    "    aux = pd.concat([modelA_q[ele]['word_added'],\n",
    "                                 modelB_q[ele]['word_added'], modelC_q[ele]['word_added']], axis=1)\n",
    "    aux.columns=['model_A', 'model_B', 'model_C']\n",
    "    word_added.append(aux)"
   ]
  },
  {
   "cell_type": "code",
   "execution_count": 12,
   "metadata": {},
   "outputs": [],
   "source": [
    "#https://stackoverflow.com/questions/26977076/pandas-unique-values-multiple-columns\n",
    "\n",
    "def uniqueness(word_added, idx):\n",
    "    unique = list(pd.unique(word_added[idx][['model_A', 'model_B', 'model_C']].values.ravel('K')))\n",
    "    unique_df = pd.DataFrame(unique, columns=['word'])\n",
    "    unique_df['model_A'] = unique_df['word'].isin(word_added[idx]['model_A'])\n",
    "    unique_df['model_B'] = unique_df['word'].isin(word_added[0]['model_B'])\n",
    "    unique_df['model_C'] = unique_df['word'].isin(word_added[0]['model_C'])\n",
    "    return unique_df"
   ]
  },
  {
   "cell_type": "code",
   "execution_count": 13,
   "metadata": {},
   "outputs": [
    {
     "data": {
      "text/html": [
       "<div>\n",
       "<style scoped>\n",
       "    .dataframe tbody tr th:only-of-type {\n",
       "        vertical-align: middle;\n",
       "    }\n",
       "\n",
       "    .dataframe tbody tr th {\n",
       "        vertical-align: top;\n",
       "    }\n",
       "\n",
       "    .dataframe thead th {\n",
       "        text-align: right;\n",
       "    }\n",
       "</style>\n",
       "<table border=\"1\" class=\"dataframe\">\n",
       "  <thead>\n",
       "    <tr style=\"text-align: right;\">\n",
       "      <th></th>\n",
       "      <th>word</th>\n",
       "      <th>model_A</th>\n",
       "      <th>model_B</th>\n",
       "      <th>model_C</th>\n",
       "    </tr>\n",
       "  </thead>\n",
       "  <tbody>\n",
       "    <tr>\n",
       "      <th>0</th>\n",
       "      <td>vehículo</td>\n",
       "      <td>True</td>\n",
       "      <td>False</td>\n",
       "      <td>False</td>\n",
       "    </tr>\n",
       "    <tr>\n",
       "      <th>1</th>\n",
       "      <td>componentes</td>\n",
       "      <td>True</td>\n",
       "      <td>False</td>\n",
       "      <td>False</td>\n",
       "    </tr>\n",
       "    <tr>\n",
       "      <th>2</th>\n",
       "      <td>partes</td>\n",
       "      <td>True</td>\n",
       "      <td>False</td>\n",
       "      <td>False</td>\n",
       "    </tr>\n",
       "    <tr>\n",
       "      <th>3</th>\n",
       "      <td>diseño</td>\n",
       "      <td>True</td>\n",
       "      <td>False</td>\n",
       "      <td>False</td>\n",
       "    </tr>\n",
       "    <tr>\n",
       "      <th>4</th>\n",
       "      <td>parte</td>\n",
       "      <td>True</td>\n",
       "      <td>True</td>\n",
       "      <td>True</td>\n",
       "    </tr>\n",
       "    <tr>\n",
       "      <th>...</th>\n",
       "      <td>...</td>\n",
       "      <td>...</td>\n",
       "      <td>...</td>\n",
       "      <td>...</td>\n",
       "    </tr>\n",
       "    <tr>\n",
       "      <th>67</th>\n",
       "      <td>potencia</td>\n",
       "      <td>False</td>\n",
       "      <td>False</td>\n",
       "      <td>False</td>\n",
       "    </tr>\n",
       "    <tr>\n",
       "      <th>68</th>\n",
       "      <td>utiliza</td>\n",
       "      <td>False</td>\n",
       "      <td>False</td>\n",
       "      <td>False</td>\n",
       "    </tr>\n",
       "    <tr>\n",
       "      <th>69</th>\n",
       "      <td>transmisión</td>\n",
       "      <td>False</td>\n",
       "      <td>False</td>\n",
       "      <td>False</td>\n",
       "    </tr>\n",
       "    <tr>\n",
       "      <th>70</th>\n",
       "      <td>combustible</td>\n",
       "      <td>False</td>\n",
       "      <td>False</td>\n",
       "      <td>False</td>\n",
       "    </tr>\n",
       "    <tr>\n",
       "      <th>71</th>\n",
       "      <td>cuatro</td>\n",
       "      <td>False</td>\n",
       "      <td>False</td>\n",
       "      <td>False</td>\n",
       "    </tr>\n",
       "  </tbody>\n",
       "</table>\n",
       "<p>72 rows × 4 columns</p>\n",
       "</div>"
      ],
      "text/plain": [
       "           word  model_A  model_B  model_C\n",
       "0      vehículo     True    False    False\n",
       "1   componentes     True    False    False\n",
       "2        partes     True    False    False\n",
       "3        diseño     True    False    False\n",
       "4         parte     True     True     True\n",
       "..          ...      ...      ...      ...\n",
       "67     potencia    False    False    False\n",
       "68      utiliza    False    False    False\n",
       "69  transmisión    False    False    False\n",
       "70  combustible    False    False    False\n",
       "71       cuatro    False    False    False\n",
       "\n",
       "[72 rows x 4 columns]"
      ]
     },
     "execution_count": 13,
     "metadata": {},
     "output_type": "execute_result"
    }
   ],
   "source": [
    "uniqueness(word_added, 6)"
   ]
  },
  {
   "cell_type": "markdown",
   "metadata": {},
   "source": [
    "### Relación entre diversidad y posición del conjunto de terminos semanticamente relevantes\n",
    "\n",
    "Para determinar dónde se encuentran los términos que ofrecen una mejor diversidad promedio, se agrupan en bloques de 10 todas las palabras sugeridas según su posición entre 0 y 50."
   ]
  },
  {
   "cell_type": "code",
   "execution_count": 14,
   "metadata": {},
   "outputs": [],
   "source": [
    "sum_cos1 = pd.concat([modelB_q[0][0:10]['sum_cos'],modelB_q[1][0:10]['sum_cos'],modelB_q[2][0:10]['sum_cos'],\n",
    "                      modelB_q[3][0:10]['sum_cos'],modelB_q[4][0:10]['sum_cos'],modelB_q[5][0:10]['sum_cos'],\n",
    "                      modelB_q[6][0:10]['sum_cos']])"
   ]
  },
  {
   "cell_type": "code",
   "execution_count": 15,
   "metadata": {},
   "outputs": [],
   "source": [
    "sum_cos2 = pd.concat([modelB_q[0][10:20]['sum_cos'],modelB_q[1][10:20]['sum_cos'],modelB_q[2][10:20]['sum_cos'],\n",
    "                      modelB_q[3][10:20]['sum_cos'],modelB_q[4][10:20]['sum_cos'],modelB_q[5][10:20]['sum_cos'],\n",
    "                      modelB_q[6][10:20]['sum_cos']])"
   ]
  },
  {
   "cell_type": "code",
   "execution_count": 16,
   "metadata": {},
   "outputs": [],
   "source": [
    "sum_cos3 = pd.concat([modelB_q[0][20:30]['sum_cos'],modelB_q[1][20:30]['sum_cos'],modelB_q[2][20:30]['sum_cos'],\n",
    "                      modelB_q[3][20:30]['sum_cos'],modelB_q[4][20:30]['sum_cos'],modelB_q[5][20:30]['sum_cos'],\n",
    "                      modelB_q[6][20:30]['sum_cos']])"
   ]
  },
  {
   "cell_type": "code",
   "execution_count": 17,
   "metadata": {},
   "outputs": [],
   "source": [
    "sum_cos4 = pd.concat([modelB_q[0][30:40]['sum_cos'],modelB_q[1][30:40]['sum_cos'],modelB_q[2][30:40]['sum_cos'],\n",
    "                      modelB_q[3][30:40]['sum_cos'],modelB_q[4][30:40]['sum_cos'],modelB_q[5][30:40]['sum_cos'],\n",
    "                      modelB_q[6][30:40]['sum_cos']])"
   ]
  },
  {
   "cell_type": "code",
   "execution_count": 18,
   "metadata": {},
   "outputs": [],
   "source": [
    "sum_cos5 = pd.concat([modelB_q[0][40:50]['sum_cos'],modelB_q[1][40:50]['sum_cos'],modelB_q[2][40:50]['sum_cos'],\n",
    "                      modelB_q[3][40:50]['sum_cos'],modelB_q[4][40:50]['sum_cos'],modelB_q[5][40:50]['sum_cos'],\n",
    "                      modelB_q[6][40:50]['sum_cos']])"
   ]
  },
  {
   "cell_type": "code",
   "execution_count": 19,
   "metadata": {},
   "outputs": [
    {
     "data": {
      "text/plain": [
       "count    70.000000\n",
       "mean      2.858977\n",
       "std       0.168645\n",
       "min       2.030357\n",
       "25%       2.840147\n",
       "50%       2.898456\n",
       "75%       2.961188\n",
       "max       3.000000\n",
       "Name: sum_cos, dtype: float64"
      ]
     },
     "execution_count": 19,
     "metadata": {},
     "output_type": "execute_result"
    }
   ],
   "source": [
    "sum_cos5.describe()"
   ]
  },
  {
   "cell_type": "code",
   "execution_count": 20,
   "metadata": {},
   "outputs": [],
   "source": [
    "sum_cos_mean_g2 = [2.839183, 2.816637, 2.871901, 2.893503, 2.858977] # para representación"
   ]
  },
  {
   "cell_type": "code",
   "execution_count": 21,
   "metadata": {},
   "outputs": [],
   "source": [
    "import numpy as np"
   ]
  },
  {
   "cell_type": "code",
   "execution_count": 22,
   "metadata": {},
   "outputs": [
    {
     "data": {
      "text/plain": [
       "2.8560402"
      ]
     },
     "execution_count": 22,
     "metadata": {},
     "output_type": "execute_result"
    }
   ],
   "source": [
    "np.mean(sum_cos_mean_g2)"
   ]
  },
  {
   "cell_type": "markdown",
   "metadata": {},
   "source": [
    "### Gráficos de diversidad post-expansión por modelo\n",
    "\n",
    "Representación via scatterplot de los resultados de la expansión en torno a la diversidad original."
   ]
  },
  {
   "cell_type": "code",
   "execution_count": 23,
   "metadata": {},
   "outputs": [],
   "source": [
    "import matplotlib.pyplot as plt"
   ]
  },
  {
   "cell_type": "code",
   "execution_count": 24,
   "metadata": {},
   "outputs": [],
   "source": [
    "def query_scatter_plot(index, user_id, df): # al tratar con df debe indicarse el usuario puntual\n",
    "    plot_0 = modelA_q[index].plot.scatter(x='similarity_w', y='sum_cos', title=df.iloc[user_id][1], figsize=(10,5), label='Modelo A')\n",
    "    modelB_q[index].plot.scatter(x='similarity_w', y='sum_cos', ax=plot_0, color='green', label=\"Modelo B\")\n",
    "    modelC_q[index].plot.scatter(x='similarity_w', y='sum_cos', ax=plot_0, color='orange', label=\"Modelo C\")\n",
    "    plot_0.axhline(y=df.iloc[user_id][5], color ='r', label= \"{:.6f}\".format(df.iloc[user_id][5]))\n",
    "    plot_0.legend(loc=1)\n",
    "    bottom, top = plt.ylim()  # return the current ylim\n",
    "    plt.ylabel(\"sum_cos\")\n",
    "    plt.ylim(top = top + 0.15)"
   ]
  },
  {
   "cell_type": "code",
   "execution_count": 25,
   "metadata": {},
   "outputs": [],
   "source": [
    "keylist = list(ref)"
   ]
  },
  {
   "cell_type": "code",
   "execution_count": 26,
   "metadata": {},
   "outputs": [
    {
     "data": {
      "image/png": "[encoded data removed]",
      "text/plain": [
       "<Figure size 720x360 with 1 Axes>"
      ]
     },
     "metadata": {
      "needs_background": "light"
     },
     "output_type": "display_data"
    }
   ],
   "source": [
    "query_scatter_plot(keylist[4],ref[4], df) # A : B"
   ]
  },
  {
   "cell_type": "markdown",
   "metadata": {},
   "source": [
    "### Generación data relevante a similitud semántica\n",
    "\n",
    "Se generan las tablas de similitud semántica descritas en el artículo. Se utiliza el promedio y la desviación\n",
    "estandar para caracterizar los grupos de consultas."
   ]
  },
  {
   "cell_type": "code",
   "execution_count": 27,
   "metadata": {},
   "outputs": [],
   "source": [
    "similarity_df = pd.DataFrame()"
   ]
  },
  {
   "cell_type": "code",
   "execution_count": 28,
   "metadata": {},
   "outputs": [],
   "source": [
    "for i in range(len(file_names)):\n",
    "    aux_list = [modelA_q[i]['similarity_w'].mean(), modelA_q[i]['similarity_w'].std(), modelB_q[i]['similarity_w'].mean(),\n",
    "            modelB_q[i]['similarity_w'].std(), modelC_q[i]['similarity_w'].mean(), modelC_q[i]['similarity_w'].std()]\n",
    "    aux_df = pd.DataFrame([aux_list])\n",
    "    similarity_df = pd.concat([similarity_df, aux_df])"
   ]
  },
  {
   "cell_type": "code",
   "execution_count": 29,
   "metadata": {},
   "outputs": [],
   "source": [
    "similarity_df = similarity_df.rename(columns={0: \"modelA_mean\", 1: \"modelA_std\", 2: \"modelB_mean\", 3: 'modelB_std', 4: 'modelC_mean', 5: 'modelC_std'}).reset_index(drop=True)"
   ]
  },
  {
   "cell_type": "code",
   "execution_count": 30,
   "metadata": {},
   "outputs": [
    {
     "data": {
      "text/html": [
       "<div>\n",
       "<style scoped>\n",
       "    .dataframe tbody tr th:only-of-type {\n",
       "        vertical-align: middle;\n",
       "    }\n",
       "\n",
       "    .dataframe tbody tr th {\n",
       "        vertical-align: top;\n",
       "    }\n",
       "\n",
       "    .dataframe thead th {\n",
       "        text-align: right;\n",
       "    }\n",
       "</style>\n",
       "<table border=\"1\" class=\"dataframe\">\n",
       "  <thead>\n",
       "    <tr style=\"text-align: right;\">\n",
       "      <th></th>\n",
       "      <th>modelA_mean</th>\n",
       "      <th>modelA_std</th>\n",
       "      <th>modelB_mean</th>\n",
       "      <th>modelB_std</th>\n",
       "      <th>modelC_mean</th>\n",
       "      <th>modelC_std</th>\n",
       "    </tr>\n",
       "  </thead>\n",
       "  <tbody>\n",
       "    <tr>\n",
       "      <th>0</th>\n",
       "      <td>0.997571</td>\n",
       "      <td>0.000761</td>\n",
       "      <td>0.997872</td>\n",
       "      <td>0.000490</td>\n",
       "      <td>0.998737</td>\n",
       "      <td>0.000141</td>\n",
       "    </tr>\n",
       "    <tr>\n",
       "      <th>1</th>\n",
       "      <td>0.999514</td>\n",
       "      <td>0.000027</td>\n",
       "      <td>0.999449</td>\n",
       "      <td>0.000036</td>\n",
       "      <td>0.999402</td>\n",
       "      <td>0.000035</td>\n",
       "    </tr>\n",
       "    <tr>\n",
       "      <th>2</th>\n",
       "      <td>0.993327</td>\n",
       "      <td>0.001462</td>\n",
       "      <td>0.995837</td>\n",
       "      <td>0.000636</td>\n",
       "      <td>0.998130</td>\n",
       "      <td>0.000225</td>\n",
       "    </tr>\n",
       "    <tr>\n",
       "      <th>3</th>\n",
       "      <td>0.933378</td>\n",
       "      <td>0.016796</td>\n",
       "      <td>0.948378</td>\n",
       "      <td>0.012664</td>\n",
       "      <td>0.980687</td>\n",
       "      <td>0.004077</td>\n",
       "    </tr>\n",
       "    <tr>\n",
       "      <th>4</th>\n",
       "      <td>0.997571</td>\n",
       "      <td>0.000761</td>\n",
       "      <td>0.997872</td>\n",
       "      <td>0.000490</td>\n",
       "      <td>0.998737</td>\n",
       "      <td>0.000141</td>\n",
       "    </tr>\n",
       "    <tr>\n",
       "      <th>5</th>\n",
       "      <td>0.998434</td>\n",
       "      <td>0.000213</td>\n",
       "      <td>0.997925</td>\n",
       "      <td>0.000277</td>\n",
       "      <td>0.998853</td>\n",
       "      <td>0.000092</td>\n",
       "    </tr>\n",
       "    <tr>\n",
       "      <th>6</th>\n",
       "      <td>0.995352</td>\n",
       "      <td>0.001296</td>\n",
       "      <td>0.994521</td>\n",
       "      <td>0.001604</td>\n",
       "      <td>0.997770</td>\n",
       "      <td>0.000323</td>\n",
       "    </tr>\n",
       "  </tbody>\n",
       "</table>\n",
       "</div>"
      ],
      "text/plain": [
       "   modelA_mean  modelA_std  modelB_mean  modelB_std  modelC_mean  modelC_std\n",
       "0     0.997571    0.000761     0.997872    0.000490     0.998737    0.000141\n",
       "1     0.999514    0.000027     0.999449    0.000036     0.999402    0.000035\n",
       "2     0.993327    0.001462     0.995837    0.000636     0.998130    0.000225\n",
       "3     0.933378    0.016796     0.948378    0.012664     0.980687    0.004077\n",
       "4     0.997571    0.000761     0.997872    0.000490     0.998737    0.000141\n",
       "5     0.998434    0.000213     0.997925    0.000277     0.998853    0.000092\n",
       "6     0.995352    0.001296     0.994521    0.001604     0.997770    0.000323"
      ]
     },
     "execution_count": 30,
     "metadata": {},
     "output_type": "execute_result"
    }
   ],
   "source": [
    "similarity_df"
   ]
  },
  {
   "cell_type": "code",
   "execution_count": 31,
   "metadata": {},
   "outputs": [
    {
     "data": {
      "text/html": [
       "<div>\n",
       "<style scoped>\n",
       "    .dataframe tbody tr th:only-of-type {\n",
       "        vertical-align: middle;\n",
       "    }\n",
       "\n",
       "    .dataframe tbody tr th {\n",
       "        vertical-align: top;\n",
       "    }\n",
       "\n",
       "    .dataframe thead th {\n",
       "        text-align: right;\n",
       "    }\n",
       "</style>\n",
       "<table border=\"1\" class=\"dataframe\">\n",
       "  <thead>\n",
       "    <tr style=\"text-align: right;\">\n",
       "      <th></th>\n",
       "      <th>modelA_mean</th>\n",
       "      <th>modelA_std</th>\n",
       "      <th>modelB_mean</th>\n",
       "      <th>modelB_std</th>\n",
       "      <th>modelC_mean</th>\n",
       "      <th>modelC_std</th>\n",
       "    </tr>\n",
       "  </thead>\n",
       "  <tbody>\n",
       "    <tr>\n",
       "      <th>count</th>\n",
       "      <td>7.000000</td>\n",
       "      <td>7.000000</td>\n",
       "      <td>7.000000</td>\n",
       "      <td>7.000000</td>\n",
       "      <td>7.000000</td>\n",
       "      <td>7.000000</td>\n",
       "    </tr>\n",
       "    <tr>\n",
       "      <th>mean</th>\n",
       "      <td>0.987878</td>\n",
       "      <td>0.003045</td>\n",
       "      <td>0.990265</td>\n",
       "      <td>0.002314</td>\n",
       "      <td>0.996045</td>\n",
       "      <td>0.000719</td>\n",
       "    </tr>\n",
       "    <tr>\n",
       "      <th>std</th>\n",
       "      <td>0.024120</td>\n",
       "      <td>0.006086</td>\n",
       "      <td>0.018540</td>\n",
       "      <td>0.004590</td>\n",
       "      <td>0.006793</td>\n",
       "      <td>0.001484</td>\n",
       "    </tr>\n",
       "    <tr>\n",
       "      <th>min</th>\n",
       "      <td>0.933378</td>\n",
       "      <td>0.000027</td>\n",
       "      <td>0.948378</td>\n",
       "      <td>0.000036</td>\n",
       "      <td>0.980687</td>\n",
       "      <td>0.000035</td>\n",
       "    </tr>\n",
       "    <tr>\n",
       "      <th>25%</th>\n",
       "      <td>0.994339</td>\n",
       "      <td>0.000487</td>\n",
       "      <td>0.995179</td>\n",
       "      <td>0.000384</td>\n",
       "      <td>0.997950</td>\n",
       "      <td>0.000116</td>\n",
       "    </tr>\n",
       "    <tr>\n",
       "      <th>50%</th>\n",
       "      <td>0.997571</td>\n",
       "      <td>0.000761</td>\n",
       "      <td>0.997872</td>\n",
       "      <td>0.000490</td>\n",
       "      <td>0.998737</td>\n",
       "      <td>0.000141</td>\n",
       "    </tr>\n",
       "    <tr>\n",
       "      <th>75%</th>\n",
       "      <td>0.998002</td>\n",
       "      <td>0.001379</td>\n",
       "      <td>0.997898</td>\n",
       "      <td>0.001120</td>\n",
       "      <td>0.998795</td>\n",
       "      <td>0.000274</td>\n",
       "    </tr>\n",
       "    <tr>\n",
       "      <th>max</th>\n",
       "      <td>0.999514</td>\n",
       "      <td>0.016796</td>\n",
       "      <td>0.999449</td>\n",
       "      <td>0.012664</td>\n",
       "      <td>0.999402</td>\n",
       "      <td>0.004077</td>\n",
       "    </tr>\n",
       "  </tbody>\n",
       "</table>\n",
       "</div>"
      ],
      "text/plain": [
       "       modelA_mean  modelA_std  modelB_mean  modelB_std  modelC_mean  \\\n",
       "count     7.000000    7.000000     7.000000    7.000000     7.000000   \n",
       "mean      0.987878    0.003045     0.990265    0.002314     0.996045   \n",
       "std       0.024120    0.006086     0.018540    0.004590     0.006793   \n",
       "min       0.933378    0.000027     0.948378    0.000036     0.980687   \n",
       "25%       0.994339    0.000487     0.995179    0.000384     0.997950   \n",
       "50%       0.997571    0.000761     0.997872    0.000490     0.998737   \n",
       "75%       0.998002    0.001379     0.997898    0.001120     0.998795   \n",
       "max       0.999514    0.016796     0.999449    0.012664     0.999402   \n",
       "\n",
       "       modelC_std  \n",
       "count    7.000000  \n",
       "mean     0.000719  \n",
       "std      0.001484  \n",
       "min      0.000035  \n",
       "25%      0.000116  \n",
       "50%      0.000141  \n",
       "75%      0.000274  \n",
       "max      0.004077  "
      ]
     },
     "execution_count": 31,
     "metadata": {},
     "output_type": "execute_result"
    }
   ],
   "source": [
    "similarity_df.describe()"
   ]
  },
  {
   "cell_type": "code",
   "execution_count": 32,
   "metadata": {},
   "outputs": [
    {
     "data": {
      "text/plain": [
       "(0.9913959571861085, 0.0034288807618961105)"
      ]
     },
     "execution_count": 32,
     "metadata": {},
     "output_type": "execute_result"
    }
   ],
   "source": [
    "A = similarity_df['modelA_mean'].mean()\n",
    "B = similarity_df['modelB_mean'].mean()\n",
    "C = similarity_df['modelC_mean'].mean()\n",
    "np.mean([A,B,C]), np.std([A,B,C]) # promedio globla"
   ]
  },
  {
   "cell_type": "markdown",
   "metadata": {},
   "source": [
    "### Generación data relevante a diversidad post-expansión\n",
    "\n",
    "De igual forma a los gráficos, se utiliza como criterio el porcentaje de palabras del modelo que igualan o superan\n",
    "el valor de diversidad de la consulta original."
   ]
  },
  {
   "cell_type": "code",
   "execution_count": 33,
   "metadata": {},
   "outputs": [],
   "source": [
    "over_margin = pd.DataFrame()"
   ]
  },
  {
   "cell_type": "code",
   "execution_count": 34,
   "metadata": {},
   "outputs": [],
   "source": [
    "for i in range(len(file_names)):\n",
    "    a = len(modelA_q[i][modelA_q[i]['sum_cos']>= df.iloc[ref[i]][5]].index)/len(modelA_q[i].index)#*100\n",
    "    b = len(modelB_q[i][modelB_q[i]['sum_cos']>= df.iloc[ref[i]][5]].index)/len(modelB_q[i].index)#*100\n",
    "    c = len(modelC_q[i][modelC_q[i]['sum_cos']>= df.iloc[ref[i]][5]].index)/len(modelC_q[i].index)#*100\n",
    "    l = [df.iloc[ref[i]][5], a,b,c]\n",
    "    auxdf = pd.DataFrame([l])\n",
    "    over_margin = pd.concat([over_margin, auxdf])\n",
    "    "
   ]
  },
  {
   "cell_type": "code",
   "execution_count": 35,
   "metadata": {},
   "outputs": [],
   "source": [
    "over_margin = over_margin.rename(columns={0: \"sum_cos_ori\", 1: \"modelA\", 2: \"modelB\", 3: 'modelC'}).reset_index(drop=True)"
   ]
  },
  {
   "cell_type": "code",
   "execution_count": 36,
   "metadata": {},
   "outputs": [],
   "source": [
    "g2_div = [2.9081299399185845, 2.7453005052508046, 2.9588402338701147, 2.883981911233001, 2.969528170780222,\n",
    "         2.910536003630683, 2.961275486903843]"
   ]
  },
  {
   "cell_type": "code",
   "execution_count": 37,
   "metadata": {},
   "outputs": [
    {
     "data": {
      "text/html": [
       "<div>\n",
       "<style scoped>\n",
       "    .dataframe tbody tr th:only-of-type {\n",
       "        vertical-align: middle;\n",
       "    }\n",
       "\n",
       "    .dataframe tbody tr th {\n",
       "        vertical-align: top;\n",
       "    }\n",
       "\n",
       "    .dataframe thead th {\n",
       "        text-align: right;\n",
       "    }\n",
       "</style>\n",
       "<table border=\"1\" class=\"dataframe\">\n",
       "  <thead>\n",
       "    <tr style=\"text-align: right;\">\n",
       "      <th></th>\n",
       "      <th>sum_cos_ori</th>\n",
       "      <th>modelA</th>\n",
       "      <th>modelB</th>\n",
       "      <th>modelC</th>\n",
       "    </tr>\n",
       "  </thead>\n",
       "  <tbody>\n",
       "    <tr>\n",
       "      <th>count</th>\n",
       "      <td>7.000000</td>\n",
       "      <td>7.000000</td>\n",
       "      <td>7.000000</td>\n",
       "      <td>7.000000</td>\n",
       "    </tr>\n",
       "    <tr>\n",
       "      <th>mean</th>\n",
       "      <td>2.905370</td>\n",
       "      <td>0.457143</td>\n",
       "      <td>0.474286</td>\n",
       "      <td>0.437143</td>\n",
       "    </tr>\n",
       "    <tr>\n",
       "      <th>std</th>\n",
       "      <td>0.077690</td>\n",
       "      <td>0.190938</td>\n",
       "      <td>0.208395</td>\n",
       "      <td>0.165903</td>\n",
       "    </tr>\n",
       "    <tr>\n",
       "      <th>min</th>\n",
       "      <td>2.745301</td>\n",
       "      <td>0.220000</td>\n",
       "      <td>0.220000</td>\n",
       "      <td>0.220000</td>\n",
       "    </tr>\n",
       "    <tr>\n",
       "      <th>25%</th>\n",
       "      <td>2.896056</td>\n",
       "      <td>0.300000</td>\n",
       "      <td>0.290000</td>\n",
       "      <td>0.290000</td>\n",
       "    </tr>\n",
       "    <tr>\n",
       "      <th>50%</th>\n",
       "      <td>2.910536</td>\n",
       "      <td>0.500000</td>\n",
       "      <td>0.540000</td>\n",
       "      <td>0.500000</td>\n",
       "    </tr>\n",
       "    <tr>\n",
       "      <th>75%</th>\n",
       "      <td>2.960058</td>\n",
       "      <td>0.570000</td>\n",
       "      <td>0.610000</td>\n",
       "      <td>0.570000</td>\n",
       "    </tr>\n",
       "    <tr>\n",
       "      <th>max</th>\n",
       "      <td>2.969528</td>\n",
       "      <td>0.740000</td>\n",
       "      <td>0.760000</td>\n",
       "      <td>0.620000</td>\n",
       "    </tr>\n",
       "  </tbody>\n",
       "</table>\n",
       "</div>"
      ],
      "text/plain": [
       "       sum_cos_ori    modelA    modelB    modelC\n",
       "count     7.000000  7.000000  7.000000  7.000000\n",
       "mean      2.905370  0.457143  0.474286  0.437143\n",
       "std       0.077690  0.190938  0.208395  0.165903\n",
       "min       2.745301  0.220000  0.220000  0.220000\n",
       "25%       2.896056  0.300000  0.290000  0.290000\n",
       "50%       2.910536  0.500000  0.540000  0.500000\n",
       "75%       2.960058  0.570000  0.610000  0.570000\n",
       "max       2.969528  0.740000  0.760000  0.620000"
      ]
     },
     "execution_count": 37,
     "metadata": {},
     "output_type": "execute_result"
    }
   ],
   "source": [
    "over_margin.describe()"
   ]
  },
  {
   "cell_type": "markdown",
   "metadata": {},
   "source": [
    "### Exportación a csv par similarity_w y sum_cos"
   ]
  },
  {
   "cell_type": "code",
   "execution_count": 38,
   "metadata": {},
   "outputs": [],
   "source": [
    "modelA_pair = pd.DataFrame()\n",
    "modelB_pair = pd.DataFrame()\n",
    "modelC_pair = pd.DataFrame()"
   ]
  },
  {
   "cell_type": "code",
   "execution_count": 39,
   "metadata": {},
   "outputs": [],
   "source": [
    "for i in range(len(file_names)):\n",
    "    case =  modelA_q[i][['similarity_w','sum_cos']]\n",
    "    modelA_pair = pd.concat([modelA_pair, case])"
   ]
  },
  {
   "cell_type": "code",
   "execution_count": 40,
   "metadata": {},
   "outputs": [],
   "source": [
    "for i in range(len(file_names)):\n",
    "    case =  modelB_q[i][['similarity_w','sum_cos']]\n",
    "    modelB_pair = pd.concat([modelB_pair, case])"
   ]
  },
  {
   "cell_type": "code",
   "execution_count": 41,
   "metadata": {},
   "outputs": [],
   "source": [
    "for i in range(len(file_names)):\n",
    "    case =  modelC_q[i][['similarity_w','sum_cos']]\n",
    "    modelC_pair = pd.concat([modelC_pair, case])"
   ]
  },
  {
   "cell_type": "code",
   "execution_count": 42,
   "metadata": {},
   "outputs": [
    {
     "data": {
      "text/html": [
       "<div>\n",
       "<style scoped>\n",
       "    .dataframe tbody tr th:only-of-type {\n",
       "        vertical-align: middle;\n",
       "    }\n",
       "\n",
       "    .dataframe tbody tr th {\n",
       "        vertical-align: top;\n",
       "    }\n",
       "\n",
       "    .dataframe thead th {\n",
       "        text-align: right;\n",
       "    }\n",
       "</style>\n",
       "<table border=\"1\" class=\"dataframe\">\n",
       "  <thead>\n",
       "    <tr style=\"text-align: right;\">\n",
       "      <th></th>\n",
       "      <th>similarity_w</th>\n",
       "      <th>sum_cos</th>\n",
       "    </tr>\n",
       "  </thead>\n",
       "  <tbody>\n",
       "    <tr>\n",
       "      <th>count</th>\n",
       "      <td>350.000000</td>\n",
       "      <td>350.000000</td>\n",
       "    </tr>\n",
       "    <tr>\n",
       "      <th>mean</th>\n",
       "      <td>0.987878</td>\n",
       "      <td>2.838946</td>\n",
       "    </tr>\n",
       "    <tr>\n",
       "      <th>std</th>\n",
       "      <td>0.023246</td>\n",
       "      <td>0.213549</td>\n",
       "    </tr>\n",
       "    <tr>\n",
       "      <th>min</th>\n",
       "      <td>0.913456</td>\n",
       "      <td>1.438302</td>\n",
       "    </tr>\n",
       "    <tr>\n",
       "      <th>25%</th>\n",
       "      <td>0.993955</td>\n",
       "      <td>2.807929</td>\n",
       "    </tr>\n",
       "    <tr>\n",
       "      <th>50%</th>\n",
       "      <td>0.997069</td>\n",
       "      <td>2.914982</td>\n",
       "    </tr>\n",
       "    <tr>\n",
       "      <th>75%</th>\n",
       "      <td>0.998415</td>\n",
       "      <td>2.966460</td>\n",
       "    </tr>\n",
       "    <tr>\n",
       "      <th>max</th>\n",
       "      <td>0.999591</td>\n",
       "      <td>3.000000</td>\n",
       "    </tr>\n",
       "  </tbody>\n",
       "</table>\n",
       "</div>"
      ],
      "text/plain": [
       "       similarity_w     sum_cos\n",
       "count    350.000000  350.000000\n",
       "mean       0.987878    2.838946\n",
       "std        0.023246    0.213549\n",
       "min        0.913456    1.438302\n",
       "25%        0.993955    2.807929\n",
       "50%        0.997069    2.914982\n",
       "75%        0.998415    2.966460\n",
       "max        0.999591    3.000000"
      ]
     },
     "execution_count": 42,
     "metadata": {},
     "output_type": "execute_result"
    }
   ],
   "source": [
    "modelA_pair.describe()"
   ]
  },
  {
   "cell_type": "code",
   "execution_count": 43,
   "metadata": {},
   "outputs": [],
   "source": [
    "#modelB_pair.to_csv('g2_modelB_pairs2.csv', index=False)"
   ]
  }
 ],
 "metadata": {
  "kernelspec": {
   "display_name": "Python 3",
   "language": "python",
   "name": "python3"
  },
  "language_info": {
   "codemirror_mode": {
    "name": "ipython",
    "version": 3
   },
   "file_extension": ".py",
   "mimetype": "text/x-python",
   "name": "python",
   "nbconvert_exporter": "python",
   "pygments_lexer": "ipython3",
   "version": "3.8.5"
  }
 },
 "nbformat": 4,
 "nbformat_minor": 4
}
