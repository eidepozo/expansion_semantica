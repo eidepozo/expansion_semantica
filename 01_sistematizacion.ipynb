{
 "cells": [
  {
   "cell_type": "markdown",
   "metadata": {},
   "source": [
    "@eidepozo\n",
    "\n",
    "## Sistematización\n",
    "\n",
    "Consiste en la generación del corpus mediante el procesamiento de snippets usando la función  `corpus_builder`. Tambien incluye el entrenamiento de modelos Word2vec para la obtención de terminos semanticamente relevantes.\n",
    "\n",
    "### Parámetros\n",
    "\n",
    "**Corpus**\n",
    "- maxq (1) {1-3}: cantidad de querys a utilizar por usuario (delimita volumen de data)\n",
    "- nickname: data individual o global (30)\n",
    "- context (False): información contextual del desafio\n",
    "- duplicates (False): solo snippets  unicos\n",
    "- sentences (False): un snippet representa un elemento del arreglo de palabras o por cada oración, asociado al formato\n",
    "requerido por el modelo.\n",
    "\n",
    "\n",
    "**Modelo** (implementación gensim por Radim Rehurek: https://radimrehurek.com/gensim/models/word2vec.html\n",
    ")\n",
    "- **sentences**: coleccion de entrada o corpus\n",
    "- min_count:  frecuencia minima de palabras \n",
    "- sg: arquitectura del modelo (CBOW o SkipGram)\n",
    "- window: ventana o distancia maxima desde la palabra de entrada"
   ]
  },
  {
   "cell_type": "code",
   "execution_count": 1,
   "metadata": {},
   "outputs": [],
   "source": [
    "#https://stackoverflow.com/questions/34478398/import-local-function-from-a-module-housed-in-another-directory-with-relative-im\n",
    "#https://stackoverflow.com/questions/27365273/python-3-module-in-same-directory-as-script-importerror-no-module-named/27365730\n",
    "\n",
    "import os\n",
    "import sys\n",
    "module_path = os.path.abspath(os.path.join('..'))\n",
    "if module_path not in sys.path:\n",
    "    sys.path.append(module_path)"
   ]
  },
  {
   "cell_type": "code",
   "execution_count": 2,
   "metadata": {},
   "outputs": [],
   "source": [
    "from src.recommendation import corpus_builder"
   ]
  },
  {
   "cell_type": "markdown",
   "metadata": {},
   "source": [
    " `corpus_builder(challenge_id, context=False, nickname=None, maxq=1, duplicates=False, sentences=False)`"
   ]
  },
  {
   "cell_type": "code",
   "execution_count": 3,
   "metadata": {},
   "outputs": [
    {
     "name": "stderr",
     "output_type": "stream",
     "text": [
      "C:\\Users\\Marcelo\\Desktop\\recomendacion_de_terminos\\src\\filtering.py:14: SettingWithCopyWarning: \n",
      "A value is trying to be set on a copy of a slice from a DataFrame.\n",
      "Try using .loc[row_indexer,col_indexer] = value instead\n",
      "\n",
      "See the caveats in the documentation: https://pandas.pydata.org/pandas-docs/stable/user_guide/indexing.html#returning-a-view-versus-a-copy\n",
      "  filtered_data['snippet'] = filtered_data['snippet'].map(lambda text: BeautifulSoup(text, 'html.parser').get_text())\n"
     ]
    }
   ],
   "source": [
    "sentences = corpus_builder(challenge_id=4, maxq=3, sentences=True)\n",
    "paragraphs = corpus_builder(challenge_id=4, maxq=3, sentences=False)"
   ]
  },
  {
   "cell_type": "code",
   "execution_count": 4,
   "metadata": {},
   "outputs": [
    {
     "data": {
      "text/plain": [
       "[['cómo', 'construir', 'auto', 'deportivo', 'dinero'],\n",
       " ['coches', 'curiosidades', 'inventos', 'raros'],\n",
       " ['cómo', 'construir', 'auto', 'deportivo', 'dinero'],\n",
       " ['dogguie', 'años', 'ago', 'comentarios'],\n",
       " ['prev', 'article', 'next', 'article']]"
      ]
     },
     "execution_count": 4,
     "metadata": {},
     "output_type": "execute_result"
    }
   ],
   "source": [
    "sentences[:5]"
   ]
  },
  {
   "cell_type": "code",
   "execution_count": 5,
   "metadata": {},
   "outputs": [],
   "source": [
    "#https://stackoverflow.com/questions/14037540/writing-a-python-list-of-lists-to-a-csv-file\n",
    "#import csv"
   ]
  },
  {
   "cell_type": "code",
   "execution_count": 6,
   "metadata": {},
   "outputs": [],
   "source": [
    "#with open(\"sentences.csv\", \"w\", newline=\"\") as f:\n",
    "#    writer = csv.writer(f)\n",
    "#    writer.writerows(sentences)"
   ]
  },
  {
   "cell_type": "code",
   "execution_count": 7,
   "metadata": {},
   "outputs": [],
   "source": [
    "#with open(\"paragraphs.csv\", \"w\", newline=\"\") as f:\n",
    "#    writer = csv.writer(f)\n",
    "#    writer.writerows(paragraphs)"
   ]
  },
  {
   "cell_type": "code",
   "execution_count": 8,
   "metadata": {},
   "outputs": [],
   "source": [
    "#https://tedboy.github.io/nlps/generated/generated/gensim.models.Word2Vec.most_similar.html\n",
    "from gensim.models import Word2Vec"
   ]
  },
  {
   "cell_type": "code",
   "execution_count": 9,
   "metadata": {},
   "outputs": [
    {
     "data": {
      "text/plain": [
       "'\\nmodelA = Word2Vec(sentences, min_count=5, sg=1, window=5) # estandar\\nmodelB = Word2Vec(sentences, min_count=8, sg=1, window=5)  \\nmodelC = Word2Vec(sentences, min_count=15, sg=1, window=5)\\n'"
      ]
     },
     "execution_count": 9,
     "metadata": {},
     "output_type": "execute_result"
    }
   ],
   "source": [
    "'''\n",
    "modelA = Word2Vec(sentences, min_count=5, sg=1, window=5) # estandar\n",
    "modelB = Word2Vec(sentences, min_count=8, sg=1, window=5)  \n",
    "modelC = Word2Vec(sentences, min_count=15, sg=1, window=5)\n",
    "'''"
   ]
  },
  {
   "cell_type": "code",
   "execution_count": 10,
   "metadata": {},
   "outputs": [],
   "source": [
    "modelB = Word2Vec.load('modelB/word2vec.modelB')"
   ]
  },
  {
   "cell_type": "code",
   "execution_count": 11,
   "metadata": {},
   "outputs": [
    {
     "data": {
      "text/plain": [
       "1416"
      ]
     },
     "metadata": {},
     "output_type": "display_data"
    }
   ],
   "source": [
    "vocab = list(modelB.wv.vocab)\n",
    "display(len(vocab))"
   ]
  },
  {
   "cell_type": "code",
   "execution_count": 12,
   "metadata": {},
   "outputs": [
    {
     "data": {
      "text/plain": [
       "[('puede', 0.9987460374832153),\n",
       " ('debe', 0.9986790418624878),\n",
       " ('materiales', 0.9986675977706909),\n",
       " ('puedes', 0.9986528158187866),\n",
       " ('mismo', 0.9986042976379395),\n",
       " ('tiempo', 0.9985402226448059),\n",
       " ('manera', 0.9985357522964478),\n",
       " ('realizar', 0.9984951615333557),\n",
       " ('pueden', 0.9984765648841858),\n",
       " ('cualquier', 0.9984240531921387),\n",
       " ('mejor', 0.998420238494873),\n",
       " ('casa', 0.9984017610549927),\n",
       " ('chasis', 0.9983469843864441),\n",
       " ('aprender', 0.9982991218566895),\n",
       " ('dos', 0.9982213377952576)]"
      ]
     },
     "metadata": {},
     "output_type": "display_data"
    }
   ],
   "source": [
    "try:\n",
    "    display(modelB.wv.most_similar(['auto'], topn=15))\n",
    "except KeyError:\n",
    "    print(\"Esta palabra no aparece en el modelo\")"
   ]
  }
 ],
 "metadata": {
  "kernelspec": {
   "display_name": "Python 3",
   "language": "python",
   "name": "python3"
  },
  "language_info": {
   "codemirror_mode": {
    "name": "ipython",
    "version": 3
   },
   "file_extension": ".py",
   "mimetype": "text/x-python",
   "name": "python",
   "nbconvert_exporter": "python",
   "pygments_lexer": "ipython3",
   "version": "3.8.5"
  }
 },
 "nbformat": 4,
 "nbformat_minor": 4
}
