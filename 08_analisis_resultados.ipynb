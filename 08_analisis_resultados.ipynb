{
 "cells": [
  {
   "cell_type": "code",
   "execution_count": 1,
   "metadata": {},
   "outputs": [],
   "source": [
    "import pandas as pd"
   ]
  },
  {
   "cell_type": "code",
   "execution_count": 2,
   "metadata": {},
   "outputs": [],
   "source": [
    "gg = pd.read_csv('consulta_frec_sum_cos.csv')"
   ]
  },
  {
   "cell_type": "code",
   "execution_count": 3,
   "metadata": {},
   "outputs": [
    {
     "data": {
      "text/html": [
       "<div>\n",
       "<style scoped>\n",
       "    .dataframe tbody tr th:only-of-type {\n",
       "        vertical-align: middle;\n",
       "    }\n",
       "\n",
       "    .dataframe tbody tr th {\n",
       "        vertical-align: top;\n",
       "    }\n",
       "\n",
       "    .dataframe thead th {\n",
       "        text-align: right;\n",
       "    }\n",
       "</style>\n",
       "<table border=\"1\" class=\"dataframe\">\n",
       "  <thead>\n",
       "    <tr style=\"text-align: right;\">\n",
       "      <th></th>\n",
       "      <th>consulta</th>\n",
       "      <th>frecuencia</th>\n",
       "      <th>sum_cos</th>\n",
       "    </tr>\n",
       "  </thead>\n",
       "  <tbody>\n",
       "    <tr>\n",
       "      <th>0</th>\n",
       "      <td>como hacer un auto</td>\n",
       "      <td>4</td>\n",
       "      <td>0.091870</td>\n",
       "    </tr>\n",
       "    <tr>\n",
       "      <th>1</th>\n",
       "      <td>soapbox vehiculo</td>\n",
       "      <td>2</td>\n",
       "      <td>0.254699</td>\n",
       "    </tr>\n",
       "    <tr>\n",
       "      <th>2</th>\n",
       "      <td>como construir un automovil de carreras</td>\n",
       "      <td>6</td>\n",
       "      <td>0.041160</td>\n",
       "    </tr>\n",
       "    <tr>\n",
       "      <th>3</th>\n",
       "      <td>automovil soapbox carrera</td>\n",
       "      <td>3</td>\n",
       "      <td>0.116018</td>\n",
       "    </tr>\n",
       "    <tr>\n",
       "      <th>4</th>\n",
       "      <td>construir un auto</td>\n",
       "      <td>3</td>\n",
       "      <td>0.030472</td>\n",
       "    </tr>\n",
       "    <tr>\n",
       "      <th>5</th>\n",
       "      <td>planes para crear un automovil</td>\n",
       "      <td>5</td>\n",
       "      <td>0.089464</td>\n",
       "    </tr>\n",
       "    <tr>\n",
       "      <th>6</th>\n",
       "      <td>construir un automovil</td>\n",
       "      <td>3</td>\n",
       "      <td>0.038725</td>\n",
       "    </tr>\n",
       "    <tr>\n",
       "      <th>7</th>\n",
       "      <td>como construir un automovil</td>\n",
       "      <td>4</td>\n",
       "      <td>0.090246</td>\n",
       "    </tr>\n",
       "    <tr>\n",
       "      <th>8</th>\n",
       "      <td>soapbox</td>\n",
       "      <td>1</td>\n",
       "      <td>0.300216</td>\n",
       "    </tr>\n",
       "    <tr>\n",
       "      <th>9</th>\n",
       "      <td>como construir un auto de carreras</td>\n",
       "      <td>6</td>\n",
       "      <td>0.144053</td>\n",
       "    </tr>\n",
       "    <tr>\n",
       "      <th>10</th>\n",
       "      <td>construir automovil derby soapbox</td>\n",
       "      <td>4</td>\n",
       "      <td>0.423954</td>\n",
       "    </tr>\n",
       "    <tr>\n",
       "      <th>11</th>\n",
       "      <td>plan basico para construir un auto</td>\n",
       "      <td>6</td>\n",
       "      <td>0.042380</td>\n",
       "    </tr>\n",
       "    <tr>\n",
       "      <th>12</th>\n",
       "      <td>partes de un automovil</td>\n",
       "      <td>4</td>\n",
       "      <td>0.142349</td>\n",
       "    </tr>\n",
       "    <tr>\n",
       "      <th>13</th>\n",
       "      <td>roblox como crear autos</td>\n",
       "      <td>4</td>\n",
       "      <td>0.136133</td>\n",
       "    </tr>\n",
       "    <tr>\n",
       "      <th>14</th>\n",
       "      <td>pasos basicos para construir un auto</td>\n",
       "      <td>6</td>\n",
       "      <td>0.052547</td>\n",
       "    </tr>\n",
       "    <tr>\n",
       "      <th>15</th>\n",
       "      <td>caracteristicas necesarias para un auto</td>\n",
       "      <td>5</td>\n",
       "      <td>0.145326</td>\n",
       "    </tr>\n",
       "    <tr>\n",
       "      <th>16</th>\n",
       "      <td>soapbox carreras</td>\n",
       "      <td>2</td>\n",
       "      <td>0.071738</td>\n",
       "    </tr>\n",
       "    <tr>\n",
       "      <th>17</th>\n",
       "      <td>arquitectura de un automovil</td>\n",
       "      <td>4</td>\n",
       "      <td>0.082859</td>\n",
       "    </tr>\n",
       "    <tr>\n",
       "      <th>18</th>\n",
       "      <td>autos soapbox</td>\n",
       "      <td>2</td>\n",
       "      <td>0.227172</td>\n",
       "    </tr>\n",
       "  </tbody>\n",
       "</table>\n",
       "</div>"
      ],
      "text/plain": [
       "                                   consulta  frecuencia   sum_cos\n",
       "0                        como hacer un auto           4  0.091870\n",
       "1                          soapbox vehiculo           2  0.254699\n",
       "2   como construir un automovil de carreras           6  0.041160\n",
       "3                 automovil soapbox carrera           3  0.116018\n",
       "4                         construir un auto           3  0.030472\n",
       "5            planes para crear un automovil           5  0.089464\n",
       "6                    construir un automovil           3  0.038725\n",
       "7               como construir un automovil           4  0.090246\n",
       "8                                   soapbox           1  0.300216\n",
       "9        como construir un auto de carreras           6  0.144053\n",
       "10        construir automovil derby soapbox           4  0.423954\n",
       "11       plan basico para construir un auto           6  0.042380\n",
       "12                   partes de un automovil           4  0.142349\n",
       "13                  roblox como crear autos           4  0.136133\n",
       "14     pasos basicos para construir un auto           6  0.052547\n",
       "15  caracteristicas necesarias para un auto           5  0.145326\n",
       "16                         soapbox carreras           2  0.071738\n",
       "17             arquitectura de un automovil           4  0.082859\n",
       "18                            autos soapbox           2  0.227172"
      ]
     },
     "execution_count": 3,
     "metadata": {},
     "output_type": "execute_result"
    }
   ],
   "source": [
    "gg"
   ]
  },
  {
   "cell_type": "code",
   "execution_count": 4,
   "metadata": {},
   "outputs": [
    {
     "data": {
      "text/html": [
       "<div>\n",
       "<style scoped>\n",
       "    .dataframe tbody tr th:only-of-type {\n",
       "        vertical-align: middle;\n",
       "    }\n",
       "\n",
       "    .dataframe tbody tr th {\n",
       "        vertical-align: top;\n",
       "    }\n",
       "\n",
       "    .dataframe thead th {\n",
       "        text-align: right;\n",
       "    }\n",
       "</style>\n",
       "<table border=\"1\" class=\"dataframe\">\n",
       "  <thead>\n",
       "    <tr style=\"text-align: right;\">\n",
       "      <th></th>\n",
       "      <th>frecuencia</th>\n",
       "      <th>sum_cos</th>\n",
       "    </tr>\n",
       "  </thead>\n",
       "  <tbody>\n",
       "    <tr>\n",
       "      <th>count</th>\n",
       "      <td>19.000000</td>\n",
       "      <td>19.000000</td>\n",
       "    </tr>\n",
       "    <tr>\n",
       "      <th>mean</th>\n",
       "      <td>3.894737</td>\n",
       "      <td>0.132704</td>\n",
       "    </tr>\n",
       "    <tr>\n",
       "      <th>std</th>\n",
       "      <td>1.523692</td>\n",
       "      <td>0.103052</td>\n",
       "    </tr>\n",
       "    <tr>\n",
       "      <th>min</th>\n",
       "      <td>1.000000</td>\n",
       "      <td>0.030472</td>\n",
       "    </tr>\n",
       "    <tr>\n",
       "      <th>25%</th>\n",
       "      <td>3.000000</td>\n",
       "      <td>0.062142</td>\n",
       "    </tr>\n",
       "    <tr>\n",
       "      <th>50%</th>\n",
       "      <td>4.000000</td>\n",
       "      <td>0.091870</td>\n",
       "    </tr>\n",
       "    <tr>\n",
       "      <th>75%</th>\n",
       "      <td>5.000000</td>\n",
       "      <td>0.144689</td>\n",
       "    </tr>\n",
       "    <tr>\n",
       "      <th>max</th>\n",
       "      <td>6.000000</td>\n",
       "      <td>0.423954</td>\n",
       "    </tr>\n",
       "  </tbody>\n",
       "</table>\n",
       "</div>"
      ],
      "text/plain": [
       "       frecuencia    sum_cos\n",
       "count   19.000000  19.000000\n",
       "mean     3.894737   0.132704\n",
       "std      1.523692   0.103052\n",
       "min      1.000000   0.030472\n",
       "25%      3.000000   0.062142\n",
       "50%      4.000000   0.091870\n",
       "75%      5.000000   0.144689\n",
       "max      6.000000   0.423954"
      ]
     },
     "execution_count": 4,
     "metadata": {},
     "output_type": "execute_result"
    }
   ],
   "source": [
    "gg.describe()"
   ]
  },
  {
   "cell_type": "code",
   "execution_count": 5,
   "metadata": {},
   "outputs": [
    {
     "data": {
      "text/html": [
       "<div>\n",
       "<style scoped>\n",
       "    .dataframe tbody tr th:only-of-type {\n",
       "        vertical-align: middle;\n",
       "    }\n",
       "\n",
       "    .dataframe tbody tr th {\n",
       "        vertical-align: top;\n",
       "    }\n",
       "\n",
       "    .dataframe thead th {\n",
       "        text-align: right;\n",
       "    }\n",
       "</style>\n",
       "<table border=\"1\" class=\"dataframe\">\n",
       "  <thead>\n",
       "    <tr style=\"text-align: right;\">\n",
       "      <th></th>\n",
       "      <th>consulta</th>\n",
       "      <th>frecuencia</th>\n",
       "      <th>sum_cos</th>\n",
       "    </tr>\n",
       "  </thead>\n",
       "  <tbody>\n",
       "    <tr>\n",
       "      <th>2</th>\n",
       "      <td>como construir un automovil de carreras</td>\n",
       "      <td>6</td>\n",
       "      <td>0.041160</td>\n",
       "    </tr>\n",
       "    <tr>\n",
       "      <th>9</th>\n",
       "      <td>como construir un auto de carreras</td>\n",
       "      <td>6</td>\n",
       "      <td>0.144053</td>\n",
       "    </tr>\n",
       "    <tr>\n",
       "      <th>11</th>\n",
       "      <td>plan basico para construir un auto</td>\n",
       "      <td>6</td>\n",
       "      <td>0.042380</td>\n",
       "    </tr>\n",
       "    <tr>\n",
       "      <th>14</th>\n",
       "      <td>pasos basicos para construir un auto</td>\n",
       "      <td>6</td>\n",
       "      <td>0.052547</td>\n",
       "    </tr>\n",
       "  </tbody>\n",
       "</table>\n",
       "</div>"
      ],
      "text/plain": [
       "                                   consulta  frecuencia   sum_cos\n",
       "2   como construir un automovil de carreras           6  0.041160\n",
       "9        como construir un auto de carreras           6  0.144053\n",
       "11       plan basico para construir un auto           6  0.042380\n",
       "14     pasos basicos para construir un auto           6  0.052547"
      ]
     },
     "execution_count": 5,
     "metadata": {},
     "output_type": "execute_result"
    }
   ],
   "source": [
    "gg[gg['frecuencia']==6]"
   ]
  },
  {
   "cell_type": "code",
   "execution_count": 6,
   "metadata": {},
   "outputs": [],
   "source": [
    "import matplotlib.pyplot as plt"
   ]
  },
  {
   "cell_type": "code",
   "execution_count": 7,
   "metadata": {},
   "outputs": [],
   "source": [
    "frec = [x +1 for x in range (6)]"
   ]
  },
  {
   "cell_type": "code",
   "execution_count": 8,
   "metadata": {},
   "outputs": [
    {
     "data": {
      "text/plain": [
       "0.07003495739861322"
      ]
     },
     "execution_count": 8,
     "metadata": {},
     "output_type": "execute_result"
    }
   ],
   "source": [
    "gg[gg['frecuencia']==6]['sum_cos'].mean()"
   ]
  },
  {
   "cell_type": "code",
   "execution_count": 9,
   "metadata": {},
   "outputs": [],
   "source": [
    "frec_mean = [0.3002164361696985, 0.18453643145692247,0.06173814369431139,0.16123534177688562, 0.11739482839399104, 0.07003495739861322]"
   ]
  },
  {
   "cell_type": "code",
   "execution_count": 10,
   "metadata": {},
   "outputs": [],
   "source": [
    "bar_tick_label = ['T1', 'T2', 'T3', 'T4', 'T5', 'T6']"
   ]
  },
  {
   "cell_type": "code",
   "execution_count": 11,
   "metadata": {},
   "outputs": [],
   "source": [
    "bar_label=[1, 3, 3, 6, 2, 4]"
   ]
  },
  {
   "cell_type": "code",
   "execution_count": 12,
   "metadata": {},
   "outputs": [],
   "source": [
    "def autolabel(rects):\n",
    "    for idx,rect in enumerate(bar_plot):\n",
    "        height = rect.get_height()\n",
    "        ax.text(rect.get_x() + rect.get_width()/2., 0.5*height,\n",
    "                bar_label[idx],\n",
    "                ha='center', va='bottom', rotation=0)"
   ]
  },
  {
   "cell_type": "code",
   "execution_count": 22,
   "metadata": {
    "scrolled": true
   },
   "outputs": [
    {
     "data": {
      "image/png": "[encoded data removed]",
      "text/plain": [
       "<Figure size 504x360 with 1 Axes>"
      ]
     },
     "metadata": {
      "needs_background": "light"
     },
     "output_type": "display_data"
    }
   ],
   "source": [
    "# https://moonbooks.org/Articles/How-to-add-text-on-a-bar-with-matplotlib-/\n",
    "\n",
    "\n",
    "fig, ax = plt.subplots(figsize=(7,5))\n",
    "\n",
    "bar_plot = plt.bar(frec, frec_mean, color='#957dad', label=r'$\\overline{sum\\_cos\\_ori}$', tick_label=bar_tick_label)\n",
    "plt.legend()\n",
    "\n",
    "autolabel(bar_plot)\n",
    "\n",
    "plt.show()"
   ]
  },
  {
   "cell_type": "code",
   "execution_count": 14,
   "metadata": {},
   "outputs": [],
   "source": [
    "# G1\n",
    "\n",
    "u_wordsg1 =[83, 75, 97, 75, 78, 83, 86, 78, 78, 97, 83, 75]"
   ]
  },
  {
   "cell_type": "code",
   "execution_count": 15,
   "metadata": {},
   "outputs": [],
   "source": [
    "u_wordsg2 = [78, 98, 97, 88, 83, 72]"
   ]
  },
  {
   "cell_type": "code",
   "execution_count": 16,
   "metadata": {},
   "outputs": [],
   "source": [
    "import numpy as np"
   ]
  },
  {
   "cell_type": "code",
   "execution_count": 17,
   "metadata": {},
   "outputs": [
    {
     "data": {
      "text/plain": [
       "82.33333333333333"
      ]
     },
     "metadata": {},
     "output_type": "display_data"
    },
    {
     "data": {
      "text/plain": [
       "7.431165603202651"
      ]
     },
     "metadata": {},
     "output_type": "display_data"
    },
    {
     "data": {
      "text/plain": [
       "86.0"
      ]
     },
     "metadata": {},
     "output_type": "display_data"
    },
    {
     "data": {
      "text/plain": [
       "9.46924847422786"
      ]
     },
     "metadata": {},
     "output_type": "display_data"
    }
   ],
   "source": [
    "display(np.mean(u_wordsg1),np.std(u_wordsg1), np.mean(u_wordsg2), np.std(u_wordsg2))"
   ]
  },
  {
   "cell_type": "code",
   "execution_count": 18,
   "metadata": {},
   "outputs": [
    {
     "data": {
      "text/plain": [
       "54.88888888888888"
      ]
     },
     "execution_count": 18,
     "metadata": {},
     "output_type": "execute_result"
    }
   ],
   "source": [
    "np.mean(u_wordsg1)*100/150"
   ]
  },
  {
   "cell_type": "code",
   "execution_count": 19,
   "metadata": {},
   "outputs": [
    {
     "data": {
      "text/plain": [
       "57.333333333333336"
      ]
     },
     "execution_count": 19,
     "metadata": {},
     "output_type": "execute_result"
    }
   ],
   "source": [
    "np.mean(u_wordsg2)*100/150"
   ]
  },
  {
   "cell_type": "code",
   "execution_count": 41,
   "metadata": {},
   "outputs": [],
   "source": [
    "import matplotlib"
   ]
  },
  {
   "cell_type": "code",
   "execution_count": 66,
   "metadata": {},
   "outputs": [
    {
     "data": {
      "image/png": "[encoded data removed]",
      "text/plain": [
       "<Figure size 504x360 with 1 Axes>"
      ]
     },
     "metadata": {
      "needs_background": "light"
     },
     "output_type": "display_data"
    }
   ],
   "source": [
    "labels = ['0-10', '10-20', '20-30', '30-40', '40-50']\n",
    "sum_cos_means_g1 = [0.183570, 0.193830, 0.190552, 0.144644, 0.156934]\n",
    "sum_cos_means_g2 =[0.160817,0.183363,0.128099,0.106497,0.141023]\n",
    "\n",
    "\n",
    "x = np.arange(len(labels))  # the label locations\n",
    "width = 0.35  # the width of the bars\n",
    "\n",
    "fig, ax = plt.subplots(figsize=(7,5))\n",
    "ax.margins(y=0.20)\n",
    "rects1 = ax.bar(x - width/2, sum_cos_means_g1, width, label='Grupo 1', color=\"#009f75\")\n",
    "rects2 = ax.bar(x + width/2, sum_cos_means_g2, width, label='Grupo 2', color=\"#ef4444\")\n",
    "\n",
    "# Add some text for labels, title and custom x-axis tick labels, etc.\n",
    "ax.set_ylabel('Diversidad promedio')\n",
    "ax.set_xticks(x)\n",
    "ax.set_xticklabels(labels)\n",
    "ax.legend()\n",
    "\n",
    "#https://www.pythoncharts.com/matplotlib/grouped-bar-charts-matplotlib/\n",
    "for bar in ax.patches:\n",
    "  # The text annotation for each bar should be its height.\n",
    "  bar_value = bar.get_height()\n",
    "  # Format the text with commas to separate thousands. You can do\n",
    "  # any type of formatting here though.\n",
    "  text = f'{bar_value:,}'\n",
    "  # This will give the middle of each bar on the x-axis.\n",
    "  text_x = bar.get_x() + bar.get_width() / 2\n",
    "  # get_y() is where the bar starts so we add the height to it.\n",
    "  text_y = bar.get_y() + bar_value\n",
    "  # If we want the text to be the same color as the bar, we can\n",
    "  # get the color like so:\n",
    "  #bar_color = bar.get_facecolor()\n",
    "  # If you want a consistent color, you can just set it as a constant, e.g. #222222\n",
    "  ax.text(text_x, text_y, \"{:.3f}\".format(float(text)), ha='center', va='bottom')#color=bar_color, size=12)\n",
    "fig.tight_layout()\n",
    "\n",
    "plt.show()"
   ]
  },
  {
   "cell_type": "code",
   "execution_count": null,
   "metadata": {},
   "outputs": [],
   "source": []
  }
 ],
 "metadata": {
  "kernelspec": {
   "display_name": "Python 3",
   "language": "python",
   "name": "python3"
  },
  "language_info": {
   "codemirror_mode": {
    "name": "ipython",
    "version": 3
   },
   "file_extension": ".py",
   "mimetype": "text/x-python",
   "name": "python",
   "nbconvert_exporter": "python",
   "pygments_lexer": "ipython3",
   "version": "3.8.5"
  }
 },
 "nbformat": 4,
 "nbformat_minor": 4
}
